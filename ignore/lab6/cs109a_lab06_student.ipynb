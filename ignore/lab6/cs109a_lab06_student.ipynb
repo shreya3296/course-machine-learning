{
 "cells": [
  {
   "cell_type": "code",
   "execution_count": 1,
   "id": "ed1b2b11",
   "metadata": {},
   "outputs": [],
   "source": [
    "import pandas as pd\n",
    "import numpy as np\n",
    "import matplotlib.pyplot as plt\n",
    "import matplotlib.ticker as mtick\n",
    "from matplotlib.offsetbox import OffsetImage, AnnotationBbox\n",
    "import seaborn as sns\n",
    "from sklearn.preprocessing import StandardScaler, PolynomialFeatures\n",
    "from sklearn.manifold import TSNE\n",
    "from sklearn.decomposition import PCA\n",
    "from sklearn.model_selection import train_test_split, cross_validate, cross_val_score\n",
    "from sklearn.linear_model import LinearRegression, Lasso, LassoCV, RidgeCV\n",
    "from sklearn.metrics import mean_squared_error\n",
    "from sklearn.pipeline import make_pipeline, Pipeline\n",
    "from sklearn.base import BaseEstimator, TransformerMixin\n",
    "from sklearn.manifold import TSNE\n",
    "\n",
    "from warnings import simplefilter\n",
    "simplefilter('ignore', category=UserWarning) # ignore a pesky warning in fashion plot"
   ]
  },
  {
   "attachments": {},
   "cell_type": "markdown",
   "id": "4f4b335a",
   "metadata": {},
   "source": [
    "# <img style=\"float: left; padding-right: 10px; width: 45px\" src=\"https://raw.githubusercontent.com/Harvard-IACS/2018-CS109A/master/content/styles/iacs.png\"> CS109A Introduction to Data Science "
   ]
  },
  {
   "attachments": {},
   "cell_type": "markdown",
   "id": "914b05bc",
   "metadata": {},
   "source": [
    "## Lab 6: Principal Components Analysis (PCA)\n",
    "\n",
    "**Harvard University**<br/>\n",
    "**Fall 2023**<br/>\n",
    "**Instructors**: Pavlos Protopapas and Kevin Rader<br/>\n",
    "<hr style='height:2px'>"
   ]
  },
  {
   "attachments": {},
   "cell_type": "markdown",
   "id": "e585d84d",
   "metadata": {},
   "source": [
    "## Topics\n",
    "- Finding Principle Components\n",
    "    1. eigenvector decomposition\n",
    "    2. singular value decomposition (SVD)\n",
    "    3. SKLearn's PCA class\n",
    "- Projecting the Data onto the Principle Components\n",
    "- Inspecting Predictors' Contributions to Each Component\n",
    "- Principle Component Regression (PCR)\n",
    "    - Coefficients in terms of the original predictors\n",
    "    - Selecting the number of components\n",
    "    - PCA /w cross-validation & regularization\n",
    "- More PCA visualization examples\n",
    "- t-SNE: Non-linear dimensionality reduction"
   ]
  },
  {
   "attachments": {},
   "cell_type": "markdown",
   "id": "a44c8a2b",
   "metadata": {},
   "source": [
    "## Test Scores Data"
   ]
  },
  {
   "attachments": {},
   "cell_type": "markdown",
   "id": "479c0aa3",
   "metadata": {},
   "source": [
    "For our first example, we'll use a data set of test scores in different courses for 1,000 students.\n",
    "\n",
    "The dataset is in `data/exams.csv`"
   ]
  },
  {
   "attachments": {},
   "cell_type": "markdown",
   "id": "be0943aa",
   "metadata": {},
   "source": [
    "Read in the csv into a DataFrame and take a look with `df.head()`."
   ]
  },
  {
   "cell_type": "code",
   "execution_count": 2,
   "id": "a5279c92",
   "metadata": {},
   "outputs": [
    {
     "data": {
      "text/html": [
       "<div>\n",
       "<style scoped>\n",
       "    .dataframe tbody tr th:only-of-type {\n",
       "        vertical-align: middle;\n",
       "    }\n",
       "\n",
       "    .dataframe tbody tr th {\n",
       "        vertical-align: top;\n",
       "    }\n",
       "\n",
       "    .dataframe thead th {\n",
       "        text-align: right;\n",
       "    }\n",
       "</style>\n",
       "<table border=\"1\" class=\"dataframe\">\n",
       "  <thead>\n",
       "    <tr style=\"text-align: right;\">\n",
       "      <th></th>\n",
       "      <th>Hindi</th>\n",
       "      <th>English</th>\n",
       "      <th>Science</th>\n",
       "      <th>Maths</th>\n",
       "      <th>History</th>\n",
       "      <th>Geography</th>\n",
       "      <th>Total</th>\n",
       "      <th>Results</th>\n",
       "      <th>Div</th>\n",
       "    </tr>\n",
       "  </thead>\n",
       "  <tbody>\n",
       "    <tr>\n",
       "      <th>0</th>\n",
       "      <td>65</td>\n",
       "      <td>10</td>\n",
       "      <td>59</td>\n",
       "      <td>3</td>\n",
       "      <td>71</td>\n",
       "      <td>37</td>\n",
       "      <td>245</td>\n",
       "      <td>0</td>\n",
       "      <td>3</td>\n",
       "    </tr>\n",
       "    <tr>\n",
       "      <th>1</th>\n",
       "      <td>94</td>\n",
       "      <td>56</td>\n",
       "      <td>4</td>\n",
       "      <td>67</td>\n",
       "      <td>91</td>\n",
       "      <td>50</td>\n",
       "      <td>362</td>\n",
       "      <td>1</td>\n",
       "      <td>1</td>\n",
       "    </tr>\n",
       "    <tr>\n",
       "      <th>2</th>\n",
       "      <td>7</td>\n",
       "      <td>85</td>\n",
       "      <td>76</td>\n",
       "      <td>99</td>\n",
       "      <td>60</td>\n",
       "      <td>25</td>\n",
       "      <td>352</td>\n",
       "      <td>0</td>\n",
       "      <td>2</td>\n",
       "    </tr>\n",
       "    <tr>\n",
       "      <th>3</th>\n",
       "      <td>88</td>\n",
       "      <td>46</td>\n",
       "      <td>59</td>\n",
       "      <td>94</td>\n",
       "      <td>52</td>\n",
       "      <td>38</td>\n",
       "      <td>377</td>\n",
       "      <td>1</td>\n",
       "      <td>1</td>\n",
       "    </tr>\n",
       "    <tr>\n",
       "      <th>4</th>\n",
       "      <td>39</td>\n",
       "      <td>81</td>\n",
       "      <td>37</td>\n",
       "      <td>38</td>\n",
       "      <td>6</td>\n",
       "      <td>54</td>\n",
       "      <td>255</td>\n",
       "      <td>1</td>\n",
       "      <td>3</td>\n",
       "    </tr>\n",
       "  </tbody>\n",
       "</table>\n",
       "</div>"
      ],
      "text/plain": [
       "   Hindi  English  Science  Maths  History  Geography  Total  Results  Div\n",
       "0     65       10       59      3       71         37    245        0    3\n",
       "1     94       56        4     67       91         50    362        1    1\n",
       "2      7       85       76     99       60         25    352        0    2\n",
       "3     88       46       59     94       52         38    377        1    1\n",
       "4     39       81       37     38        6         54    255        1    3"
      ]
     },
     "execution_count": 2,
     "metadata": {},
     "output_type": "execute_result"
    }
   ],
   "source": [
    "df = pd.read_csv('data/exams.csv')\n",
    "df.head()"
   ]
  },
  {
   "attachments": {},
   "cell_type": "markdown",
   "id": "86b83c91",
   "metadata": {},
   "source": [
    "Define `X` to be only the course score columns, ignoring `Total`, `Results`, and `Div`."
   ]
  },
  {
   "cell_type": "code",
   "execution_count": 3,
   "id": "e6a0da23",
   "metadata": {},
   "outputs": [
    {
     "data": {
      "text/html": [
       "<div>\n",
       "<style scoped>\n",
       "    .dataframe tbody tr th:only-of-type {\n",
       "        vertical-align: middle;\n",
       "    }\n",
       "\n",
       "    .dataframe tbody tr th {\n",
       "        vertical-align: top;\n",
       "    }\n",
       "\n",
       "    .dataframe thead th {\n",
       "        text-align: right;\n",
       "    }\n",
       "</style>\n",
       "<table border=\"1\" class=\"dataframe\">\n",
       "  <thead>\n",
       "    <tr style=\"text-align: right;\">\n",
       "      <th></th>\n",
       "      <th>Hindi</th>\n",
       "      <th>English</th>\n",
       "      <th>Science</th>\n",
       "      <th>Maths</th>\n",
       "      <th>History</th>\n",
       "      <th>Geography</th>\n",
       "    </tr>\n",
       "  </thead>\n",
       "  <tbody>\n",
       "    <tr>\n",
       "      <th>0</th>\n",
       "      <td>65</td>\n",
       "      <td>10</td>\n",
       "      <td>59</td>\n",
       "      <td>3</td>\n",
       "      <td>71</td>\n",
       "      <td>37</td>\n",
       "    </tr>\n",
       "    <tr>\n",
       "      <th>1</th>\n",
       "      <td>94</td>\n",
       "      <td>56</td>\n",
       "      <td>4</td>\n",
       "      <td>67</td>\n",
       "      <td>91</td>\n",
       "      <td>50</td>\n",
       "    </tr>\n",
       "    <tr>\n",
       "      <th>2</th>\n",
       "      <td>7</td>\n",
       "      <td>85</td>\n",
       "      <td>76</td>\n",
       "      <td>99</td>\n",
       "      <td>60</td>\n",
       "      <td>25</td>\n",
       "    </tr>\n",
       "    <tr>\n",
       "      <th>3</th>\n",
       "      <td>88</td>\n",
       "      <td>46</td>\n",
       "      <td>59</td>\n",
       "      <td>94</td>\n",
       "      <td>52</td>\n",
       "      <td>38</td>\n",
       "    </tr>\n",
       "    <tr>\n",
       "      <th>4</th>\n",
       "      <td>39</td>\n",
       "      <td>81</td>\n",
       "      <td>37</td>\n",
       "      <td>38</td>\n",
       "      <td>6</td>\n",
       "      <td>54</td>\n",
       "    </tr>\n",
       "    <tr>\n",
       "      <th>...</th>\n",
       "      <td>...</td>\n",
       "      <td>...</td>\n",
       "      <td>...</td>\n",
       "      <td>...</td>\n",
       "      <td>...</td>\n",
       "      <td>...</td>\n",
       "    </tr>\n",
       "    <tr>\n",
       "      <th>995</th>\n",
       "      <td>55</td>\n",
       "      <td>89</td>\n",
       "      <td>68</td>\n",
       "      <td>58</td>\n",
       "      <td>13</td>\n",
       "      <td>13</td>\n",
       "    </tr>\n",
       "    <tr>\n",
       "      <th>996</th>\n",
       "      <td>42</td>\n",
       "      <td>62</td>\n",
       "      <td>25</td>\n",
       "      <td>87</td>\n",
       "      <td>51</td>\n",
       "      <td>68</td>\n",
       "    </tr>\n",
       "    <tr>\n",
       "      <th>997</th>\n",
       "      <td>9</td>\n",
       "      <td>83</td>\n",
       "      <td>70</td>\n",
       "      <td>14</td>\n",
       "      <td>11</td>\n",
       "      <td>78</td>\n",
       "    </tr>\n",
       "    <tr>\n",
       "      <th>998</th>\n",
       "      <td>23</td>\n",
       "      <td>82</td>\n",
       "      <td>31</td>\n",
       "      <td>42</td>\n",
       "      <td>84</td>\n",
       "      <td>52</td>\n",
       "    </tr>\n",
       "    <tr>\n",
       "      <th>999</th>\n",
       "      <td>75</td>\n",
       "      <td>78</td>\n",
       "      <td>68</td>\n",
       "      <td>33</td>\n",
       "      <td>79</td>\n",
       "      <td>91</td>\n",
       "    </tr>\n",
       "  </tbody>\n",
       "</table>\n",
       "<p>1000 rows × 6 columns</p>\n",
       "</div>"
      ],
      "text/plain": [
       "     Hindi  English  Science  Maths  History  Geography\n",
       "0       65       10       59      3       71         37\n",
       "1       94       56        4     67       91         50\n",
       "2        7       85       76     99       60         25\n",
       "3       88       46       59     94       52         38\n",
       "4       39       81       37     38        6         54\n",
       "..     ...      ...      ...    ...      ...        ...\n",
       "995     55       89       68     58       13         13\n",
       "996     42       62       25     87       51         68\n",
       "997      9       83       70     14       11         78\n",
       "998     23       82       31     42       84         52\n",
       "999     75       78       68     33       79         91\n",
       "\n",
       "[1000 rows x 6 columns]"
      ]
     },
     "execution_count": 3,
     "metadata": {},
     "output_type": "execute_result"
    }
   ],
   "source": [
    "X = df[['Hindi', 'English', 'Science', 'Maths', 'History', 'Geography']]\n",
    "X"
   ]
  },
  {
   "attachments": {},
   "cell_type": "markdown",
   "id": "b5ca569b",
   "metadata": {},
   "source": [
    "## 3 Ways to find the Principle Components"
   ]
  },
  {
   "attachments": {},
   "cell_type": "markdown",
   "id": "ced0a8b5",
   "metadata": {},
   "source": [
    "### (1) Eigenvectors of the predictor covariance matrix"
   ]
  },
  {
   "attachments": {},
   "cell_type": "markdown",
   "id": "34313737",
   "metadata": {},
   "source": [
    "The eigenvectors of the predictor covariance matrix, ordered by decreasing eigenvalues, correspond to orthogonal vectors in the predictor space ordered by decreasing amount of explained variance. Refer to the PCA advanced section for more details.\n",
    "\n",
    "Quick recap on **eigenvectors**. The eigenvectors of a matrix $\\bf{A}$ are the vectors that, when multiplied by $\\bf{A}$ produce scalar multiples of themselves.\n",
    "$$\\bf{A}v = \\lambda v$$\n",
    "$\\lambda$, the scaling factor, is known as the **eigenvalue**. We add the additional constrained that eigenvectors have unit length."
   ]
  },
  {
   "attachments": {},
   "cell_type": "markdown",
   "id": "bd64cbdc",
   "metadata": {},
   "source": [
    "![img](img/eigenvectors.gif)\n",
    "\n",
    "**Q:** Is the yellow vector an eigenvector?"
   ]
  },
  {
   "attachments": {},
   "cell_type": "markdown",
   "id": "00a5cf2f",
   "metadata": {},
   "source": [
    "**Note:** PCA requires that the data matrix be **centered** (i.e., mean = 0). This is a natural step in calculating the covariance matrix. But we will go one step further in our examples and **standardize** our data (mean = 0 *and* stdev = 1). This helps prevent the directions of maximum variance from being influenced by the scale of our predictors. "
   ]
  },
  {
   "attachments": {},
   "cell_type": "markdown",
   "id": "9433f596",
   "metadata": {},
   "source": [
    "Let's standardize manually $$\\frac{X-\\mu_X}{\\sigma_X}$$"
   ]
  },
  {
   "cell_type": "code",
   "execution_count": 4,
   "id": "9ed35afb",
   "metadata": {},
   "outputs": [],
   "source": [
    "X_std = ((X-X.mean(axis=0))/X.std())"
   ]
  },
  {
   "cell_type": "code",
   "execution_count": 5,
   "id": "b58bd92c",
   "metadata": {},
   "outputs": [
    {
     "data": {
      "text/html": [
       "<div>\n",
       "<style scoped>\n",
       "    .dataframe tbody tr th:only-of-type {\n",
       "        vertical-align: middle;\n",
       "    }\n",
       "\n",
       "    .dataframe tbody tr th {\n",
       "        vertical-align: top;\n",
       "    }\n",
       "\n",
       "    .dataframe thead th {\n",
       "        text-align: right;\n",
       "    }\n",
       "</style>\n",
       "<table border=\"1\" class=\"dataframe\">\n",
       "  <thead>\n",
       "    <tr style=\"text-align: right;\">\n",
       "      <th></th>\n",
       "      <th>Hindi</th>\n",
       "      <th>English</th>\n",
       "      <th>Science</th>\n",
       "      <th>Maths</th>\n",
       "      <th>History</th>\n",
       "      <th>Geography</th>\n",
       "    </tr>\n",
       "  </thead>\n",
       "  <tbody>\n",
       "    <tr>\n",
       "      <th>count</th>\n",
       "      <td>1.000000e+03</td>\n",
       "      <td>1.000000e+03</td>\n",
       "      <td>1.000000e+03</td>\n",
       "      <td>1.000000e+03</td>\n",
       "      <td>1.000000e+03</td>\n",
       "      <td>1.000000e+03</td>\n",
       "    </tr>\n",
       "    <tr>\n",
       "      <th>mean</th>\n",
       "      <td>-1.030287e-16</td>\n",
       "      <td>1.953993e-17</td>\n",
       "      <td>5.329071e-17</td>\n",
       "      <td>8.526513e-17</td>\n",
       "      <td>3.907985e-17</td>\n",
       "      <td>3.996803e-17</td>\n",
       "    </tr>\n",
       "    <tr>\n",
       "      <th>std</th>\n",
       "      <td>1.000000e+00</td>\n",
       "      <td>1.000000e+00</td>\n",
       "      <td>1.000000e+00</td>\n",
       "      <td>1.000000e+00</td>\n",
       "      <td>1.000000e+00</td>\n",
       "      <td>1.000000e+00</td>\n",
       "    </tr>\n",
       "    <tr>\n",
       "      <th>min</th>\n",
       "      <td>-1.752346e+00</td>\n",
       "      <td>-1.786548e+00</td>\n",
       "      <td>-1.709478e+00</td>\n",
       "      <td>-1.730659e+00</td>\n",
       "      <td>-1.704360e+00</td>\n",
       "      <td>-1.742512e+00</td>\n",
       "    </tr>\n",
       "    <tr>\n",
       "      <th>25%</th>\n",
       "      <td>-8.701505e-01</td>\n",
       "      <td>-8.595824e-01</td>\n",
       "      <td>-8.450574e-01</td>\n",
       "      <td>-8.313296e-01</td>\n",
       "      <td>-8.701501e-01</td>\n",
       "      <td>-8.369131e-01</td>\n",
       "    </tr>\n",
       "    <tr>\n",
       "      <th>50%</th>\n",
       "      <td>4.597598e-02</td>\n",
       "      <td>1.390448e-02</td>\n",
       "      <td>1.936302e-02</td>\n",
       "      <td>-1.931375e-02</td>\n",
       "      <td>-1.181797e-03</td>\n",
       "      <td>-3.580600e-02</td>\n",
       "    </tr>\n",
       "    <tr>\n",
       "      <th>75%</th>\n",
       "      <td>8.603107e-01</td>\n",
       "      <td>8.873913e-01</td>\n",
       "      <td>8.232740e-01</td>\n",
       "      <td>8.538215e-01</td>\n",
       "      <td>8.417174e-01</td>\n",
       "      <td>8.697933e-01</td>\n",
       "    </tr>\n",
       "    <tr>\n",
       "      <th>max</th>\n",
       "      <td>1.606784e+00</td>\n",
       "      <td>1.743052e+00</td>\n",
       "      <td>1.713627e+00</td>\n",
       "      <td>1.726957e+00</td>\n",
       "      <td>1.736755e+00</td>\n",
       "      <td>1.705731e+00</td>\n",
       "    </tr>\n",
       "  </tbody>\n",
       "</table>\n",
       "</div>"
      ],
      "text/plain": [
       "              Hindi       English       Science         Maths       History  \\\n",
       "count  1.000000e+03  1.000000e+03  1.000000e+03  1.000000e+03  1.000000e+03   \n",
       "mean  -1.030287e-16  1.953993e-17  5.329071e-17  8.526513e-17  3.907985e-17   \n",
       "std    1.000000e+00  1.000000e+00  1.000000e+00  1.000000e+00  1.000000e+00   \n",
       "min   -1.752346e+00 -1.786548e+00 -1.709478e+00 -1.730659e+00 -1.704360e+00   \n",
       "25%   -8.701505e-01 -8.595824e-01 -8.450574e-01 -8.313296e-01 -8.701501e-01   \n",
       "50%    4.597598e-02  1.390448e-02  1.936302e-02 -1.931375e-02 -1.181797e-03   \n",
       "75%    8.603107e-01  8.873913e-01  8.232740e-01  8.538215e-01  8.417174e-01   \n",
       "max    1.606784e+00  1.743052e+00  1.713627e+00  1.726957e+00  1.736755e+00   \n",
       "\n",
       "          Geography  \n",
       "count  1.000000e+03  \n",
       "mean   3.996803e-17  \n",
       "std    1.000000e+00  \n",
       "min   -1.742512e+00  \n",
       "25%   -8.369131e-01  \n",
       "50%   -3.580600e-02  \n",
       "75%    8.697933e-01  \n",
       "max    1.705731e+00  "
      ]
     },
     "execution_count": 5,
     "metadata": {},
     "output_type": "execute_result"
    }
   ],
   "source": [
    "X_std.describe()"
   ]
  },
  {
   "attachments": {},
   "cell_type": "markdown",
   "id": "d0bdbe8b",
   "metadata": {},
   "source": [
    "Next, we calculate the covaraince between predictors. There are several ways to do this with numpy.\\\n",
    "**Note:** Again, if our standardized data matrix $\\bf{\\tilde{X}}$ is $n\\times p$ ($n$ observations and $p$ predictors) then we want the $p \\times p$ correlation matrix which would be $\\frac{1}{n-1}\\bf{\\tilde{X}^\\top} \\bf{\\tilde{X}}$"
   ]
  },
  {
   "cell_type": "code",
   "execution_count": 6,
   "id": "79dab0d9",
   "metadata": {},
   "outputs": [],
   "source": [
    "N = X_std.shape[0]\n",
    "\n",
    "X_cov = np.dot(X_std.T, X_std) / (N-1)\n",
    "\n",
    "X_cov2 = (X_std.T@X_std)/(N-1)\n",
    "\n",
    "X_cov3 = np.cov(X_std.T)"
   ]
  },
  {
   "cell_type": "code",
   "execution_count": 7,
   "id": "1cd06eee",
   "metadata": {},
   "outputs": [],
   "source": [
    "assert np.allclose(X_cov, X_cov2)\n",
    "assert np.allclose(X_cov2, X_cov3)"
   ]
  },
  {
   "cell_type": "code",
   "execution_count": 8,
   "id": "58b2ff47",
   "metadata": {},
   "outputs": [
    {
     "data": {
      "text/plain": [
       "array([[ 1.        ,  0.03645489,  0.03761585,  0.04123955, -0.02465249,\n",
       "        -0.06418909],\n",
       "       [ 0.03645489,  1.        , -0.02241089, -0.01126872, -0.00181201,\n",
       "         0.05225262],\n",
       "       [ 0.03761585, -0.02241089,  1.        ,  0.05631362,  0.00560505,\n",
       "         0.02884582],\n",
       "       [ 0.04123955, -0.01126872,  0.05631362,  1.        ,  0.01152499,\n",
       "        -0.00114035],\n",
       "       [-0.02465249, -0.00181201,  0.00560505,  0.01152499,  1.        ,\n",
       "        -0.022318  ],\n",
       "       [-0.06418909,  0.05225262,  0.02884582, -0.00114035, -0.022318  ,\n",
       "         1.        ]])"
      ]
     },
     "execution_count": 8,
     "metadata": {},
     "output_type": "execute_result"
    }
   ],
   "source": [
    "X_cov"
   ]
  },
  {
   "attachments": {},
   "cell_type": "markdown",
   "id": "bb9b4ad4",
   "metadata": {},
   "source": [
    "We can then use `np.linalg.eig` to find the eigenvalues and eigenvectors of the covariance matrix."
   ]
  },
  {
   "cell_type": "code",
   "execution_count": 9,
   "id": "b9175f80",
   "metadata": {},
   "outputs": [],
   "source": [
    "eig_vals, eig_vecs = np.linalg.eig(X_cov)"
   ]
  },
  {
   "attachments": {},
   "cell_type": "markdown",
   "id": "9b1f3609",
   "metadata": {},
   "source": [
    "It is the **columns** of the 2nd object returned which are the eigenvectors."
   ]
  },
  {
   "attachments": {},
   "cell_type": "markdown",
   "id": "a774184c",
   "metadata": {},
   "source": [
    "The numpy `eig` method doesn't guarantee these to be sorted by eigenvalue!\\\n",
    "We need to insure that ourselves."
   ]
  },
  {
   "cell_type": "code",
   "execution_count": 10,
   "id": "99c0b520",
   "metadata": {},
   "outputs": [],
   "source": [
    "# get order of eigen values (decreasing)\n",
    "idx = np.argsort(eig_vals)[::-1]\n",
    "# resort eigenvals on this order\n",
    "eig_vals = eig_vals[idx]\n",
    "# resort the eigenvectors (columns)\n",
    "eig_vecs = eig_vecs[:,idx]"
   ]
  },
  {
   "cell_type": "code",
   "execution_count": 11,
   "id": "81641141",
   "metadata": {},
   "outputs": [
    {
     "data": {
      "text/plain": [
       "(6, 6)"
      ]
     },
     "execution_count": 11,
     "metadata": {},
     "output_type": "execute_result"
    }
   ],
   "source": [
    "eig_vecs.shape"
   ]
  },
  {
   "attachments": {},
   "cell_type": "markdown",
   "id": "27056adb",
   "metadata": {},
   "source": [
    "Here's the eigenvector with the largest eigenvalue (1st column)."
   ]
  },
  {
   "cell_type": "code",
   "execution_count": 12,
   "id": "77b0fe8b",
   "metadata": {},
   "outputs": [
    {
     "data": {
      "text/plain": [
       "array([-0.58274167,  0.13292184, -0.48189758, -0.55084657, -0.02283826,\n",
       "        0.32644313])"
      ]
     },
     "execution_count": 12,
     "metadata": {},
     "output_type": "execute_result"
    }
   ],
   "source": [
    "eig_vecs[:,0]"
   ]
  },
  {
   "attachments": {},
   "cell_type": "markdown",
   "id": "cd76496e",
   "metadata": {},
   "source": [
    "**Q:** Are we able to put any interpretation on this eigenvector?"
   ]
  },
  {
   "attachments": {},
   "cell_type": "markdown",
   "id": "49abc39d",
   "metadata": {},
   "source": [
    "### (2) PCA with SVD"
   ]
  },
  {
   "attachments": {},
   "cell_type": "markdown",
   "id": "4bc49e1d",
   "metadata": {},
   "source": [
    "You could also use singular value decomposition (SVD) of the data matrix to get the eigenvectors.\\\n",
    "$\\bf{\\tilde{X}}$ denotes the standardized data matrix.\n",
    "$$\\bf{\\tilde{X}} = \\bf{U\\Sigma V^\\top}$$\n",
    "*Columns* of $\\bf{U}$ are eigenvectors of the *row* (observation) covaraince matrix.\\\n",
    "*Rows* of $\\bf{V^\\top}$ are eigenvectors of the *column* (predictor) covariance matrix.\\\n",
    "It is the later that we are interested in here. You can always check the shapes if you aren't sure.\n",
    "\n",
    "Unlike, `eig`, the results of `svd` *are* sorted by the singular values (which is equivalent to sorting by the eigenvectors)."
   ]
  },
  {
   "cell_type": "code",
   "execution_count": 13,
   "id": "0e0847b4",
   "metadata": {},
   "outputs": [
    {
     "data": {
      "text/plain": [
       "((1000, 1000), (6,), (6, 6))"
      ]
     },
     "execution_count": 13,
     "metadata": {},
     "output_type": "execute_result"
    }
   ],
   "source": [
    "U, Sigma, V_T = np.linalg.svd(X_std)\n",
    "U.shape, Sigma.shape, V_T.shape"
   ]
  },
  {
   "attachments": {},
   "cell_type": "markdown",
   "id": "ac9a3397",
   "metadata": {},
   "source": [
    "Here's the eigenvector with the largest eigenvalue (1st row of $\\bf{V^\\top}$)"
   ]
  },
  {
   "cell_type": "code",
   "execution_count": 14,
   "id": "8b9d6bfd",
   "metadata": {},
   "outputs": [
    {
     "data": {
      "text/plain": [
       "array([-0.58274167,  0.13292184, -0.48189758, -0.55084657, -0.02283826,\n",
       "        0.32644313])"
      ]
     },
     "execution_count": 14,
     "metadata": {},
     "output_type": "execute_result"
    }
   ],
   "source": [
    "V_T[0]"
   ]
  },
  {
   "attachments": {},
   "cell_type": "markdown",
   "id": "e2017e04",
   "metadata": {},
   "source": [
    "### (3) PCA with SKLearn"
   ]
  },
  {
   "attachments": {},
   "cell_type": "markdown",
   "id": "8b597093",
   "metadata": {},
   "source": [
    "SKLearn provides the `PCA` class for not only calculating the principle components (`fit`) but also projecting data into the space spanned by the components (`transform`).\\\n",
    "You can also do both at once with `fit_transform`."
   ]
  },
  {
   "cell_type": "code",
   "execution_count": 15,
   "id": "fe0fe2cb",
   "metadata": {},
   "outputs": [],
   "source": [
    "X_std = StandardScaler().fit_transform(X)"
   ]
  },
  {
   "cell_type": "code",
   "execution_count": 16,
   "id": "d3be25e5",
   "metadata": {},
   "outputs": [],
   "source": [
    "pca = PCA().fit(X_std)"
   ]
  },
  {
   "cell_type": "code",
   "execution_count": 17,
   "id": "d66c52a6",
   "metadata": {},
   "outputs": [],
   "source": [
    "X_pca = pca.transform(X_std)"
   ]
  },
  {
   "cell_type": "code",
   "execution_count": 18,
   "id": "dd78c800",
   "metadata": {},
   "outputs": [
    {
     "data": {
      "text/plain": [
       "(1000, 6)"
      ]
     },
     "execution_count": 18,
     "metadata": {},
     "output_type": "execute_result"
    }
   ],
   "source": [
    "X_pca.shape"
   ]
  },
  {
   "attachments": {},
   "cell_type": "markdown",
   "id": "a873a9ce",
   "metadata": {},
   "source": [
    "You can access the number of components with the `n_components_` attribute."
   ]
  },
  {
   "cell_type": "code",
   "execution_count": 19,
   "id": "24e62eb6",
   "metadata": {},
   "outputs": [
    {
     "data": {
      "text/plain": [
       "6"
      ]
     },
     "execution_count": 19,
     "metadata": {},
     "output_type": "execute_result"
    }
   ],
   "source": [
    "pca.n_components_"
   ]
  },
  {
   "attachments": {},
   "cell_type": "markdown",
   "id": "8d1a0ad2",
   "metadata": {},
   "source": [
    "There are the `explained_variance_` and `explained_variance_ratio_` attributes as well which describe how much of the variance is explained by each component."
   ]
  },
  {
   "cell_type": "code",
   "execution_count": 20,
   "id": "c9481da4",
   "metadata": {},
   "outputs": [
    {
     "data": {
      "text/plain": [
       "array([1.09786298, 1.05742308, 1.03775782, 1.00013994, 0.94289184,\n",
       "       0.86993034])"
      ]
     },
     "execution_count": 20,
     "metadata": {},
     "output_type": "execute_result"
    }
   ],
   "source": [
    "pca.explained_variance_"
   ]
  },
  {
   "cell_type": "code",
   "execution_count": 21,
   "id": "af446515",
   "metadata": {},
   "outputs": [
    {
     "data": {
      "text/plain": [
       "array([0.18279419, 0.17606094, 0.17278668, 0.1665233 , 0.15699149,\n",
       "       0.1448434 ])"
      ]
     },
     "execution_count": 21,
     "metadata": {},
     "output_type": "execute_result"
    }
   ],
   "source": [
    "pca.explained_variance_ratio_"
   ]
  },
  {
   "attachments": {},
   "cell_type": "markdown",
   "id": "16eefc68",
   "metadata": {},
   "source": [
    "Finally, there the components themselves, which are the *rows* of the `components_` attribute."
   ]
  },
  {
   "cell_type": "code",
   "execution_count": 22,
   "id": "2b7fa571",
   "metadata": {},
   "outputs": [
    {
     "data": {
      "text/plain": [
       "array([-0.58274167,  0.13292184, -0.48189758, -0.55084657, -0.02283826,\n",
       "        0.32644313])"
      ]
     },
     "execution_count": 22,
     "metadata": {},
     "output_type": "execute_result"
    }
   ],
   "source": [
    "pca.components_[0]"
   ]
  },
  {
   "attachments": {},
   "cell_type": "markdown",
   "id": "c692bb1e",
   "metadata": {},
   "source": [
    "All 3 approachs above will give us the same results for principle components!"
   ]
  },
  {
   "cell_type": "code",
   "execution_count": 23,
   "id": "f407b565",
   "metadata": {},
   "outputs": [],
   "source": [
    "# sklearn compared to SVD\n",
    "assert np.allclose(pca.components_[0], V_T[0])\n",
    "# sklearn compared to eigenvector decomposition\n",
    "assert np.allclose(pca.components_[0], eig_vecs[:,0])"
   ]
  },
  {
   "attachments": {},
   "cell_type": "markdown",
   "id": "466777bf",
   "metadata": {},
   "source": [
    "## Predictors' Contributions to Components\n",
    "\n",
    "If we want to see how much predictor $x_i$ contributs to each we can look at the columns of `pca.components_` (remember, the rows of this are the components themselves!) "
   ]
  },
  {
   "attachments": {},
   "cell_type": "markdown",
   "id": "f75ce205",
   "metadata": {},
   "source": [
    "For a few of the predictors, print the predictor name and its contributions to each of the principle components."
   ]
  },
  {
   "cell_type": "code",
   "execution_count": 24,
   "id": "bff38382",
   "metadata": {},
   "outputs": [
    {
     "name": "stdout",
     "output_type": "stream",
     "text": [
      "Science [-0.48189758  0.37975243  0.36988849 -0.11714758 -0.60097507  0.33444092]\n"
     ]
    }
   ],
   "source": [
    "i = 2\n",
    "print(X.columns[i], pca.components_[:,i])"
   ]
  },
  {
   "cell_type": "code",
   "execution_count": 25,
   "id": "e71dc4fe",
   "metadata": {},
   "outputs": [
    {
     "data": {
      "text/plain": [
       "[('Hindi', -0.5827416724657838),\n",
       " ('English', 0.13292183995122364),\n",
       " ('Science', -0.481897579827803),\n",
       " ('Maths', -0.5508465736403784),\n",
       " ('History', -0.022838260720313974),\n",
       " ('Geography', 0.32644312881081516)]"
      ]
     },
     "execution_count": 25,
     "metadata": {},
     "output_type": "execute_result"
    }
   ],
   "source": [
    "list(zip(X.columns, pca.components_[0]))"
   ]
  },
  {
   "cell_type": "code",
   "execution_count": 26,
   "id": "318fd7cf",
   "metadata": {},
   "outputs": [
    {
     "data": {
      "text/plain": [
       "[('Hindi', -0.0004054306723262444),\n",
       " ('English', 0.48283852951650946),\n",
       " ('Science', 0.3797524301920181),\n",
       " ('Maths', 0.22317247898749049),\n",
       " ('History', -0.21883276920226816),\n",
       " ('Geography', 0.724542024695191)]"
      ]
     },
     "execution_count": 26,
     "metadata": {},
     "output_type": "execute_result"
    }
   ],
   "source": [
    "list(zip(X.columns, pca.components_[1]))"
   ]
  },
  {
   "attachments": {},
   "cell_type": "markdown",
   "id": "cae68e2e",
   "metadata": {},
   "source": [
    "Now let's **create a plot** that shows:\n",
    "1. A 2D PCA projection of the X data\n",
    "2. Annotated arrows showing the contribution of each predictor to the 2 plotted components\n",
    "3. Colored observations based on the value of their `Results` predictor"
   ]
  },
  {
   "cell_type": "code",
   "execution_count": 27,
   "id": "92e081e4",
   "metadata": {},
   "outputs": [
    {
     "data": {
      "image/png": "[encoded data removed]",
      "text/plain": [
       "<Figure size 1000x1000 with 1 Axes>"
      ]
     },
     "metadata": {},
     "output_type": "display_data"
    }
   ],
   "source": [
    "plt.figure(figsize=(10,10))\n",
    "passed = df.Results == 1\n",
    "\n",
    "plt.scatter(X_pca[passed,0], X_pca[passed,1], c='green', alpha=0.3, label=\"passed\")\n",
    "plt.scatter(X_pca[~passed,0], X_pca[~passed,1], c='purple', alpha=0.3, label=\"😟\")\n",
    "# scale up contributions by 2x for improved visibility\n",
    "for i, vec in enumerate(pca.components_.T*2):\n",
    "    plt.arrow(0, 0, vec[0], vec[1], color='k', head_width=0.1, alpha=0.5)\n",
    "    offset = 1.3\n",
    "    plt.annotate(X.columns[i],\n",
    "                 (offset*vec[0], offset*vec[1]), color='k', fontsize=15)\n",
    "plt.legend(fontsize=20)\n",
    "plt.xlabel('1st PCA component', fontsize=20)\n",
    "plt.ylabel('2nd PCA component', fontsize=20);\n",
    "plt.title(\"Test Scores in 2-D PCA Projection\", fontsize=25);"
   ]
  },
  {
   "attachments": {},
   "cell_type": "markdown",
   "id": "bfeb4cb2",
   "metadata": {},
   "source": [
    "Can you say anything about the relationship between certain tests scores and students' results?"
   ]
  },
  {
   "attachments": {},
   "cell_type": "markdown",
   "id": "fd8abd7a",
   "metadata": {},
   "source": [
    "Finally, we'll plot the explained variance ratio for each component as a bar plot."
   ]
  },
  {
   "cell_type": "code",
   "execution_count": 28,
   "id": "5e551128",
   "metadata": {},
   "outputs": [
    {
     "data": {
      "image/png": "[encoded data removed]",
      "text/plain": [
       "<Figure size 640x480 with 1 Axes>"
      ]
     },
     "metadata": {},
     "output_type": "display_data"
    }
   ],
   "source": [
    "plt.bar(range(len(pca.explained_variance_ratio_)), pca.explained_variance_ratio_)\n",
    "plt.xticks(ticks=range(0, pca.n_components_), labels=[f'PC{i}' for i in range(1, pca.n_components_+1)]);\n",
    "plt.ylabel('explained variance ratio')\n",
    "plt.xlabel('principle components')\n",
    "plt.title('PCA of Test Dataset');"
   ]
  },
  {
   "attachments": {},
   "cell_type": "markdown",
   "id": "7ff91775",
   "metadata": {},
   "source": [
    "Do the first few components dominate the explained variance?"
   ]
  },
  {
   "attachments": {},
   "cell_type": "markdown",
   "id": "33ae1e55",
   "metadata": {},
   "source": [
    "## Wine Data (Visualization & PCR)\n",
    "\n",
    "We'll use the popular wine dataset to look at another example of PCA for visualization as well as a first example of principle component regression (PCR)."
   ]
  },
  {
   "cell_type": "code",
   "execution_count": 29,
   "id": "09b8d270",
   "metadata": {},
   "outputs": [
    {
     "data": {
      "text/html": [
       "<div>\n",
       "<style scoped>\n",
       "    .dataframe tbody tr th:only-of-type {\n",
       "        vertical-align: middle;\n",
       "    }\n",
       "\n",
       "    .dataframe tbody tr th {\n",
       "        vertical-align: top;\n",
       "    }\n",
       "\n",
       "    .dataframe thead th {\n",
       "        text-align: right;\n",
       "    }\n",
       "</style>\n",
       "<table border=\"1\" class=\"dataframe\">\n",
       "  <thead>\n",
       "    <tr style=\"text-align: right;\">\n",
       "      <th></th>\n",
       "      <th>fixed acidity</th>\n",
       "      <th>volatile acidity</th>\n",
       "      <th>citric acid</th>\n",
       "      <th>residual sugar</th>\n",
       "      <th>chlorides</th>\n",
       "      <th>free sulfur dioxide</th>\n",
       "      <th>total sulfur dioxide</th>\n",
       "      <th>density</th>\n",
       "      <th>pH</th>\n",
       "      <th>sulphates</th>\n",
       "      <th>alcohol</th>\n",
       "      <th>quality</th>\n",
       "      <th>red</th>\n",
       "    </tr>\n",
       "  </thead>\n",
       "  <tbody>\n",
       "    <tr>\n",
       "      <th>0</th>\n",
       "      <td>6.7</td>\n",
       "      <td>0.20</td>\n",
       "      <td>0.42</td>\n",
       "      <td>14.0</td>\n",
       "      <td>0.038</td>\n",
       "      <td>83.0</td>\n",
       "      <td>160.0</td>\n",
       "      <td>0.99870</td>\n",
       "      <td>3.16</td>\n",
       "      <td>0.50</td>\n",
       "      <td>9.4</td>\n",
       "      <td>6</td>\n",
       "      <td>0</td>\n",
       "    </tr>\n",
       "    <tr>\n",
       "      <th>1</th>\n",
       "      <td>6.6</td>\n",
       "      <td>0.40</td>\n",
       "      <td>0.32</td>\n",
       "      <td>1.7</td>\n",
       "      <td>0.035</td>\n",
       "      <td>39.0</td>\n",
       "      <td>84.0</td>\n",
       "      <td>0.99096</td>\n",
       "      <td>3.59</td>\n",
       "      <td>0.48</td>\n",
       "      <td>12.7</td>\n",
       "      <td>7</td>\n",
       "      <td>0</td>\n",
       "    </tr>\n",
       "    <tr>\n",
       "      <th>2</th>\n",
       "      <td>6.4</td>\n",
       "      <td>0.26</td>\n",
       "      <td>0.35</td>\n",
       "      <td>7.7</td>\n",
       "      <td>0.056</td>\n",
       "      <td>45.0</td>\n",
       "      <td>191.0</td>\n",
       "      <td>0.99527</td>\n",
       "      <td>3.16</td>\n",
       "      <td>0.50</td>\n",
       "      <td>9.5</td>\n",
       "      <td>5</td>\n",
       "      <td>0</td>\n",
       "    </tr>\n",
       "    <tr>\n",
       "      <th>3</th>\n",
       "      <td>6.8</td>\n",
       "      <td>0.69</td>\n",
       "      <td>0.00</td>\n",
       "      <td>5.6</td>\n",
       "      <td>0.124</td>\n",
       "      <td>21.0</td>\n",
       "      <td>58.0</td>\n",
       "      <td>0.99970</td>\n",
       "      <td>3.46</td>\n",
       "      <td>0.72</td>\n",
       "      <td>10.2</td>\n",
       "      <td>5</td>\n",
       "      <td>1</td>\n",
       "    </tr>\n",
       "    <tr>\n",
       "      <th>4</th>\n",
       "      <td>5.9</td>\n",
       "      <td>0.25</td>\n",
       "      <td>0.19</td>\n",
       "      <td>12.4</td>\n",
       "      <td>0.047</td>\n",
       "      <td>50.0</td>\n",
       "      <td>162.0</td>\n",
       "      <td>0.99730</td>\n",
       "      <td>3.35</td>\n",
       "      <td>0.38</td>\n",
       "      <td>9.5</td>\n",
       "      <td>5</td>\n",
       "      <td>0</td>\n",
       "    </tr>\n",
       "  </tbody>\n",
       "</table>\n",
       "</div>"
      ],
      "text/plain": [
       "   fixed acidity  volatile acidity  citric acid  residual sugar  chlorides  \\\n",
       "0            6.7              0.20         0.42            14.0      0.038   \n",
       "1            6.6              0.40         0.32             1.7      0.035   \n",
       "2            6.4              0.26         0.35             7.7      0.056   \n",
       "3            6.8              0.69         0.00             5.6      0.124   \n",
       "4            5.9              0.25         0.19            12.4      0.047   \n",
       "\n",
       "   free sulfur dioxide  total sulfur dioxide  density    pH  sulphates  \\\n",
       "0                 83.0                 160.0  0.99870  3.16       0.50   \n",
       "1                 39.0                  84.0  0.99096  3.59       0.48   \n",
       "2                 45.0                 191.0  0.99527  3.16       0.50   \n",
       "3                 21.0                  58.0  0.99970  3.46       0.72   \n",
       "4                 50.0                 162.0  0.99730  3.35       0.38   \n",
       "\n",
       "   alcohol  quality  red  \n",
       "0      9.4        6    0  \n",
       "1     12.7        7    0  \n",
       "2      9.5        5    0  \n",
       "3     10.2        5    1  \n",
       "4      9.5        5    0  "
      ]
     },
     "execution_count": 29,
     "metadata": {},
     "output_type": "execute_result"
    }
   ],
   "source": [
    "wine_df = pd.read_csv('data/winequality.csv')\n",
    "wine_df.head()"
   ]
  },
  {
   "attachments": {},
   "cell_type": "markdown",
   "id": "d01d810b",
   "metadata": {},
   "source": [
    "Peek at the columns and the shape."
   ]
  },
  {
   "cell_type": "code",
   "execution_count": 30,
   "id": "f1467e9f",
   "metadata": {},
   "outputs": [
    {
     "data": {
      "text/plain": [
       "Index(['fixed acidity', 'volatile acidity', 'citric acid', 'residual sugar',\n",
       "       'chlorides', 'free sulfur dioxide', 'total sulfur dioxide', 'density',\n",
       "       'pH', 'sulphates', 'alcohol', 'quality', 'red'],\n",
       "      dtype='object')"
      ]
     },
     "execution_count": 30,
     "metadata": {},
     "output_type": "execute_result"
    }
   ],
   "source": [
    "wine_df.columns"
   ]
  },
  {
   "cell_type": "code",
   "execution_count": 31,
   "id": "808249dd",
   "metadata": {},
   "outputs": [
    {
     "data": {
      "text/plain": [
       "(6497, 13)"
      ]
     },
     "execution_count": 31,
     "metadata": {},
     "output_type": "execute_result"
    }
   ],
   "source": [
    "wine_df.shape"
   ]
  },
  {
   "attachments": {},
   "cell_type": "markdown",
   "id": "7a149084",
   "metadata": {},
   "source": [
    "## Projecting the Wine Data onto the 1st 2 Principle Components\n",
    "\n",
    "The projection into the principle component space when fitting our PCR model happened \"under the hood.\" Let's perform the projection explicitly ourself.\n",
    "\n",
    "**First using SVD**"
   ]
  },
  {
   "cell_type": "code",
   "execution_count": 32,
   "id": "e5c942df",
   "metadata": {},
   "outputs": [],
   "source": [
    "wine_std = StandardScaler().fit_transform(wine_df)\n",
    "U, Sigma, V_T = np.linalg.svd(wine_std)"
   ]
  },
  {
   "cell_type": "code",
   "execution_count": 33,
   "id": "bbd7d5c2",
   "metadata": {},
   "outputs": [],
   "source": [
    "W = V_T.T"
   ]
  },
  {
   "cell_type": "code",
   "execution_count": 34,
   "id": "e050c0cd",
   "metadata": {},
   "outputs": [
    {
     "data": {
      "text/plain": [
       "array([ 0.26022761,  0.36378537, -0.11319392, -0.23277398,  0.30248902,\n",
       "       -0.33871316, -0.40228457,  0.16134445,  0.17486612,  0.27953014,\n",
       "       -0.00438771, -0.09658937,  0.46988304])"
      ]
     },
     "execution_count": 34,
     "metadata": {},
     "output_type": "execute_result"
    }
   ],
   "source": [
    "W[:,0]"
   ]
  },
  {
   "cell_type": "code",
   "execution_count": 35,
   "id": "e5c849ab",
   "metadata": {},
   "outputs": [],
   "source": [
    "Z = wine_std@W"
   ]
  },
  {
   "attachments": {},
   "cell_type": "markdown",
   "id": "4c699af8",
   "metadata": {},
   "source": [
    "Create a scatter plot of the wine data projected onto the first 2 principle components."
   ]
  },
  {
   "cell_type": "code",
   "execution_count": 36,
   "id": "69f56b2e",
   "metadata": {},
   "outputs": [
    {
     "data": {
      "image/png": "[encoded data removed]",
      "text/plain": [
       "<Figure size 640x480 with 1 Axes>"
      ]
     },
     "metadata": {},
     "output_type": "display_data"
    }
   ],
   "source": [
    "plt.scatter(Z[:,0], Z[:,1], c = wine_df.red)\n",
    "plt.xlabel(\"PC1\")\n",
    "plt.ylabel(\"PC2\")\n",
    "plt.title(\"2D PCA Projection of Wine Data\");"
   ]
  },
  {
   "attachments": {},
   "cell_type": "markdown",
   "id": "ef6428a8",
   "metadata": {},
   "source": [
    "**Now with SKlearn** (both projecting and plotting)"
   ]
  },
  {
   "cell_type": "code",
   "execution_count": 37,
   "id": "4ae30331",
   "metadata": {},
   "outputs": [],
   "source": [
    "pca = PCA(2).fit(wine_std)\n",
    "wine_pca = pca.transform(wine_std)"
   ]
  },
  {
   "cell_type": "code",
   "execution_count": 38,
   "id": "07c27398",
   "metadata": {},
   "outputs": [
    {
     "data": {
      "text/plain": [
       "array([ 0.26022761,  0.36378537, -0.11319392, -0.23277398,  0.30248902,\n",
       "       -0.33871316, -0.40228457,  0.16134445,  0.17486612,  0.27953014,\n",
       "       -0.00438771, -0.09658937,  0.46988304])"
      ]
     },
     "execution_count": 38,
     "metadata": {},
     "output_type": "execute_result"
    }
   ],
   "source": [
    "pca.components_[0]"
   ]
  },
  {
   "cell_type": "code",
   "execution_count": 39,
   "id": "044e3814",
   "metadata": {},
   "outputs": [
    {
     "data": {
      "image/png": "[encoded data removed]",
      "text/plain": [
       "<Figure size 640x480 with 1 Axes>"
      ]
     },
     "metadata": {},
     "output_type": "display_data"
    }
   ],
   "source": [
    "plt.scatter(wine_pca[:,0], wine_pca[:,1])\n",
    "plt.xlabel(\"PC1\")\n",
    "plt.ylabel(\"PC2\")\n",
    "plt.title(\"2D PCA Projection of Wine Data\");"
   ]
  },
  {
   "attachments": {},
   "cell_type": "markdown",
   "id": "9315d5c5",
   "metadata": {},
   "source": [
    "Are the results the same? If not, can you explain the difference?\n",
    "\n",
    "Do you see any clustering in the projection? Do you have a possible explanation? How might you test it?"
   ]
  },
  {
   "attachments": {},
   "cell_type": "markdown",
   "id": "e9012af9",
   "metadata": {},
   "source": [
    "## Principal Component Regression (PCR)"
   ]
  },
  {
   "attachments": {},
   "cell_type": "markdown",
   "id": "5140216c",
   "metadata": {},
   "source": [
    "We haven't covered classification yet in the course so we'll choose a continuous response variable like `alcohol`."
   ]
  },
  {
   "cell_type": "code",
   "execution_count": 40,
   "id": "cdb7e6cf",
   "metadata": {},
   "outputs": [],
   "source": [
    "response = 'alcohol'\n",
    "X = wine_df.drop(response, axis=1)\n",
    "y = wine_df[response]"
   ]
  },
  {
   "attachments": {},
   "cell_type": "markdown",
   "id": "b44e2808",
   "metadata": {},
   "source": [
    "Train / Test split\\\n",
    "Use 20% for test, stratify on the 'red' column, and use 109 for the random state."
   ]
  },
  {
   "cell_type": "code",
   "execution_count": 41,
   "id": "5b496ba3",
   "metadata": {},
   "outputs": [],
   "source": [
    "X_train, X_test, y_train, y_test = train_test_split(X, y, test_size=.2, stratify=X['red'], random_state=109)"
   ]
  },
  {
   "attachments": {},
   "cell_type": "markdown",
   "id": "a7db06c7",
   "metadata": {},
   "source": [
    "Scale the data"
   ]
  },
  {
   "cell_type": "code",
   "execution_count": 42,
   "id": "b7ee2a24",
   "metadata": {},
   "outputs": [],
   "source": [
    "scaler = StandardScaler()\n",
    "X_std_train = scaler.fit_transform(X_train)\n",
    "X_std_test = scaler.transform(X_test)"
   ]
  },
  {
   "attachments": {},
   "cell_type": "markdown",
   "id": "90eb4cc8",
   "metadata": {},
   "source": [
    "Fit and score a linear regression model."
   ]
  },
  {
   "cell_type": "code",
   "execution_count": 43,
   "id": "85b826e1",
   "metadata": {},
   "outputs": [],
   "source": [
    "lm = LinearRegression().fit(X_std_train, y_train)"
   ]
  },
  {
   "cell_type": "code",
   "execution_count": 44,
   "id": "846ccad1",
   "metadata": {},
   "outputs": [
    {
     "data": {
      "text/plain": [
       "(0.8193744658271392, 0.8510170596982802)"
      ]
     },
     "execution_count": 44,
     "metadata": {},
     "output_type": "execute_result"
    }
   ],
   "source": [
    "lm.score(X_std_train, y_train), lm.score(X_std_test, y_test)"
   ]
  },
  {
   "attachments": {},
   "cell_type": "markdown",
   "id": "312320c1",
   "metadata": {},
   "source": [
    "Let's see if we can get some improvement by adding up to degree 3 polynomial features and interation terms."
   ]
  },
  {
   "cell_type": "code",
   "execution_count": 45,
   "id": "322bcc05",
   "metadata": {},
   "outputs": [],
   "source": [
    "poly = PolynomialFeatures(degree=3, include_bias=False).fit(X_std_train)"
   ]
  },
  {
   "cell_type": "code",
   "execution_count": 46,
   "id": "6dacb644",
   "metadata": {},
   "outputs": [],
   "source": [
    "X_poly_train = poly.transform(X_std_train)\n",
    "X_poly_test = poly.transform(X_std_test)"
   ]
  },
  {
   "cell_type": "code",
   "execution_count": 47,
   "id": "f5e55482",
   "metadata": {},
   "outputs": [
    {
     "data": {
      "text/plain": [
       "(5197, 454)"
      ]
     },
     "execution_count": 47,
     "metadata": {},
     "output_type": "execute_result"
    }
   ],
   "source": [
    "X_poly_train.shape"
   ]
  },
  {
   "cell_type": "code",
   "execution_count": 48,
   "id": "deb7d36a",
   "metadata": {},
   "outputs": [
    {
     "data": {
      "text/plain": [
       "(0.9201946248107519, 0.8654133066752918)"
      ]
     },
     "execution_count": 48,
     "metadata": {},
     "output_type": "execute_result"
    }
   ],
   "source": [
    "lm_poly = LinearRegression().fit(X_poly_train, y_train)\n",
    "lm_poly.score(X_poly_train, y_train), lm_poly.score(X_poly_test, y_test)"
   ]
  },
  {
   "attachments": {},
   "cell_type": "markdown",
   "id": "a445ed92",
   "metadata": {},
   "source": [
    "We'll now try **PCR**, where we fit a regression model using the principle components as the predictors.\n",
    "\n",
    "The first step will be to **fit the PCA object**."
   ]
  },
  {
   "cell_type": "code",
   "execution_count": 49,
   "id": "ec2624bb",
   "metadata": {},
   "outputs": [],
   "source": [
    "pca = PCA().fit(X_poly_train)"
   ]
  },
  {
   "attachments": {},
   "cell_type": "markdown",
   "id": "fe73934f",
   "metadata": {},
   "source": [
    "Now we need to decide: **how many components should we use in our regression model?**\n",
    "\n",
    "Let's try to **'eyeball' it by creating a plot** visualizing the amount of variance explained by each new component and look for a point of diminishing returns (i.e., an \"elbow\" or \"knee\" in the plot)."
   ]
  },
  {
   "cell_type": "code",
   "execution_count": 50,
   "id": "e2c7fb94",
   "metadata": {},
   "outputs": [
    {
     "data": {
      "image/png": "[encoded data removed]",
      "text/plain": [
       "<Figure size 640x480 with 1 Axes>"
      ]
     },
     "metadata": {},
     "output_type": "display_data"
    }
   ],
   "source": [
    "n_to_plot = 50\n",
    "plt.plot(range(1, n_to_plot+1), np.cumsum(pca.explained_variance_ratio_[:n_to_plot]), 'o:')\n",
    "plt.xlabel('n components')\n",
    "plt.ylabel('cumulative explained variance ratio') \n",
    "plt.title('Principle Components of Wine Dataset');"
   ]
  },
  {
   "attachments": {},
   "cell_type": "markdown",
   "id": "ad0474e3",
   "metadata": {},
   "source": [
    "Pick an eyeballed value for n based on your plot."
   ]
  },
  {
   "cell_type": "code",
   "execution_count": 51,
   "id": "c7979841",
   "metadata": {},
   "outputs": [],
   "source": [
    "eyeballed_n = 7"
   ]
  },
  {
   "attachments": {},
   "cell_type": "markdown",
   "id": "39ce8f6a",
   "metadata": {},
   "source": [
    "PCA **transform** (i.e., project) the train and test design matrices, **fit** your model, and **score** on train and test.\n",
    "\n",
    "You can either create a new PCA object specifying `n_components`, or you can just index into the full component matrix when fitting and scoreing.\n",
    "\n",
    "How did you do?"
   ]
  },
  {
   "cell_type": "code",
   "execution_count": 52,
   "id": "a197c91a",
   "metadata": {},
   "outputs": [],
   "source": [
    "X_pca_train = pca.transform(X_poly_train)\n",
    "X_pca_test = pca.transform(X_poly_test)"
   ]
  },
  {
   "cell_type": "code",
   "execution_count": 53,
   "id": "646309de",
   "metadata": {},
   "outputs": [],
   "source": [
    "pcr = LinearRegression().fit(X_pca_train[:,:eyeballed_n], y_train)"
   ]
  },
  {
   "cell_type": "code",
   "execution_count": 54,
   "id": "fd67d2a2",
   "metadata": {},
   "outputs": [
    {
     "data": {
      "text/plain": [
       "(0.004566132282102675, 0.002806296433593425)"
      ]
     },
     "execution_count": 54,
     "metadata": {},
     "output_type": "execute_result"
    }
   ],
   "source": [
    "pcr.score(X_pca_train[:, :eyeballed_n], y_train), pcr.score(X_pca_test[:, :eyeballed_n], y_test)"
   ]
  },
  {
   "cell_type": "code",
   "execution_count": 55,
   "id": "630a7571",
   "metadata": {},
   "outputs": [
    {
     "name": "stdout",
     "output_type": "stream",
     "text": [
      "💩\n"
     ]
    }
   ],
   "source": [
    "print(u\"\\U0001F4A9\")"
   ]
  },
  {
   "attachments": {},
   "cell_type": "markdown",
   "id": "d8100dc4",
   "metadata": {},
   "source": [
    "Can you think of a possible explanation for these results?"
   ]
  },
  {
   "attachments": {},
   "cell_type": "markdown",
   "id": "5c79c8d7",
   "metadata": {},
   "source": [
    "## PCR Coefficients in terms of the Original Predictors"
   ]
  },
  {
   "attachments": {},
   "cell_type": "markdown",
   "id": "018e8f97",
   "metadata": {},
   "source": [
    "<img src='img/pcr_coefs.png' width=700px>"
   ]
  },
  {
   "attachments": {},
   "cell_type": "markdown",
   "id": "6f6265ce",
   "metadata": {},
   "source": [
    "Using the slide above, calculate the coefficients for your PCR model in terms of the *original* predictors."
   ]
  },
  {
   "cell_type": "code",
   "execution_count": 56,
   "id": "7c91a4d4",
   "metadata": {},
   "outputs": [],
   "source": [
    "m = eyeballed_n\n",
    "Bz = pcr.coef_\n",
    "Z = X_pca_train\n",
    "W = pca.components_.T[:,:eyeballed_n]"
   ]
  },
  {
   "cell_type": "code",
   "execution_count": 57,
   "id": "a381a8a7",
   "metadata": {},
   "outputs": [
    {
     "data": {
      "text/plain": [
       "((454, 7), (7,))"
      ]
     },
     "execution_count": 57,
     "metadata": {},
     "output_type": "execute_result"
    }
   ],
   "source": [
    "W.shape, Bz.shape"
   ]
  },
  {
   "cell_type": "code",
   "execution_count": 58,
   "id": "dd781c86",
   "metadata": {},
   "outputs": [
    {
     "data": {
      "text/plain": [
       "10.486980950548395"
      ]
     },
     "execution_count": 58,
     "metadata": {},
     "output_type": "execute_result"
    }
   ],
   "source": [
    "pcr.intercept_"
   ]
  },
  {
   "attachments": {},
   "cell_type": "markdown",
   "id": "afb0d690",
   "metadata": {},
   "source": [
    "You may also wish to visualize the coefficients (there will be a lot of them!)"
   ]
  },
  {
   "cell_type": "code",
   "execution_count": 59,
   "id": "1a524e25",
   "metadata": {},
   "outputs": [
    {
     "data": {
      "image/png": "[encoded data removed]",
      "text/plain": [
       "<Figure size 1000x600 with 1 Axes>"
      ]
     },
     "metadata": {},
     "output_type": "display_data"
    }
   ],
   "source": [
    "Bx = W@Bz\n",
    "plt.figure(figsize=(10,6))\n",
    "plt.bar(range(len(Bx)), Bx)\n",
    "plt.ylabel(r\"$\\beta_x$\")\n",
    "plt.xlabel(\"predictors\\n(original $x$ /w poly & interaction terms)\");"
   ]
  },
  {
   "attachments": {},
   "cell_type": "markdown",
   "id": "f0fa8b6b",
   "metadata": {},
   "source": [
    "You should also confirm that you get the same coefficients in terms of the predictors in $X_{\\text{design}}$ when fitting a PCR model on *all* components as you would get from just fitting a linear regression on your original design matrix."
   ]
  },
  {
   "attachments": {},
   "cell_type": "markdown",
   "id": "a47ef5aa",
   "metadata": {},
   "source": [
    "### Fit a polynomial model\n",
    "\n",
    "You'll find making use of the `make_pipeline` function and the `Pipeline` class from SKLearn make this whole section much easier.\n",
    "\n",
    "[sklearn.pipeline.make_pipeline](https://scikit-learn.org/stable/modules/generated/sklearn.pipeline.make_pipeline.html#sklearn.pipeline.make_pipeline)\n",
    "\n",
    "Fit and score your model."
   ]
  },
  {
   "cell_type": "code",
   "execution_count": 60,
   "id": "df5c38e7",
   "metadata": {},
   "outputs": [],
   "source": [
    "poly_model = make_pipeline(StandardScaler(),\n",
    "                     PolynomialFeatures(degree=3, include_bias=False),\n",
    "                     LinearRegression())"
   ]
  },
  {
   "cell_type": "code",
   "execution_count": 61,
   "id": "c42dc541",
   "metadata": {},
   "outputs": [
    {
     "data": {
      "text/plain": [
       "[('standardscaler', StandardScaler()),\n",
       " ('polynomialfeatures', PolynomialFeatures(degree=3, include_bias=False)),\n",
       " ('linearregression', LinearRegression())]"
      ]
     },
     "execution_count": 61,
     "metadata": {},
     "output_type": "execute_result"
    }
   ],
   "source": [
    "poly_model.steps"
   ]
  },
  {
   "cell_type": "code",
   "execution_count": 62,
   "id": "f913b2e5",
   "metadata": {},
   "outputs": [
    {
     "data": {
      "text/plain": [
       "(0.9201946248107519, -1.2663263095889108)"
      ]
     },
     "execution_count": 62,
     "metadata": {},
     "output_type": "execute_result"
    }
   ],
   "source": [
    "poly_model.fit(X_train, y_train)\n",
    "\n",
    "poly_model.score(X_train, y_train), cross_val_score(poly_model, X_train, y_train).mean()"
   ]
  },
  {
   "cell_type": "code",
   "execution_count": 63,
   "id": "ec849a08",
   "metadata": {},
   "outputs": [],
   "source": [
    "betas = poly_model.get_params()['linearregression'].coef_"
   ]
  },
  {
   "cell_type": "code",
   "execution_count": 64,
   "id": "5bc2f657",
   "metadata": {},
   "outputs": [
    {
     "data": {
      "text/plain": [
       "454"
      ]
     },
     "execution_count": 64,
     "metadata": {},
     "output_type": "execute_result"
    }
   ],
   "source": [
    "len(betas)"
   ]
  },
  {
   "cell_type": "code",
   "execution_count": 65,
   "id": "9b939849",
   "metadata": {},
   "outputs": [
    {
     "data": {
      "image/png": "[encoded data removed]",
      "text/plain": [
       "<Figure size 640x480 with 1 Axes>"
      ]
     },
     "metadata": {},
     "output_type": "display_data"
    }
   ],
   "source": [
    "plt.bar(x=np.arange(1, len(betas)+1), height=betas)\n",
    "plt.ylabel(r\"$\\beta_z$\")\n",
    "plt.xlabel(\"Principal Component\");"
   ]
  },
  {
   "attachments": {},
   "cell_type": "markdown",
   "id": "12952141",
   "metadata": {},
   "source": [
    "## RidgeCV\n",
    "\n",
    "Try again using the RidgeCV class. Do your results improve?"
   ]
  },
  {
   "cell_type": "code",
   "execution_count": 66,
   "id": "463b3018",
   "metadata": {
    "scrolled": true
   },
   "outputs": [
    {
     "data": {
      "text/html": [
       "<style>#sk-container-id-1 {color: black;}#sk-container-id-1 pre{padding: 0;}#sk-container-id-1 div.sk-toggleable {background-color: white;}#sk-container-id-1 label.sk-toggleable__label {cursor: pointer;display: block;width: 100%;margin-bottom: 0;padding: 0.3em;box-sizing: border-box;text-align: center;}#sk-container-id-1 label.sk-toggleable__label-arrow:before {content: \"▸\";float: left;margin-right: 0.25em;color: #696969;}#sk-container-id-1 label.sk-toggleable__label-arrow:hover:before {color: black;}#sk-container-id-1 div.sk-estimator:hover label.sk-toggleable__label-arrow:before {color: black;}#sk-container-id-1 div.sk-toggleable__content {max-height: 0;max-width: 0;overflow: hidden;text-align: left;background-color: #f0f8ff;}#sk-container-id-1 div.sk-toggleable__content pre {margin: 0.2em;color: black;border-radius: 0.25em;background-color: #f0f8ff;}#sk-container-id-1 input.sk-toggleable__control:checked~div.sk-toggleable__content {max-height: 200px;max-width: 100%;overflow: auto;}#sk-container-id-1 input.sk-toggleable__control:checked~label.sk-toggleable__label-arrow:before {content: \"▾\";}#sk-container-id-1 div.sk-estimator input.sk-toggleable__control:checked~label.sk-toggleable__label {background-color: #d4ebff;}#sk-container-id-1 div.sk-label input.sk-toggleable__control:checked~label.sk-toggleable__label {background-color: #d4ebff;}#sk-container-id-1 input.sk-hidden--visually {border: 0;clip: rect(1px 1px 1px 1px);clip: rect(1px, 1px, 1px, 1px);height: 1px;margin: -1px;overflow: hidden;padding: 0;position: absolute;width: 1px;}#sk-container-id-1 div.sk-estimator {font-family: monospace;background-color: #f0f8ff;border: 1px dotted black;border-radius: 0.25em;box-sizing: border-box;margin-bottom: 0.5em;}#sk-container-id-1 div.sk-estimator:hover {background-color: #d4ebff;}#sk-container-id-1 div.sk-parallel-item::after {content: \"\";width: 100%;border-bottom: 1px solid gray;flex-grow: 1;}#sk-container-id-1 div.sk-label:hover label.sk-toggleable__label {background-color: #d4ebff;}#sk-container-id-1 div.sk-serial::before {content: \"\";position: absolute;border-left: 1px solid gray;box-sizing: border-box;top: 0;bottom: 0;left: 50%;z-index: 0;}#sk-container-id-1 div.sk-serial {display: flex;flex-direction: column;align-items: center;background-color: white;padding-right: 0.2em;padding-left: 0.2em;position: relative;}#sk-container-id-1 div.sk-item {position: relative;z-index: 1;}#sk-container-id-1 div.sk-parallel {display: flex;align-items: stretch;justify-content: center;background-color: white;position: relative;}#sk-container-id-1 div.sk-item::before, #sk-container-id-1 div.sk-parallel-item::before {content: \"\";position: absolute;border-left: 1px solid gray;box-sizing: border-box;top: 0;bottom: 0;left: 50%;z-index: -1;}#sk-container-id-1 div.sk-parallel-item {display: flex;flex-direction: column;z-index: 1;position: relative;background-color: white;}#sk-container-id-1 div.sk-parallel-item:first-child::after {align-self: flex-end;width: 50%;}#sk-container-id-1 div.sk-parallel-item:last-child::after {align-self: flex-start;width: 50%;}#sk-container-id-1 div.sk-parallel-item:only-child::after {width: 0;}#sk-container-id-1 div.sk-dashed-wrapped {border: 1px dashed gray;margin: 0 0.4em 0.5em 0.4em;box-sizing: border-box;padding-bottom: 0.4em;background-color: white;}#sk-container-id-1 div.sk-label label {font-family: monospace;font-weight: bold;display: inline-block;line-height: 1.2em;}#sk-container-id-1 div.sk-label-container {text-align: center;}#sk-container-id-1 div.sk-container {/* jupyter's `normalize.less` sets `[hidden] { display: none; }` but bootstrap.min.css set `[hidden] { display: none !important; }` so we also need the `!important` here to be able to override the default hidden behavior on the sphinx rendered scikit-learn.org. See: https://github.com/scikit-learn/scikit-learn/issues/21755 */display: inline-block !important;position: relative;}#sk-container-id-1 div.sk-text-repr-fallback {display: none;}</style><div id=\"sk-container-id-1\" class=\"sk-top-container\"><div class=\"sk-text-repr-fallback\"><pre>Pipeline(steps=[(&#x27;standardscaler&#x27;, StandardScaler()),\n",
       "                (&#x27;polynomialfeatures&#x27;,\n",
       "                 PolynomialFeatures(degree=3, include_bias=False)),\n",
       "                (&#x27;ridgecv&#x27;, RidgeCV())])</pre><b>In a Jupyter environment, please rerun this cell to show the HTML representation or trust the notebook. <br />On GitHub, the HTML representation is unable to render, please try loading this page with nbviewer.org.</b></div><div class=\"sk-container\" hidden><div class=\"sk-item sk-dashed-wrapped\"><div class=\"sk-label-container\"><div class=\"sk-label sk-toggleable\"><input class=\"sk-toggleable__control sk-hidden--visually\" id=\"sk-estimator-id-1\" type=\"checkbox\" ><label for=\"sk-estimator-id-1\" class=\"sk-toggleable__label sk-toggleable__label-arrow\">Pipeline</label><div class=\"sk-toggleable__content\"><pre>Pipeline(steps=[(&#x27;standardscaler&#x27;, StandardScaler()),\n",
       "                (&#x27;polynomialfeatures&#x27;,\n",
       "                 PolynomialFeatures(degree=3, include_bias=False)),\n",
       "                (&#x27;ridgecv&#x27;, RidgeCV())])</pre></div></div></div><div class=\"sk-serial\"><div class=\"sk-item\"><div class=\"sk-estimator sk-toggleable\"><input class=\"sk-toggleable__control sk-hidden--visually\" id=\"sk-estimator-id-2\" type=\"checkbox\" ><label for=\"sk-estimator-id-2\" class=\"sk-toggleable__label sk-toggleable__label-arrow\">StandardScaler</label><div class=\"sk-toggleable__content\"><pre>StandardScaler()</pre></div></div></div><div class=\"sk-item\"><div class=\"sk-estimator sk-toggleable\"><input class=\"sk-toggleable__control sk-hidden--visually\" id=\"sk-estimator-id-3\" type=\"checkbox\" ><label for=\"sk-estimator-id-3\" class=\"sk-toggleable__label sk-toggleable__label-arrow\">PolynomialFeatures</label><div class=\"sk-toggleable__content\"><pre>PolynomialFeatures(degree=3, include_bias=False)</pre></div></div></div><div class=\"sk-item\"><div class=\"sk-estimator sk-toggleable\"><input class=\"sk-toggleable__control sk-hidden--visually\" id=\"sk-estimator-id-4\" type=\"checkbox\" ><label for=\"sk-estimator-id-4\" class=\"sk-toggleable__label sk-toggleable__label-arrow\">RidgeCV</label><div class=\"sk-toggleable__content\"><pre>RidgeCV()</pre></div></div></div></div></div></div></div>"
      ],
      "text/plain": [
       "Pipeline(steps=[('standardscaler', StandardScaler()),\n",
       "                ('polynomialfeatures',\n",
       "                 PolynomialFeatures(degree=3, include_bias=False)),\n",
       "                ('ridgecv', RidgeCV())])"
      ]
     },
     "execution_count": 66,
     "metadata": {},
     "output_type": "execute_result"
    }
   ],
   "source": [
    "ridge = make_pipeline(StandardScaler(),\n",
    "                      PolynomialFeatures(3, include_bias=False),\n",
    "                      RidgeCV())\n",
    "ridge.fit(X_train, y_train)"
   ]
  },
  {
   "cell_type": "code",
   "execution_count": 67,
   "id": "e2bc7b70",
   "metadata": {},
   "outputs": [
    {
     "data": {
      "text/plain": [
       "(0.9189575485817102, 0.8681120594144288)"
      ]
     },
     "execution_count": 67,
     "metadata": {},
     "output_type": "execute_result"
    }
   ],
   "source": [
    "ridge.score(X_train, y_train), ridge.score(X_test, y_test)"
   ]
  },
  {
   "cell_type": "code",
   "execution_count": 68,
   "id": "d2119ac8",
   "metadata": {},
   "outputs": [
    {
     "data": {
      "text/plain": [
       "0.19812567602769465"
      ]
     },
     "execution_count": 68,
     "metadata": {},
     "output_type": "execute_result"
    }
   ],
   "source": [
    "cross_val_score(ridge, X_train, y_train).mean()"
   ]
  },
  {
   "cell_type": "code",
   "execution_count": 69,
   "id": "0e47c50c",
   "metadata": {},
   "outputs": [],
   "source": [
    "model = ridge.get_params()['ridgecv']\n",
    "# model.cv_values_.mean()"
   ]
  },
  {
   "cell_type": "code",
   "execution_count": 70,
   "id": "e288aa75",
   "metadata": {},
   "outputs": [
    {
     "data": {
      "text/plain": [
       "array(['x3', 'x7 x11', 'x7^2', 'x0', 'x8', 'x3 x11^2'], dtype=object)"
      ]
     },
     "execution_count": 70,
     "metadata": {},
     "output_type": "execute_result"
    }
   ],
   "source": [
    "ridge_betas = ridge.get_params()['ridgecv'].coef_\n",
    "\n",
    "sorted_betas = np.argsort(ridge_betas)[::-1]\n",
    "ridge[1].get_feature_names_out()[sorted_betas[:6]]"
   ]
  },
  {
   "attachments": {},
   "cell_type": "markdown",
   "id": "e712e2fa",
   "metadata": {},
   "source": [
    "## Principle Component Regression (PCR)\n",
    "\n",
    "Now we'll try PCR. But we'll have to decide on a choice for the number of components."
   ]
  },
  {
   "cell_type": "code",
   "execution_count": 71,
   "id": "56663ac8",
   "metadata": {},
   "outputs": [],
   "source": [
    "d = 3\n",
    "pca_pipe = make_pipeline(StandardScaler(),\n",
    "                         PolynomialFeatures(degree=d),\n",
    "                         PCA())"
   ]
  },
  {
   "cell_type": "code",
   "execution_count": 72,
   "id": "a7fb1c16",
   "metadata": {},
   "outputs": [],
   "source": [
    "X_pca_train = pca_pipe.fit_transform(X_train)\n",
    "X_pca_test = pca_pipe.transform(X_train)"
   ]
  },
  {
   "cell_type": "code",
   "execution_count": 73,
   "id": "b14d6f26",
   "metadata": {},
   "outputs": [
    {
     "data": {
      "text/plain": [
       "(5197, 455)"
      ]
     },
     "execution_count": 73,
     "metadata": {},
     "output_type": "execute_result"
    }
   ],
   "source": [
    "X_pca_train.shape"
   ]
  },
  {
   "cell_type": "code",
   "execution_count": 74,
   "id": "e55daf2f",
   "metadata": {},
   "outputs": [
    {
     "data": {
      "text/plain": [
       "455"
      ]
     },
     "execution_count": 74,
     "metadata": {},
     "output_type": "execute_result"
    }
   ],
   "source": [
    "pca = pca_pipe.fit(X_train).get_params()['pca']\n",
    "pca.n_components_"
   ]
  },
  {
   "attachments": {},
   "cell_type": "markdown",
   "id": "da86f247",
   "metadata": {},
   "source": [
    "## PCR, choose n_components that explain 95% of variance\n",
    "\n",
    "You can do this entirely numerically, but we should make a plot too to illustrate our approach."
   ]
  },
  {
   "cell_type": "code",
   "execution_count": 75,
   "id": "980ee088",
   "metadata": {},
   "outputs": [
    {
     "data": {
      "image/png": "[encoded data removed]",
      "text/plain": [
       "<Figure size 640x480 with 1 Axes>"
      ]
     },
     "metadata": {},
     "output_type": "display_data"
    }
   ],
   "source": [
    "n_thresh = np.argmax([np.cumsum(pca.explained_variance_ratio_) >= 0.95])+1\n",
    "plt.plot(range(1, pca.n_components_+1), np.cumsum(pca.explained_variance_ratio_))\n",
    "# plt.xlim(1)\n",
    "plt.axvline(n_thresh, ls='--', c='k', label=f'hueristic n={n_thresh}')\n",
    "plt.axhline(0.95, ls=':', c='r', alpha=0.3, label=f'95% variance explained')\n",
    "plt.xlabel(\"n components\")\n",
    "plt.ylabel(\"cumulative % variance explained\")\n",
    "xticks = list(range(0, pca.n_components_+1, 50)) + [n_thresh]\n",
    "xticks[0] = 1\n",
    "plt.xticks(xticks);\n",
    "plt.legend()\n",
    "plt.gca().yaxis.set_major_formatter(mtick.PercentFormatter(xmax=1))\n",
    "plt.title(\"Selecting N Components that Explain 95% of the Variance\");"
   ]
  },
  {
   "attachments": {},
   "cell_type": "markdown",
   "id": "2fc56c1e",
   "metadata": {},
   "source": [
    "Once you have your choice of `n`, fit the PCR model and score."
   ]
  },
  {
   "cell_type": "code",
   "execution_count": 76,
   "id": "7f3eccc2",
   "metadata": {},
   "outputs": [],
   "source": [
    "pcr_pipe = make_pipeline(StandardScaler(),\n",
    "                    PolynomialFeatures(d),\n",
    "                    PCA(n_components=n_thresh),\n",
    "                    LinearRegression())"
   ]
  },
  {
   "cell_type": "code",
   "execution_count": 77,
   "id": "1e77d8c5",
   "metadata": {},
   "outputs": [
    {
     "data": {
      "text/plain": [
       "(0.004714715727903052, 0.004240016992764106)"
      ]
     },
     "execution_count": 77,
     "metadata": {},
     "output_type": "execute_result"
    }
   ],
   "source": [
    "from copy import deepcopy\n",
    "pcr_95var = deepcopy(pcr_pipe)\n",
    "pcr_95var.fit(X_train, y_train)\n",
    "pcr_95var.score(X_train, y_train), pcr_95var.score(X_test, y_test)"
   ]
  },
  {
   "attachments": {},
   "cell_type": "markdown",
   "id": "15780bcf",
   "metadata": {},
   "source": [
    "## Cross-validation for choosing n_components\n",
    "\n",
    "Try using cross validation to choose `n`!"
   ]
  },
  {
   "cell_type": "code",
   "execution_count": 79,
   "id": "473a2836",
   "metadata": {},
   "outputs": [],
   "source": [
    "# %load snippets/cv_n_components.py\n",
    "max_components = 200\n",
    "train_mses = np.empty(max_components)\n",
    "train_stds = np.empty_like(train_mses)\n",
    "val_mses = np.empty_like(train_mses)\n",
    "val_stds = np.empty_like(train_mses)\n",
    "lm =  LinearRegression()\n",
    "for i, n in enumerate(range(1, max_components+1)):\n",
    "    cv = cross_validate(lm,\n",
    "                        X_pca_train[:,:n+1],\n",
    "                        y_train,\n",
    "                        cv=3,\n",
    "                        scoring='neg_mean_squared_error',\n",
    "                        return_train_score=True)\n",
    "    train_mses[i] = -cv['train_score'].mean()\n",
    "    train_stds[i] = cv['train_score'].std()\n",
    "    val_mses[i] = -cv['test_score'].mean()\n",
    "    val_stds[i] = cv['test_score'].std()"
   ]
  },
  {
   "cell_type": "code",
   "execution_count": 80,
   "id": "20604073",
   "metadata": {},
   "outputs": [
    {
     "data": {
      "text/plain": [
       "111"
      ]
     },
     "execution_count": 80,
     "metadata": {},
     "output_type": "execute_result"
    }
   ],
   "source": [
    "best_n = np.argmin(val_mses)+1\n",
    "best_n"
   ]
  },
  {
   "cell_type": "code",
   "execution_count": 82,
   "id": "a14c98d5",
   "metadata": {},
   "outputs": [
    {
     "data": {
      "image/png": "[encoded data removed]",
      "text/plain": [
       "<Figure size 640x480 with 1 Axes>"
      ]
     },
     "metadata": {},
     "output_type": "display_data"
    }
   ],
   "source": [
    "# %load snippets/cv_n_plot.py\n",
    "plt.plot(range(1, max_components+1), train_mses, label='train')\n",
    "plt.plot(range(1, max_components+1), val_mses, label='val')\n",
    "plt.fill_between(range(1, max_components+1), val_mses-val_stds, val_mses+val_stds, color='r', alpha=0.2, label='+/- 1 std')\n",
    "plt.yscale('log')\n",
    "plt.axvline(best_n, ls='--', c='k', label=f'best n = {best_n}')\n",
    "plt.legend()\n",
    "xticks = list(range(0, max_components+1, 25)) + [best_n]\n",
    "xticks[0] = 1\n",
    "plt.xticks(xticks);\n",
    "plt.xlabel('n components')\n",
    "plt.ylabel('MSE')\n",
    "plt.title(\"PCR Model\\nCross Validation for Choosing N Components\");"
   ]
  },
  {
   "attachments": {},
   "cell_type": "markdown",
   "id": "a8feb25d",
   "metadata": {},
   "source": [
    "Now fit a model called `pcr_cv` using your selected $n$ and score the model."
   ]
  },
  {
   "cell_type": "code",
   "execution_count": 83,
   "id": "3b3674fa",
   "metadata": {},
   "outputs": [],
   "source": [
    "pcr_cv = make_pipeline(StandardScaler(),\n",
    "                    PolynomialFeatures(d),\n",
    "                    PCA(best_n),\n",
    "                    LinearRegression())"
   ]
  },
  {
   "cell_type": "code",
   "execution_count": 84,
   "id": "10ed9dbe",
   "metadata": {},
   "outputs": [
    {
     "data": {
      "text/html": [
       "<style>#sk-container-id-2 {color: black;}#sk-container-id-2 pre{padding: 0;}#sk-container-id-2 div.sk-toggleable {background-color: white;}#sk-container-id-2 label.sk-toggleable__label {cursor: pointer;display: block;width: 100%;margin-bottom: 0;padding: 0.3em;box-sizing: border-box;text-align: center;}#sk-container-id-2 label.sk-toggleable__label-arrow:before {content: \"▸\";float: left;margin-right: 0.25em;color: #696969;}#sk-container-id-2 label.sk-toggleable__label-arrow:hover:before {color: black;}#sk-container-id-2 div.sk-estimator:hover label.sk-toggleable__label-arrow:before {color: black;}#sk-container-id-2 div.sk-toggleable__content {max-height: 0;max-width: 0;overflow: hidden;text-align: left;background-color: #f0f8ff;}#sk-container-id-2 div.sk-toggleable__content pre {margin: 0.2em;color: black;border-radius: 0.25em;background-color: #f0f8ff;}#sk-container-id-2 input.sk-toggleable__control:checked~div.sk-toggleable__content {max-height: 200px;max-width: 100%;overflow: auto;}#sk-container-id-2 input.sk-toggleable__control:checked~label.sk-toggleable__label-arrow:before {content: \"▾\";}#sk-container-id-2 div.sk-estimator input.sk-toggleable__control:checked~label.sk-toggleable__label {background-color: #d4ebff;}#sk-container-id-2 div.sk-label input.sk-toggleable__control:checked~label.sk-toggleable__label {background-color: #d4ebff;}#sk-container-id-2 input.sk-hidden--visually {border: 0;clip: rect(1px 1px 1px 1px);clip: rect(1px, 1px, 1px, 1px);height: 1px;margin: -1px;overflow: hidden;padding: 0;position: absolute;width: 1px;}#sk-container-id-2 div.sk-estimator {font-family: monospace;background-color: #f0f8ff;border: 1px dotted black;border-radius: 0.25em;box-sizing: border-box;margin-bottom: 0.5em;}#sk-container-id-2 div.sk-estimator:hover {background-color: #d4ebff;}#sk-container-id-2 div.sk-parallel-item::after {content: \"\";width: 100%;border-bottom: 1px solid gray;flex-grow: 1;}#sk-container-id-2 div.sk-label:hover label.sk-toggleable__label {background-color: #d4ebff;}#sk-container-id-2 div.sk-serial::before {content: \"\";position: absolute;border-left: 1px solid gray;box-sizing: border-box;top: 0;bottom: 0;left: 50%;z-index: 0;}#sk-container-id-2 div.sk-serial {display: flex;flex-direction: column;align-items: center;background-color: white;padding-right: 0.2em;padding-left: 0.2em;position: relative;}#sk-container-id-2 div.sk-item {position: relative;z-index: 1;}#sk-container-id-2 div.sk-parallel {display: flex;align-items: stretch;justify-content: center;background-color: white;position: relative;}#sk-container-id-2 div.sk-item::before, #sk-container-id-2 div.sk-parallel-item::before {content: \"\";position: absolute;border-left: 1px solid gray;box-sizing: border-box;top: 0;bottom: 0;left: 50%;z-index: -1;}#sk-container-id-2 div.sk-parallel-item {display: flex;flex-direction: column;z-index: 1;position: relative;background-color: white;}#sk-container-id-2 div.sk-parallel-item:first-child::after {align-self: flex-end;width: 50%;}#sk-container-id-2 div.sk-parallel-item:last-child::after {align-self: flex-start;width: 50%;}#sk-container-id-2 div.sk-parallel-item:only-child::after {width: 0;}#sk-container-id-2 div.sk-dashed-wrapped {border: 1px dashed gray;margin: 0 0.4em 0.5em 0.4em;box-sizing: border-box;padding-bottom: 0.4em;background-color: white;}#sk-container-id-2 div.sk-label label {font-family: monospace;font-weight: bold;display: inline-block;line-height: 1.2em;}#sk-container-id-2 div.sk-label-container {text-align: center;}#sk-container-id-2 div.sk-container {/* jupyter's `normalize.less` sets `[hidden] { display: none; }` but bootstrap.min.css set `[hidden] { display: none !important; }` so we also need the `!important` here to be able to override the default hidden behavior on the sphinx rendered scikit-learn.org. See: https://github.com/scikit-learn/scikit-learn/issues/21755 */display: inline-block !important;position: relative;}#sk-container-id-2 div.sk-text-repr-fallback {display: none;}</style><div id=\"sk-container-id-2\" class=\"sk-top-container\"><div class=\"sk-text-repr-fallback\"><pre>Pipeline(steps=[(&#x27;standardscaler&#x27;, StandardScaler()),\n",
       "                (&#x27;polynomialfeatures&#x27;, PolynomialFeatures(degree=3)),\n",
       "                (&#x27;pca&#x27;, PCA(n_components=111)),\n",
       "                (&#x27;linearregression&#x27;, LinearRegression())])</pre><b>In a Jupyter environment, please rerun this cell to show the HTML representation or trust the notebook. <br />On GitHub, the HTML representation is unable to render, please try loading this page with nbviewer.org.</b></div><div class=\"sk-container\" hidden><div class=\"sk-item sk-dashed-wrapped\"><div class=\"sk-label-container\"><div class=\"sk-label sk-toggleable\"><input class=\"sk-toggleable__control sk-hidden--visually\" id=\"sk-estimator-id-5\" type=\"checkbox\" ><label for=\"sk-estimator-id-5\" class=\"sk-toggleable__label sk-toggleable__label-arrow\">Pipeline</label><div class=\"sk-toggleable__content\"><pre>Pipeline(steps=[(&#x27;standardscaler&#x27;, StandardScaler()),\n",
       "                (&#x27;polynomialfeatures&#x27;, PolynomialFeatures(degree=3)),\n",
       "                (&#x27;pca&#x27;, PCA(n_components=111)),\n",
       "                (&#x27;linearregression&#x27;, LinearRegression())])</pre></div></div></div><div class=\"sk-serial\"><div class=\"sk-item\"><div class=\"sk-estimator sk-toggleable\"><input class=\"sk-toggleable__control sk-hidden--visually\" id=\"sk-estimator-id-6\" type=\"checkbox\" ><label for=\"sk-estimator-id-6\" class=\"sk-toggleable__label sk-toggleable__label-arrow\">StandardScaler</label><div class=\"sk-toggleable__content\"><pre>StandardScaler()</pre></div></div></div><div class=\"sk-item\"><div class=\"sk-estimator sk-toggleable\"><input class=\"sk-toggleable__control sk-hidden--visually\" id=\"sk-estimator-id-7\" type=\"checkbox\" ><label for=\"sk-estimator-id-7\" class=\"sk-toggleable__label sk-toggleable__label-arrow\">PolynomialFeatures</label><div class=\"sk-toggleable__content\"><pre>PolynomialFeatures(degree=3)</pre></div></div></div><div class=\"sk-item\"><div class=\"sk-estimator sk-toggleable\"><input class=\"sk-toggleable__control sk-hidden--visually\" id=\"sk-estimator-id-8\" type=\"checkbox\" ><label for=\"sk-estimator-id-8\" class=\"sk-toggleable__label sk-toggleable__label-arrow\">PCA</label><div class=\"sk-toggleable__content\"><pre>PCA(n_components=111)</pre></div></div></div><div class=\"sk-item\"><div class=\"sk-estimator sk-toggleable\"><input class=\"sk-toggleable__control sk-hidden--visually\" id=\"sk-estimator-id-9\" type=\"checkbox\" ><label for=\"sk-estimator-id-9\" class=\"sk-toggleable__label sk-toggleable__label-arrow\">LinearRegression</label><div class=\"sk-toggleable__content\"><pre>LinearRegression()</pre></div></div></div></div></div></div></div>"
      ],
      "text/plain": [
       "Pipeline(steps=[('standardscaler', StandardScaler()),\n",
       "                ('polynomialfeatures', PolynomialFeatures(degree=3)),\n",
       "                ('pca', PCA(n_components=111)),\n",
       "                ('linearregression', LinearRegression())])"
      ]
     },
     "execution_count": 84,
     "metadata": {},
     "output_type": "execute_result"
    }
   ],
   "source": [
    "pcr_cv.fit(X_train, y_train)"
   ]
  },
  {
   "cell_type": "code",
   "execution_count": 85,
   "id": "22702af6",
   "metadata": {},
   "outputs": [
    {
     "data": {
      "text/plain": [
       "(0.6807332549881961, 0.6071556675317427)"
      ]
     },
     "execution_count": 85,
     "metadata": {},
     "output_type": "execute_result"
    }
   ],
   "source": [
    "pcr_cv.score(X_train, y_train), pcr_cv.score(X_test, y_test)"
   ]
  },
  {
   "attachments": {},
   "cell_type": "markdown",
   "id": "0eeecd07",
   "metadata": {},
   "source": [
    "## Lasso to select best PCR components\n",
    "\n",
    "Use a pipeline with LassoCV to select the best components for the model. Select from roughly twice as many components as you found to be ideal through cross-validation.\n",
    "\n",
    "Call your pipeline `lasso_pcr`"
   ]
  },
  {
   "cell_type": "code",
   "execution_count": 87,
   "id": "aba34275",
   "metadata": {},
   "outputs": [],
   "source": [
    "# %load snippets/lasso_pipeline.py\n",
    "lasso_pcr = make_pipeline(StandardScaler(),\n",
    "                    PolynomialFeatures(d, include_bias=False),\n",
    "                    PCA(),\n",
    "                    LassoCV(alphas=np.logspace(-4,0), eps=0.0001))"
   ]
  },
  {
   "cell_type": "code",
   "execution_count": 88,
   "id": "4680b349",
   "metadata": {},
   "outputs": [
    {
     "data": {
      "text/html": [
       "<style>#sk-container-id-3 {color: black;}#sk-container-id-3 pre{padding: 0;}#sk-container-id-3 div.sk-toggleable {background-color: white;}#sk-container-id-3 label.sk-toggleable__label {cursor: pointer;display: block;width: 100%;margin-bottom: 0;padding: 0.3em;box-sizing: border-box;text-align: center;}#sk-container-id-3 label.sk-toggleable__label-arrow:before {content: \"▸\";float: left;margin-right: 0.25em;color: #696969;}#sk-container-id-3 label.sk-toggleable__label-arrow:hover:before {color: black;}#sk-container-id-3 div.sk-estimator:hover label.sk-toggleable__label-arrow:before {color: black;}#sk-container-id-3 div.sk-toggleable__content {max-height: 0;max-width: 0;overflow: hidden;text-align: left;background-color: #f0f8ff;}#sk-container-id-3 div.sk-toggleable__content pre {margin: 0.2em;color: black;border-radius: 0.25em;background-color: #f0f8ff;}#sk-container-id-3 input.sk-toggleable__control:checked~div.sk-toggleable__content {max-height: 200px;max-width: 100%;overflow: auto;}#sk-container-id-3 input.sk-toggleable__control:checked~label.sk-toggleable__label-arrow:before {content: \"▾\";}#sk-container-id-3 div.sk-estimator input.sk-toggleable__control:checked~label.sk-toggleable__label {background-color: #d4ebff;}#sk-container-id-3 div.sk-label input.sk-toggleable__control:checked~label.sk-toggleable__label {background-color: #d4ebff;}#sk-container-id-3 input.sk-hidden--visually {border: 0;clip: rect(1px 1px 1px 1px);clip: rect(1px, 1px, 1px, 1px);height: 1px;margin: -1px;overflow: hidden;padding: 0;position: absolute;width: 1px;}#sk-container-id-3 div.sk-estimator {font-family: monospace;background-color: #f0f8ff;border: 1px dotted black;border-radius: 0.25em;box-sizing: border-box;margin-bottom: 0.5em;}#sk-container-id-3 div.sk-estimator:hover {background-color: #d4ebff;}#sk-container-id-3 div.sk-parallel-item::after {content: \"\";width: 100%;border-bottom: 1px solid gray;flex-grow: 1;}#sk-container-id-3 div.sk-label:hover label.sk-toggleable__label {background-color: #d4ebff;}#sk-container-id-3 div.sk-serial::before {content: \"\";position: absolute;border-left: 1px solid gray;box-sizing: border-box;top: 0;bottom: 0;left: 50%;z-index: 0;}#sk-container-id-3 div.sk-serial {display: flex;flex-direction: column;align-items: center;background-color: white;padding-right: 0.2em;padding-left: 0.2em;position: relative;}#sk-container-id-3 div.sk-item {position: relative;z-index: 1;}#sk-container-id-3 div.sk-parallel {display: flex;align-items: stretch;justify-content: center;background-color: white;position: relative;}#sk-container-id-3 div.sk-item::before, #sk-container-id-3 div.sk-parallel-item::before {content: \"\";position: absolute;border-left: 1px solid gray;box-sizing: border-box;top: 0;bottom: 0;left: 50%;z-index: -1;}#sk-container-id-3 div.sk-parallel-item {display: flex;flex-direction: column;z-index: 1;position: relative;background-color: white;}#sk-container-id-3 div.sk-parallel-item:first-child::after {align-self: flex-end;width: 50%;}#sk-container-id-3 div.sk-parallel-item:last-child::after {align-self: flex-start;width: 50%;}#sk-container-id-3 div.sk-parallel-item:only-child::after {width: 0;}#sk-container-id-3 div.sk-dashed-wrapped {border: 1px dashed gray;margin: 0 0.4em 0.5em 0.4em;box-sizing: border-box;padding-bottom: 0.4em;background-color: white;}#sk-container-id-3 div.sk-label label {font-family: monospace;font-weight: bold;display: inline-block;line-height: 1.2em;}#sk-container-id-3 div.sk-label-container {text-align: center;}#sk-container-id-3 div.sk-container {/* jupyter's `normalize.less` sets `[hidden] { display: none; }` but bootstrap.min.css set `[hidden] { display: none !important; }` so we also need the `!important` here to be able to override the default hidden behavior on the sphinx rendered scikit-learn.org. See: https://github.com/scikit-learn/scikit-learn/issues/21755 */display: inline-block !important;position: relative;}#sk-container-id-3 div.sk-text-repr-fallback {display: none;}</style><div id=\"sk-container-id-3\" class=\"sk-top-container\"><div class=\"sk-text-repr-fallback\"><pre>Pipeline(steps=[(&#x27;standardscaler&#x27;, StandardScaler()),\n",
       "                (&#x27;polynomialfeatures&#x27;,\n",
       "                 PolynomialFeatures(degree=3, include_bias=False)),\n",
       "                (&#x27;pca&#x27;, PCA()),\n",
       "                (&#x27;lassocv&#x27;,\n",
       "                 LassoCV(alphas=array([1.00000000e-04, 1.20679264e-04, 1.45634848e-04, 1.75751062e-04,\n",
       "       2.12095089e-04, 2.55954792e-04, 3.08884360e-04, 3.72759372e-04,\n",
       "       4.49843267e-04, 5.42867544e-04, 6.55128557e-04, 7.90604321e-04,...\n",
       "       9.10298178e-03, 1.09854114e-02, 1.32571137e-02, 1.59985872e-02,\n",
       "       1.93069773e-02, 2.32995181e-02, 2.81176870e-02, 3.39322177e-02,\n",
       "       4.09491506e-02, 4.94171336e-02, 5.96362332e-02, 7.19685673e-02,\n",
       "       8.68511374e-02, 1.04811313e-01, 1.26485522e-01, 1.52641797e-01,\n",
       "       1.84206997e-01, 2.22299648e-01, 2.68269580e-01, 3.23745754e-01,\n",
       "       3.90693994e-01, 4.71486636e-01, 5.68986603e-01, 6.86648845e-01,\n",
       "       8.28642773e-01, 1.00000000e+00]),\n",
       "                         eps=0.0001))])</pre><b>In a Jupyter environment, please rerun this cell to show the HTML representation or trust the notebook. <br />On GitHub, the HTML representation is unable to render, please try loading this page with nbviewer.org.</b></div><div class=\"sk-container\" hidden><div class=\"sk-item sk-dashed-wrapped\"><div class=\"sk-label-container\"><div class=\"sk-label sk-toggleable\"><input class=\"sk-toggleable__control sk-hidden--visually\" id=\"sk-estimator-id-10\" type=\"checkbox\" ><label for=\"sk-estimator-id-10\" class=\"sk-toggleable__label sk-toggleable__label-arrow\">Pipeline</label><div class=\"sk-toggleable__content\"><pre>Pipeline(steps=[(&#x27;standardscaler&#x27;, StandardScaler()),\n",
       "                (&#x27;polynomialfeatures&#x27;,\n",
       "                 PolynomialFeatures(degree=3, include_bias=False)),\n",
       "                (&#x27;pca&#x27;, PCA()),\n",
       "                (&#x27;lassocv&#x27;,\n",
       "                 LassoCV(alphas=array([1.00000000e-04, 1.20679264e-04, 1.45634848e-04, 1.75751062e-04,\n",
       "       2.12095089e-04, 2.55954792e-04, 3.08884360e-04, 3.72759372e-04,\n",
       "       4.49843267e-04, 5.42867544e-04, 6.55128557e-04, 7.90604321e-04,...\n",
       "       9.10298178e-03, 1.09854114e-02, 1.32571137e-02, 1.59985872e-02,\n",
       "       1.93069773e-02, 2.32995181e-02, 2.81176870e-02, 3.39322177e-02,\n",
       "       4.09491506e-02, 4.94171336e-02, 5.96362332e-02, 7.19685673e-02,\n",
       "       8.68511374e-02, 1.04811313e-01, 1.26485522e-01, 1.52641797e-01,\n",
       "       1.84206997e-01, 2.22299648e-01, 2.68269580e-01, 3.23745754e-01,\n",
       "       3.90693994e-01, 4.71486636e-01, 5.68986603e-01, 6.86648845e-01,\n",
       "       8.28642773e-01, 1.00000000e+00]),\n",
       "                         eps=0.0001))])</pre></div></div></div><div class=\"sk-serial\"><div class=\"sk-item\"><div class=\"sk-estimator sk-toggleable\"><input class=\"sk-toggleable__control sk-hidden--visually\" id=\"sk-estimator-id-11\" type=\"checkbox\" ><label for=\"sk-estimator-id-11\" class=\"sk-toggleable__label sk-toggleable__label-arrow\">StandardScaler</label><div class=\"sk-toggleable__content\"><pre>StandardScaler()</pre></div></div></div><div class=\"sk-item\"><div class=\"sk-estimator sk-toggleable\"><input class=\"sk-toggleable__control sk-hidden--visually\" id=\"sk-estimator-id-12\" type=\"checkbox\" ><label for=\"sk-estimator-id-12\" class=\"sk-toggleable__label sk-toggleable__label-arrow\">PolynomialFeatures</label><div class=\"sk-toggleable__content\"><pre>PolynomialFeatures(degree=3, include_bias=False)</pre></div></div></div><div class=\"sk-item\"><div class=\"sk-estimator sk-toggleable\"><input class=\"sk-toggleable__control sk-hidden--visually\" id=\"sk-estimator-id-13\" type=\"checkbox\" ><label for=\"sk-estimator-id-13\" class=\"sk-toggleable__label sk-toggleable__label-arrow\">PCA</label><div class=\"sk-toggleable__content\"><pre>PCA()</pre></div></div></div><div class=\"sk-item\"><div class=\"sk-estimator sk-toggleable\"><input class=\"sk-toggleable__control sk-hidden--visually\" id=\"sk-estimator-id-14\" type=\"checkbox\" ><label for=\"sk-estimator-id-14\" class=\"sk-toggleable__label sk-toggleable__label-arrow\">LassoCV</label><div class=\"sk-toggleable__content\"><pre>LassoCV(alphas=array([1.00000000e-04, 1.20679264e-04, 1.45634848e-04, 1.75751062e-04,\n",
       "       2.12095089e-04, 2.55954792e-04, 3.08884360e-04, 3.72759372e-04,\n",
       "       4.49843267e-04, 5.42867544e-04, 6.55128557e-04, 7.90604321e-04,\n",
       "       9.54095476e-04, 1.15139540e-03, 1.38949549e-03, 1.67683294e-03,\n",
       "       2.02358965e-03, 2.44205309e-03, 2.94705170e-03, 3.55648031e-03,\n",
       "       4.29193426e-03, 5.17947468e-0...\n",
       "       9.10298178e-03, 1.09854114e-02, 1.32571137e-02, 1.59985872e-02,\n",
       "       1.93069773e-02, 2.32995181e-02, 2.81176870e-02, 3.39322177e-02,\n",
       "       4.09491506e-02, 4.94171336e-02, 5.96362332e-02, 7.19685673e-02,\n",
       "       8.68511374e-02, 1.04811313e-01, 1.26485522e-01, 1.52641797e-01,\n",
       "       1.84206997e-01, 2.22299648e-01, 2.68269580e-01, 3.23745754e-01,\n",
       "       3.90693994e-01, 4.71486636e-01, 5.68986603e-01, 6.86648845e-01,\n",
       "       8.28642773e-01, 1.00000000e+00]),\n",
       "        eps=0.0001)</pre></div></div></div></div></div></div></div>"
      ],
      "text/plain": [
       "Pipeline(steps=[('standardscaler', StandardScaler()),\n",
       "                ('polynomialfeatures',\n",
       "                 PolynomialFeatures(degree=3, include_bias=False)),\n",
       "                ('pca', PCA()),\n",
       "                ('lassocv',\n",
       "                 LassoCV(alphas=array([1.00000000e-04, 1.20679264e-04, 1.45634848e-04, 1.75751062e-04,\n",
       "       2.12095089e-04, 2.55954792e-04, 3.08884360e-04, 3.72759372e-04,\n",
       "       4.49843267e-04, 5.42867544e-04, 6.55128557e-04, 7.90604321e-04,...\n",
       "       9.10298178e-03, 1.09854114e-02, 1.32571137e-02, 1.59985872e-02,\n",
       "       1.93069773e-02, 2.32995181e-02, 2.81176870e-02, 3.39322177e-02,\n",
       "       4.09491506e-02, 4.94171336e-02, 5.96362332e-02, 7.19685673e-02,\n",
       "       8.68511374e-02, 1.04811313e-01, 1.26485522e-01, 1.52641797e-01,\n",
       "       1.84206997e-01, 2.22299648e-01, 2.68269580e-01, 3.23745754e-01,\n",
       "       3.90693994e-01, 4.71486636e-01, 5.68986603e-01, 6.86648845e-01,\n",
       "       8.28642773e-01, 1.00000000e+00]),\n",
       "                         eps=0.0001))])"
      ]
     },
     "execution_count": 88,
     "metadata": {},
     "output_type": "execute_result"
    }
   ],
   "source": [
    "lasso_pcr.fit(X_train, y_train)"
   ]
  },
  {
   "cell_type": "code",
   "execution_count": 89,
   "id": "fb2e547c",
   "metadata": {},
   "outputs": [
    {
     "data": {
      "text/plain": [
       "(0.9115681265900202, 0.8654913694666023)"
      ]
     },
     "execution_count": 89,
     "metadata": {},
     "output_type": "execute_result"
    }
   ],
   "source": [
    "lasso_pcr.score(X_train, y_train), lasso_pcr.score(X_test, y_test)"
   ]
  },
  {
   "cell_type": "code",
   "execution_count": 90,
   "id": "fdffbd3e",
   "metadata": {},
   "outputs": [
    {
     "data": {
      "text/plain": [
       "0.0011513953993264468"
      ]
     },
     "execution_count": 90,
     "metadata": {},
     "output_type": "execute_result"
    }
   ],
   "source": [
    "lasso_pcr[-1].alpha_"
   ]
  },
  {
   "cell_type": "code",
   "execution_count": 91,
   "id": "acbff7fe",
   "metadata": {},
   "outputs": [
    {
     "data": {
      "text/plain": [
       "360"
      ]
     },
     "execution_count": 91,
     "metadata": {},
     "output_type": "execute_result"
    }
   ],
   "source": [
    "lasso_pcr_betas = lasso_pcr.get_params()['lassocv'].coef_\n",
    "(np.abs(lasso_pcr_betas)>0).sum()"
   ]
  },
  {
   "attachments": {},
   "cell_type": "markdown",
   "id": "384a19a3",
   "metadata": {},
   "source": [
    "## Just LASSO"
   ]
  },
  {
   "cell_type": "code",
   "execution_count": 92,
   "id": "91ddf303",
   "metadata": {},
   "outputs": [],
   "source": [
    "lassocv = make_pipeline(StandardScaler(),\n",
    "                    PolynomialFeatures(degree=3, include_bias=False),\n",
    "                    LassoCV())"
   ]
  },
  {
   "cell_type": "code",
   "execution_count": 93,
   "id": "b6cae369",
   "metadata": {
    "scrolled": true
   },
   "outputs": [
    {
     "data": {
      "text/html": [
       "<style>#sk-container-id-4 {color: black;}#sk-container-id-4 pre{padding: 0;}#sk-container-id-4 div.sk-toggleable {background-color: white;}#sk-container-id-4 label.sk-toggleable__label {cursor: pointer;display: block;width: 100%;margin-bottom: 0;padding: 0.3em;box-sizing: border-box;text-align: center;}#sk-container-id-4 label.sk-toggleable__label-arrow:before {content: \"▸\";float: left;margin-right: 0.25em;color: #696969;}#sk-container-id-4 label.sk-toggleable__label-arrow:hover:before {color: black;}#sk-container-id-4 div.sk-estimator:hover label.sk-toggleable__label-arrow:before {color: black;}#sk-container-id-4 div.sk-toggleable__content {max-height: 0;max-width: 0;overflow: hidden;text-align: left;background-color: #f0f8ff;}#sk-container-id-4 div.sk-toggleable__content pre {margin: 0.2em;color: black;border-radius: 0.25em;background-color: #f0f8ff;}#sk-container-id-4 input.sk-toggleable__control:checked~div.sk-toggleable__content {max-height: 200px;max-width: 100%;overflow: auto;}#sk-container-id-4 input.sk-toggleable__control:checked~label.sk-toggleable__label-arrow:before {content: \"▾\";}#sk-container-id-4 div.sk-estimator input.sk-toggleable__control:checked~label.sk-toggleable__label {background-color: #d4ebff;}#sk-container-id-4 div.sk-label input.sk-toggleable__control:checked~label.sk-toggleable__label {background-color: #d4ebff;}#sk-container-id-4 input.sk-hidden--visually {border: 0;clip: rect(1px 1px 1px 1px);clip: rect(1px, 1px, 1px, 1px);height: 1px;margin: -1px;overflow: hidden;padding: 0;position: absolute;width: 1px;}#sk-container-id-4 div.sk-estimator {font-family: monospace;background-color: #f0f8ff;border: 1px dotted black;border-radius: 0.25em;box-sizing: border-box;margin-bottom: 0.5em;}#sk-container-id-4 div.sk-estimator:hover {background-color: #d4ebff;}#sk-container-id-4 div.sk-parallel-item::after {content: \"\";width: 100%;border-bottom: 1px solid gray;flex-grow: 1;}#sk-container-id-4 div.sk-label:hover label.sk-toggleable__label {background-color: #d4ebff;}#sk-container-id-4 div.sk-serial::before {content: \"\";position: absolute;border-left: 1px solid gray;box-sizing: border-box;top: 0;bottom: 0;left: 50%;z-index: 0;}#sk-container-id-4 div.sk-serial {display: flex;flex-direction: column;align-items: center;background-color: white;padding-right: 0.2em;padding-left: 0.2em;position: relative;}#sk-container-id-4 div.sk-item {position: relative;z-index: 1;}#sk-container-id-4 div.sk-parallel {display: flex;align-items: stretch;justify-content: center;background-color: white;position: relative;}#sk-container-id-4 div.sk-item::before, #sk-container-id-4 div.sk-parallel-item::before {content: \"\";position: absolute;border-left: 1px solid gray;box-sizing: border-box;top: 0;bottom: 0;left: 50%;z-index: -1;}#sk-container-id-4 div.sk-parallel-item {display: flex;flex-direction: column;z-index: 1;position: relative;background-color: white;}#sk-container-id-4 div.sk-parallel-item:first-child::after {align-self: flex-end;width: 50%;}#sk-container-id-4 div.sk-parallel-item:last-child::after {align-self: flex-start;width: 50%;}#sk-container-id-4 div.sk-parallel-item:only-child::after {width: 0;}#sk-container-id-4 div.sk-dashed-wrapped {border: 1px dashed gray;margin: 0 0.4em 0.5em 0.4em;box-sizing: border-box;padding-bottom: 0.4em;background-color: white;}#sk-container-id-4 div.sk-label label {font-family: monospace;font-weight: bold;display: inline-block;line-height: 1.2em;}#sk-container-id-4 div.sk-label-container {text-align: center;}#sk-container-id-4 div.sk-container {/* jupyter's `normalize.less` sets `[hidden] { display: none; }` but bootstrap.min.css set `[hidden] { display: none !important; }` so we also need the `!important` here to be able to override the default hidden behavior on the sphinx rendered scikit-learn.org. See: https://github.com/scikit-learn/scikit-learn/issues/21755 */display: inline-block !important;position: relative;}#sk-container-id-4 div.sk-text-repr-fallback {display: none;}</style><div id=\"sk-container-id-4\" class=\"sk-top-container\"><div class=\"sk-text-repr-fallback\"><pre>Pipeline(steps=[(&#x27;standardscaler&#x27;, StandardScaler()),\n",
       "                (&#x27;polynomialfeatures&#x27;,\n",
       "                 PolynomialFeatures(degree=3, include_bias=False)),\n",
       "                (&#x27;lassocv&#x27;, LassoCV())])</pre><b>In a Jupyter environment, please rerun this cell to show the HTML representation or trust the notebook. <br />On GitHub, the HTML representation is unable to render, please try loading this page with nbviewer.org.</b></div><div class=\"sk-container\" hidden><div class=\"sk-item sk-dashed-wrapped\"><div class=\"sk-label-container\"><div class=\"sk-label sk-toggleable\"><input class=\"sk-toggleable__control sk-hidden--visually\" id=\"sk-estimator-id-15\" type=\"checkbox\" ><label for=\"sk-estimator-id-15\" class=\"sk-toggleable__label sk-toggleable__label-arrow\">Pipeline</label><div class=\"sk-toggleable__content\"><pre>Pipeline(steps=[(&#x27;standardscaler&#x27;, StandardScaler()),\n",
       "                (&#x27;polynomialfeatures&#x27;,\n",
       "                 PolynomialFeatures(degree=3, include_bias=False)),\n",
       "                (&#x27;lassocv&#x27;, LassoCV())])</pre></div></div></div><div class=\"sk-serial\"><div class=\"sk-item\"><div class=\"sk-estimator sk-toggleable\"><input class=\"sk-toggleable__control sk-hidden--visually\" id=\"sk-estimator-id-16\" type=\"checkbox\" ><label for=\"sk-estimator-id-16\" class=\"sk-toggleable__label sk-toggleable__label-arrow\">StandardScaler</label><div class=\"sk-toggleable__content\"><pre>StandardScaler()</pre></div></div></div><div class=\"sk-item\"><div class=\"sk-estimator sk-toggleable\"><input class=\"sk-toggleable__control sk-hidden--visually\" id=\"sk-estimator-id-17\" type=\"checkbox\" ><label for=\"sk-estimator-id-17\" class=\"sk-toggleable__label sk-toggleable__label-arrow\">PolynomialFeatures</label><div class=\"sk-toggleable__content\"><pre>PolynomialFeatures(degree=3, include_bias=False)</pre></div></div></div><div class=\"sk-item\"><div class=\"sk-estimator sk-toggleable\"><input class=\"sk-toggleable__control sk-hidden--visually\" id=\"sk-estimator-id-18\" type=\"checkbox\" ><label for=\"sk-estimator-id-18\" class=\"sk-toggleable__label sk-toggleable__label-arrow\">LassoCV</label><div class=\"sk-toggleable__content\"><pre>LassoCV()</pre></div></div></div></div></div></div></div>"
      ],
      "text/plain": [
       "Pipeline(steps=[('standardscaler', StandardScaler()),\n",
       "                ('polynomialfeatures',\n",
       "                 PolynomialFeatures(degree=3, include_bias=False)),\n",
       "                ('lassocv', LassoCV())])"
      ]
     },
     "execution_count": 93,
     "metadata": {},
     "output_type": "execute_result"
    }
   ],
   "source": [
    "lassocv.fit(X_train, y_train)"
   ]
  },
  {
   "cell_type": "code",
   "execution_count": 94,
   "id": "05decf1b",
   "metadata": {},
   "outputs": [
    {
     "data": {
      "text/plain": [
       "(0.8426725431749511, 0.8460992448041591)"
      ]
     },
     "execution_count": 94,
     "metadata": {},
     "output_type": "execute_result"
    }
   ],
   "source": [
    "lassocv.score(X_train, y_train), lassocv.score(X_test, y_test)"
   ]
  },
  {
   "cell_type": "code",
   "execution_count": 95,
   "id": "0ebe6d15",
   "metadata": {},
   "outputs": [
    {
     "data": {
      "text/plain": [
       "47"
      ]
     },
     "execution_count": 95,
     "metadata": {},
     "output_type": "execute_result"
    }
   ],
   "source": [
    "lasso_betas = lassocv.get_params()['lassocv'].coef_\n",
    "(np.abs(lasso_betas>0)).sum()"
   ]
  },
  {
   "attachments": {},
   "cell_type": "markdown",
   "id": "3dfee096",
   "metadata": {},
   "source": [
    "## Comparing the models\n",
    "\n",
    "Which model performed the best on using cross validation on the training data? How about on the test?"
   ]
  },
  {
   "cell_type": "code",
   "execution_count": 96,
   "id": "b789169e",
   "metadata": {},
   "outputs": [
    {
     "name": "stdout",
     "output_type": "stream",
     "text": [
      "R^2 Results\n",
      "\n",
      "\t\t\tTrain\tTest\n",
      "     poly_model:\t0.9202\t0.8654\n",
      "          ridge:\t0.9190\t0.8681\n",
      "      pcr_95var:\t0.0047\t0.0042\n",
      "         pcr_cv:\t0.6807\t0.6072\n",
      "      lasso_pcr:\t0.9116\t0.8655\n",
      "        lassocv:\t0.8427\t0.8461\n"
     ]
    }
   ],
   "source": [
    "models = dict(poly_model=poly_model,\n",
    "              ridge=ridge,\n",
    "              pcr_95var=pcr_95var,\n",
    "              pcr_cv=pcr_cv,\n",
    "              lasso_pcr=lasso_pcr,\n",
    "              lassocv=lassocv)\n",
    "print(\"R^2 Results\\n\")\n",
    "print(f\"\\t\\t\\tTrain\\tTest\")\n",
    "for name, estimator in models.items():\n",
    "    print(f'{name:>15}:\\t{estimator.score(X_train, y_train):.4f}\\t{estimator.score(X_test, y_test):.4f}')"
   ]
  },
  {
   "attachments": {},
   "cell_type": "markdown",
   "id": "0dd7c6ad",
   "metadata": {},
   "source": [
    "## PCA and Image Data"
   ]
  },
  {
   "attachments": {},
   "cell_type": "markdown",
   "id": "11359d94",
   "metadata": {},
   "source": [
    "Let's look at the code used to generate the Fashion MNIST visualizations from lecture."
   ]
  },
  {
   "cell_type": "code",
   "execution_count": 97,
   "id": "3a2de616",
   "metadata": {},
   "outputs": [
    {
     "ename": "FileNotFoundError",
     "evalue": "[Errno 2] No such file or directory: 'data/fashion-mnist_test.csv.zip'",
     "output_type": "error",
     "traceback": [
      "\u001b[0;31m---------------------------------------------------------------------------\u001b[0m",
      "\u001b[0;31mFileNotFoundError\u001b[0m                         Traceback (most recent call last)",
      "Cell \u001b[0;32mIn[97], line 1\u001b[0m\n\u001b[0;32m----> 1\u001b[0m fashion_df \u001b[38;5;241m=\u001b[39m \u001b[43mpd\u001b[49m\u001b[38;5;241;43m.\u001b[39;49m\u001b[43mread_csv\u001b[49m\u001b[43m(\u001b[49m\u001b[38;5;124;43m'\u001b[39;49m\u001b[38;5;124;43mdata/fashion-mnist_test.csv.zip\u001b[39;49m\u001b[38;5;124;43m'\u001b[39;49m\u001b[43m)\u001b[49m\n\u001b[1;32m      3\u001b[0m X \u001b[38;5;241m=\u001b[39m fashion_df\u001b[38;5;241m.\u001b[39mdrop(\u001b[38;5;124m'\u001b[39m\u001b[38;5;124mlabel\u001b[39m\u001b[38;5;124m'\u001b[39m, axis\u001b[38;5;241m=\u001b[39m\u001b[38;5;241m1\u001b[39m)\n\u001b[1;32m      4\u001b[0m y \u001b[38;5;241m=\u001b[39m fashion_df[\u001b[38;5;124m'\u001b[39m\u001b[38;5;124mlabel\u001b[39m\u001b[38;5;124m'\u001b[39m]\n",
      "File \u001b[0;32m~/micromamba/envs/cs109a/lib/python3.11/site-packages/pandas/io/parsers/readers.py:948\u001b[0m, in \u001b[0;36mread_csv\u001b[0;34m(filepath_or_buffer, sep, delimiter, header, names, index_col, usecols, dtype, engine, converters, true_values, false_values, skipinitialspace, skiprows, skipfooter, nrows, na_values, keep_default_na, na_filter, verbose, skip_blank_lines, parse_dates, infer_datetime_format, keep_date_col, date_parser, date_format, dayfirst, cache_dates, iterator, chunksize, compression, thousands, decimal, lineterminator, quotechar, quoting, doublequote, escapechar, comment, encoding, encoding_errors, dialect, on_bad_lines, delim_whitespace, low_memory, memory_map, float_precision, storage_options, dtype_backend)\u001b[0m\n\u001b[1;32m    935\u001b[0m kwds_defaults \u001b[38;5;241m=\u001b[39m _refine_defaults_read(\n\u001b[1;32m    936\u001b[0m     dialect,\n\u001b[1;32m    937\u001b[0m     delimiter,\n\u001b[0;32m   (...)\u001b[0m\n\u001b[1;32m    944\u001b[0m     dtype_backend\u001b[38;5;241m=\u001b[39mdtype_backend,\n\u001b[1;32m    945\u001b[0m )\n\u001b[1;32m    946\u001b[0m kwds\u001b[38;5;241m.\u001b[39mupdate(kwds_defaults)\n\u001b[0;32m--> 948\u001b[0m \u001b[38;5;28;01mreturn\u001b[39;00m \u001b[43m_read\u001b[49m\u001b[43m(\u001b[49m\u001b[43mfilepath_or_buffer\u001b[49m\u001b[43m,\u001b[49m\u001b[43m \u001b[49m\u001b[43mkwds\u001b[49m\u001b[43m)\u001b[49m\n",
      "File \u001b[0;32m~/micromamba/envs/cs109a/lib/python3.11/site-packages/pandas/io/parsers/readers.py:611\u001b[0m, in \u001b[0;36m_read\u001b[0;34m(filepath_or_buffer, kwds)\u001b[0m\n\u001b[1;32m    608\u001b[0m _validate_names(kwds\u001b[38;5;241m.\u001b[39mget(\u001b[38;5;124m\"\u001b[39m\u001b[38;5;124mnames\u001b[39m\u001b[38;5;124m\"\u001b[39m, \u001b[38;5;28;01mNone\u001b[39;00m))\n\u001b[1;32m    610\u001b[0m \u001b[38;5;66;03m# Create the parser.\u001b[39;00m\n\u001b[0;32m--> 611\u001b[0m parser \u001b[38;5;241m=\u001b[39m \u001b[43mTextFileReader\u001b[49m\u001b[43m(\u001b[49m\u001b[43mfilepath_or_buffer\u001b[49m\u001b[43m,\u001b[49m\u001b[43m \u001b[49m\u001b[38;5;241;43m*\u001b[39;49m\u001b[38;5;241;43m*\u001b[39;49m\u001b[43mkwds\u001b[49m\u001b[43m)\u001b[49m\n\u001b[1;32m    613\u001b[0m \u001b[38;5;28;01mif\u001b[39;00m chunksize \u001b[38;5;129;01mor\u001b[39;00m iterator:\n\u001b[1;32m    614\u001b[0m     \u001b[38;5;28;01mreturn\u001b[39;00m parser\n",
      "File \u001b[0;32m~/micromamba/envs/cs109a/lib/python3.11/site-packages/pandas/io/parsers/readers.py:1448\u001b[0m, in \u001b[0;36mTextFileReader.__init__\u001b[0;34m(self, f, engine, **kwds)\u001b[0m\n\u001b[1;32m   1445\u001b[0m     \u001b[38;5;28mself\u001b[39m\u001b[38;5;241m.\u001b[39moptions[\u001b[38;5;124m\"\u001b[39m\u001b[38;5;124mhas_index_names\u001b[39m\u001b[38;5;124m\"\u001b[39m] \u001b[38;5;241m=\u001b[39m kwds[\u001b[38;5;124m\"\u001b[39m\u001b[38;5;124mhas_index_names\u001b[39m\u001b[38;5;124m\"\u001b[39m]\n\u001b[1;32m   1447\u001b[0m \u001b[38;5;28mself\u001b[39m\u001b[38;5;241m.\u001b[39mhandles: IOHandles \u001b[38;5;241m|\u001b[39m \u001b[38;5;28;01mNone\u001b[39;00m \u001b[38;5;241m=\u001b[39m \u001b[38;5;28;01mNone\u001b[39;00m\n\u001b[0;32m-> 1448\u001b[0m \u001b[38;5;28mself\u001b[39m\u001b[38;5;241m.\u001b[39m_engine \u001b[38;5;241m=\u001b[39m \u001b[38;5;28;43mself\u001b[39;49m\u001b[38;5;241;43m.\u001b[39;49m\u001b[43m_make_engine\u001b[49m\u001b[43m(\u001b[49m\u001b[43mf\u001b[49m\u001b[43m,\u001b[49m\u001b[43m \u001b[49m\u001b[38;5;28;43mself\u001b[39;49m\u001b[38;5;241;43m.\u001b[39;49m\u001b[43mengine\u001b[49m\u001b[43m)\u001b[49m\n",
      "File \u001b[0;32m~/micromamba/envs/cs109a/lib/python3.11/site-packages/pandas/io/parsers/readers.py:1705\u001b[0m, in \u001b[0;36mTextFileReader._make_engine\u001b[0;34m(self, f, engine)\u001b[0m\n\u001b[1;32m   1703\u001b[0m     \u001b[38;5;28;01mif\u001b[39;00m \u001b[38;5;124m\"\u001b[39m\u001b[38;5;124mb\u001b[39m\u001b[38;5;124m\"\u001b[39m \u001b[38;5;129;01mnot\u001b[39;00m \u001b[38;5;129;01min\u001b[39;00m mode:\n\u001b[1;32m   1704\u001b[0m         mode \u001b[38;5;241m+\u001b[39m\u001b[38;5;241m=\u001b[39m \u001b[38;5;124m\"\u001b[39m\u001b[38;5;124mb\u001b[39m\u001b[38;5;124m\"\u001b[39m\n\u001b[0;32m-> 1705\u001b[0m \u001b[38;5;28mself\u001b[39m\u001b[38;5;241m.\u001b[39mhandles \u001b[38;5;241m=\u001b[39m \u001b[43mget_handle\u001b[49m\u001b[43m(\u001b[49m\n\u001b[1;32m   1706\u001b[0m \u001b[43m    \u001b[49m\u001b[43mf\u001b[49m\u001b[43m,\u001b[49m\n\u001b[1;32m   1707\u001b[0m \u001b[43m    \u001b[49m\u001b[43mmode\u001b[49m\u001b[43m,\u001b[49m\n\u001b[1;32m   1708\u001b[0m \u001b[43m    \u001b[49m\u001b[43mencoding\u001b[49m\u001b[38;5;241;43m=\u001b[39;49m\u001b[38;5;28;43mself\u001b[39;49m\u001b[38;5;241;43m.\u001b[39;49m\u001b[43moptions\u001b[49m\u001b[38;5;241;43m.\u001b[39;49m\u001b[43mget\u001b[49m\u001b[43m(\u001b[49m\u001b[38;5;124;43m\"\u001b[39;49m\u001b[38;5;124;43mencoding\u001b[39;49m\u001b[38;5;124;43m\"\u001b[39;49m\u001b[43m,\u001b[49m\u001b[43m \u001b[49m\u001b[38;5;28;43;01mNone\u001b[39;49;00m\u001b[43m)\u001b[49m\u001b[43m,\u001b[49m\n\u001b[1;32m   1709\u001b[0m \u001b[43m    \u001b[49m\u001b[43mcompression\u001b[49m\u001b[38;5;241;43m=\u001b[39;49m\u001b[38;5;28;43mself\u001b[39;49m\u001b[38;5;241;43m.\u001b[39;49m\u001b[43moptions\u001b[49m\u001b[38;5;241;43m.\u001b[39;49m\u001b[43mget\u001b[49m\u001b[43m(\u001b[49m\u001b[38;5;124;43m\"\u001b[39;49m\u001b[38;5;124;43mcompression\u001b[39;49m\u001b[38;5;124;43m\"\u001b[39;49m\u001b[43m,\u001b[49m\u001b[43m \u001b[49m\u001b[38;5;28;43;01mNone\u001b[39;49;00m\u001b[43m)\u001b[49m\u001b[43m,\u001b[49m\n\u001b[1;32m   1710\u001b[0m \u001b[43m    \u001b[49m\u001b[43mmemory_map\u001b[49m\u001b[38;5;241;43m=\u001b[39;49m\u001b[38;5;28;43mself\u001b[39;49m\u001b[38;5;241;43m.\u001b[39;49m\u001b[43moptions\u001b[49m\u001b[38;5;241;43m.\u001b[39;49m\u001b[43mget\u001b[49m\u001b[43m(\u001b[49m\u001b[38;5;124;43m\"\u001b[39;49m\u001b[38;5;124;43mmemory_map\u001b[39;49m\u001b[38;5;124;43m\"\u001b[39;49m\u001b[43m,\u001b[49m\u001b[43m \u001b[49m\u001b[38;5;28;43;01mFalse\u001b[39;49;00m\u001b[43m)\u001b[49m\u001b[43m,\u001b[49m\n\u001b[1;32m   1711\u001b[0m \u001b[43m    \u001b[49m\u001b[43mis_text\u001b[49m\u001b[38;5;241;43m=\u001b[39;49m\u001b[43mis_text\u001b[49m\u001b[43m,\u001b[49m\n\u001b[1;32m   1712\u001b[0m \u001b[43m    \u001b[49m\u001b[43merrors\u001b[49m\u001b[38;5;241;43m=\u001b[39;49m\u001b[38;5;28;43mself\u001b[39;49m\u001b[38;5;241;43m.\u001b[39;49m\u001b[43moptions\u001b[49m\u001b[38;5;241;43m.\u001b[39;49m\u001b[43mget\u001b[49m\u001b[43m(\u001b[49m\u001b[38;5;124;43m\"\u001b[39;49m\u001b[38;5;124;43mencoding_errors\u001b[39;49m\u001b[38;5;124;43m\"\u001b[39;49m\u001b[43m,\u001b[49m\u001b[43m \u001b[49m\u001b[38;5;124;43m\"\u001b[39;49m\u001b[38;5;124;43mstrict\u001b[39;49m\u001b[38;5;124;43m\"\u001b[39;49m\u001b[43m)\u001b[49m\u001b[43m,\u001b[49m\n\u001b[1;32m   1713\u001b[0m \u001b[43m    \u001b[49m\u001b[43mstorage_options\u001b[49m\u001b[38;5;241;43m=\u001b[39;49m\u001b[38;5;28;43mself\u001b[39;49m\u001b[38;5;241;43m.\u001b[39;49m\u001b[43moptions\u001b[49m\u001b[38;5;241;43m.\u001b[39;49m\u001b[43mget\u001b[49m\u001b[43m(\u001b[49m\u001b[38;5;124;43m\"\u001b[39;49m\u001b[38;5;124;43mstorage_options\u001b[39;49m\u001b[38;5;124;43m\"\u001b[39;49m\u001b[43m,\u001b[49m\u001b[43m \u001b[49m\u001b[38;5;28;43;01mNone\u001b[39;49;00m\u001b[43m)\u001b[49m\u001b[43m,\u001b[49m\n\u001b[1;32m   1714\u001b[0m \u001b[43m\u001b[49m\u001b[43m)\u001b[49m\n\u001b[1;32m   1715\u001b[0m \u001b[38;5;28;01massert\u001b[39;00m \u001b[38;5;28mself\u001b[39m\u001b[38;5;241m.\u001b[39mhandles \u001b[38;5;129;01mis\u001b[39;00m \u001b[38;5;129;01mnot\u001b[39;00m \u001b[38;5;28;01mNone\u001b[39;00m\n\u001b[1;32m   1716\u001b[0m f \u001b[38;5;241m=\u001b[39m \u001b[38;5;28mself\u001b[39m\u001b[38;5;241m.\u001b[39mhandles\u001b[38;5;241m.\u001b[39mhandle\n",
      "File \u001b[0;32m~/micromamba/envs/cs109a/lib/python3.11/site-packages/pandas/io/common.py:784\u001b[0m, in \u001b[0;36mget_handle\u001b[0;34m(path_or_buf, mode, encoding, compression, memory_map, is_text, errors, storage_options)\u001b[0m\n\u001b[1;32m    779\u001b[0m \u001b[38;5;66;03m# ZIP Compression\u001b[39;00m\n\u001b[1;32m    780\u001b[0m \u001b[38;5;28;01melif\u001b[39;00m compression \u001b[38;5;241m==\u001b[39m \u001b[38;5;124m\"\u001b[39m\u001b[38;5;124mzip\u001b[39m\u001b[38;5;124m\"\u001b[39m:\n\u001b[1;32m    781\u001b[0m     \u001b[38;5;66;03m# error: Argument 1 to \"_BytesZipFile\" has incompatible type\u001b[39;00m\n\u001b[1;32m    782\u001b[0m     \u001b[38;5;66;03m# \"Union[str, BaseBuffer]\"; expected \"Union[Union[str, PathLike[str]],\u001b[39;00m\n\u001b[1;32m    783\u001b[0m     \u001b[38;5;66;03m# ReadBuffer[bytes], WriteBuffer[bytes]]\"\u001b[39;00m\n\u001b[0;32m--> 784\u001b[0m     handle \u001b[38;5;241m=\u001b[39m \u001b[43m_BytesZipFile\u001b[49m\u001b[43m(\u001b[49m\n\u001b[1;32m    785\u001b[0m \u001b[43m        \u001b[49m\u001b[43mhandle\u001b[49m\u001b[43m,\u001b[49m\u001b[43m \u001b[49m\u001b[43mioargs\u001b[49m\u001b[38;5;241;43m.\u001b[39;49m\u001b[43mmode\u001b[49m\u001b[43m,\u001b[49m\u001b[43m \u001b[49m\u001b[38;5;241;43m*\u001b[39;49m\u001b[38;5;241;43m*\u001b[39;49m\u001b[43mcompression_args\u001b[49m\u001b[43m  \u001b[49m\u001b[38;5;66;43;03m# type: ignore[arg-type]\u001b[39;49;00m\n\u001b[1;32m    786\u001b[0m \u001b[43m    \u001b[49m\u001b[43m)\u001b[49m\n\u001b[1;32m    787\u001b[0m     \u001b[38;5;28;01mif\u001b[39;00m handle\u001b[38;5;241m.\u001b[39mbuffer\u001b[38;5;241m.\u001b[39mmode \u001b[38;5;241m==\u001b[39m \u001b[38;5;124m\"\u001b[39m\u001b[38;5;124mr\u001b[39m\u001b[38;5;124m\"\u001b[39m:\n\u001b[1;32m    788\u001b[0m         handles\u001b[38;5;241m.\u001b[39mappend(handle)\n",
      "File \u001b[0;32m~/micromamba/envs/cs109a/lib/python3.11/site-packages/pandas/io/common.py:1027\u001b[0m, in \u001b[0;36m_BytesZipFile.__init__\u001b[0;34m(self, file, mode, archive_name, **kwargs)\u001b[0m\n\u001b[1;32m   1024\u001b[0m kwargs\u001b[38;5;241m.\u001b[39msetdefault(\u001b[38;5;124m\"\u001b[39m\u001b[38;5;124mcompression\u001b[39m\u001b[38;5;124m\"\u001b[39m, zipfile\u001b[38;5;241m.\u001b[39mZIP_DEFLATED)\n\u001b[1;32m   1025\u001b[0m \u001b[38;5;66;03m# error: Incompatible types in assignment (expression has type \"ZipFile\",\u001b[39;00m\n\u001b[1;32m   1026\u001b[0m \u001b[38;5;66;03m# base class \"_BufferedWriter\" defined the type as \"BytesIO\")\u001b[39;00m\n\u001b[0;32m-> 1027\u001b[0m \u001b[38;5;28mself\u001b[39m\u001b[38;5;241m.\u001b[39mbuffer: zipfile\u001b[38;5;241m.\u001b[39mZipFile \u001b[38;5;241m=\u001b[39m \u001b[43mzipfile\u001b[49m\u001b[38;5;241;43m.\u001b[39;49m\u001b[43mZipFile\u001b[49m\u001b[43m(\u001b[49m\u001b[43m  \u001b[49m\u001b[38;5;66;43;03m# type: ignore[assignment]\u001b[39;49;00m\n\u001b[1;32m   1028\u001b[0m \u001b[43m    \u001b[49m\u001b[43mfile\u001b[49m\u001b[43m,\u001b[49m\u001b[43m \u001b[49m\u001b[43mmode\u001b[49m\u001b[43m,\u001b[49m\u001b[43m \u001b[49m\u001b[38;5;241;43m*\u001b[39;49m\u001b[38;5;241;43m*\u001b[39;49m\u001b[43mkwargs\u001b[49m\n\u001b[1;32m   1029\u001b[0m \u001b[43m\u001b[49m\u001b[43m)\u001b[49m\n",
      "File \u001b[0;32m~/micromamba/envs/cs109a/lib/python3.11/zipfile.py:1284\u001b[0m, in \u001b[0;36mZipFile.__init__\u001b[0;34m(self, file, mode, compression, allowZip64, compresslevel, strict_timestamps, metadata_encoding)\u001b[0m\n\u001b[1;32m   1282\u001b[0m \u001b[38;5;28;01mwhile\u001b[39;00m \u001b[38;5;28;01mTrue\u001b[39;00m:\n\u001b[1;32m   1283\u001b[0m     \u001b[38;5;28;01mtry\u001b[39;00m:\n\u001b[0;32m-> 1284\u001b[0m         \u001b[38;5;28mself\u001b[39m\u001b[38;5;241m.\u001b[39mfp \u001b[38;5;241m=\u001b[39m \u001b[43mio\u001b[49m\u001b[38;5;241;43m.\u001b[39;49m\u001b[43mopen\u001b[49m\u001b[43m(\u001b[49m\u001b[43mfile\u001b[49m\u001b[43m,\u001b[49m\u001b[43m \u001b[49m\u001b[43mfilemode\u001b[49m\u001b[43m)\u001b[49m\n\u001b[1;32m   1285\u001b[0m     \u001b[38;5;28;01mexcept\u001b[39;00m \u001b[38;5;167;01mOSError\u001b[39;00m:\n\u001b[1;32m   1286\u001b[0m         \u001b[38;5;28;01mif\u001b[39;00m filemode \u001b[38;5;129;01min\u001b[39;00m modeDict:\n",
      "\u001b[0;31mFileNotFoundError\u001b[0m: [Errno 2] No such file or directory: 'data/fashion-mnist_test.csv.zip'"
     ]
    }
   ],
   "source": [
    "fashion_df = pd.read_csv('data/fashion-mnist_test.csv.zip')\n",
    "\n",
    "X = fashion_df.drop('label', axis=1)\n",
    "y = fashion_df['label']\n",
    "X.shape, y.shape\n",
    "\n",
    "fashion_labels = ['T-shirt/top',\n",
    "                  'Trouser',\n",
    "                  'Pullover',\n",
    "                  'Dress',\n",
    "                  'Coat',\n",
    "                  'Sandal',\n",
    "                  'Shirt',\n",
    "                  'Sneaker',\n",
    "                  'Bag',\n",
    "                  'Ankle boot']"
   ]
  },
  {
   "cell_type": "code",
   "execution_count": null,
   "id": "03d4f6d7",
   "metadata": {},
   "outputs": [],
   "source": [
    "fig, axes = plt.subplots(2,5, figsize=(10,4))\n",
    "axes = axes.ravel()\n",
    "for i, label_name in enumerate(fashion_labels):\n",
    "    axes[i].imshow(X.iloc[np.argmax(y==i)].values.reshape(28,28), cmap='gray')\n",
    "    axes[i].set(xticks=[], yticks=[])\n",
    "    axes[i].set_title(label_name)\n",
    "plt.tight_layout()\n",
    "plt.suptitle('Fashion MNIST Dataset', y=1.05, fontsize=20);\n",
    "plt.savefig('img/fashionMNIST.png')"
   ]
  },
  {
   "cell_type": "code",
   "execution_count": null,
   "id": "17ab2d7b",
   "metadata": {},
   "outputs": [],
   "source": [
    "fashion_PCA = PCA(n_components=2).fit_transform(X)\n",
    "def plot_reduced(X, y, labels, original_data, show_color=True, imgs=False):\n",
    "    plt.figure(figsize=(15,10))\n",
    "    ax = plt.gca()\n",
    "    sample_idx = np.random.choice(range(len(X)), 10000, replace=False)\n",
    "    X = X[sample_idx]\n",
    "    y = y[sample_idx]\n",
    "    for i in np.unique(y):\n",
    "        color = plt.cm.tab10(i) if show_color else 'blue'\n",
    "        ax.scatter(X[y==i,0], X[y==i,1],\n",
    "                    color=color,\n",
    "                    label=labels[i],\n",
    "                    alpha=0.8)\n",
    "        # include example images\n",
    "        if imgs:\n",
    "            example_img = original_data[y==i].values[0].reshape(int(np.sqrt(original_data.shape[1])), -1)\n",
    "            scaling = 2\n",
    "            example_img_big = np.repeat(np.repeat(example_img, scaling, axis=0), scaling, axis=1)\n",
    "            imagebox = OffsetImage(example_img_big, cmap='gray')\n",
    "            ab = AnnotationBbox(imagebox, X[y==i].mean(axis=0), frameon = False)\n",
    "            ax.add_artist(ab)\n",
    "    ax.legend();\n",
    "    return ax"
   ]
  },
  {
   "cell_type": "code",
   "execution_count": null,
   "id": "3f543982",
   "metadata": {},
   "outputs": [],
   "source": [
    "ax = plot_reduced(fashion_PCA, y, fashion_labels, X, show_color=True, imgs=True)\n",
    "ax.set_xlabel('1st PCA Component', fontsize=18)\n",
    "ax.set_ylabel('2nd PCA Component', fontsize=18)\n",
    "ax.set_title('2-D PCA Projection of Fashion MNIST Dataset', fontsize=20);"
   ]
  },
  {
   "attachments": {},
   "cell_type": "markdown",
   "id": "1187767a",
   "metadata": {},
   "source": [
    "## t-SNE "
   ]
  },
  {
   "attachments": {},
   "cell_type": "markdown",
   "id": "17346938",
   "metadata": {},
   "source": [
    "T-distributed Stochastic Neighbor Embedding t-SNE is a non-linear dimensionality reductionn method that is popular for visualization.\n",
    "\n",
    "Unlike PCA, which can be thought of as preserving *global* structure by maintaining pair-wise distances in the projected space, t-SNE focuses on preserving *local* structure. That is, points which are 'close' in the original space should be close in the target space."
   ]
  },
  {
   "attachments": {},
   "cell_type": "markdown",
   "id": "1fc87bcc",
   "metadata": {},
   "source": [
    "<img src='img/tsne_loss.png' width=700px>"
   ]
  },
  {
   "attachments": {},
   "cell_type": "markdown",
   "id": "133c6f5f",
   "metadata": {},
   "source": [
    "t-SNE is just one of many nonlinear dimensionality techniques available in the sklearn `manifold` module."
   ]
  },
  {
   "cell_type": "code",
   "execution_count": null,
   "id": "5e7aa14d",
   "metadata": {},
   "outputs": [],
   "source": [
    "# load the Fashion MNIST data again\n",
    "fashion_df = pd.read_csv('data/fashion-mnist_test.csv.zip')\n",
    "\n",
    "X = fashion_df.drop('label', axis=1)\n",
    "y = fashion_df['label']\n",
    "X.shape, y.shape\n",
    "\n",
    "fashion_labels = ['T-shirt/top',\n",
    "                  'Trouser',\n",
    "                  'Pullover',\n",
    "                  'Dress',\n",
    "                  'Coat',\n",
    "                  'Sandal',\n",
    "                  'Shirt',\n",
    "                  'Sneaker',\n",
    "                  'Bag',\n",
    "                  'Ankle boot']"
   ]
  },
  {
   "attachments": {},
   "cell_type": "markdown",
   "id": "06dfa32b",
   "metadata": {},
   "source": [
    "It is important to read the [TSNE documentation](https://scikit-learn.org/stable/modules/generated/sklearn.manifold.TSNE.html). There are a lot of hyperparameters!"
   ]
  },
  {
   "cell_type": "code",
   "execution_count": null,
   "id": "d5dab40f",
   "metadata": {},
   "outputs": [],
   "source": [
    "fashion_tsne = TSNE(n_components=2,\n",
    "                     init='random',\n",
    "                     learning_rate='auto',\n",
    "                     n_iter=2000,\n",
    "                     n_iter_without_progress=900,\n",
    "                     perplexity=50,\n",
    "                     random_state=109).fit_transform(X)"
   ]
  },
  {
   "cell_type": "code",
   "execution_count": null,
   "id": "c054b4a6",
   "metadata": {},
   "outputs": [],
   "source": [
    "ax = plot_reduced(fashion_tsne, y, fashion_labels, X)\n",
    "ax.set_xticks([])\n",
    "ax.set_yticks([])\n",
    "ax.set_title('2-D t-SNE Mapping of the Fashion MNIST Dataset', fontsize=20);\n",
    "plt.savefig('img/FashionMNIST_tsne.png')"
   ]
  },
  {
   "attachments": {},
   "cell_type": "markdown",
   "id": "57670b87",
   "metadata": {},
   "source": [
    "<img src='img/tsne_cons.png' width=700px>"
   ]
  },
  {
   "attachments": {},
   "cell_type": "markdown",
   "id": "0b240093",
   "metadata": {},
   "source": [
    "How do your results change as we tweak the hyperparameters?"
   ]
  },
  {
   "cell_type": "code",
   "execution_count": null,
   "id": "7e5d92d6",
   "metadata": {},
   "outputs": [],
   "source": []
  }
 ],
 "metadata": {
  "kernelspec": {
   "display_name": "Python 3 (ipykernel)",
   "language": "python",
   "name": "python3"
  },
  "language_info": {
   "codemirror_mode": {
    "name": "ipython",
    "version": 3
   },
   "file_extension": ".py",
   "mimetype": "text/x-python",
   "name": "python",
   "nbconvert_exporter": "python",
   "pygments_lexer": "ipython3",
   "version": "3.11.5"
  }
 },
 "nbformat": 4,
 "nbformat_minor": 5
}
