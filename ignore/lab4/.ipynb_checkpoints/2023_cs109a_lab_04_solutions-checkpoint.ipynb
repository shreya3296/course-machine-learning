{
    "metadata": {
        "kernelspec": {
            "name": "python3",
            "display_name": "Python 3 (ipykernel)",
            "language": "python"
        }
    },
    "nbformat": 4,
    "nbformat_minor": 2,
    "cells": [
        {
            "attachments": {},
            "cell_type": "markdown",
            "metadata": {},
            "source": [
                "# \u003cimg style=\"float: left; padding-right: 10px; width: 45px\" src=\"https://raw.githubusercontent.com/Harvard-IACS/2018-CS109A/master/content/styles/iacs.png\"\u003e CS109A Introduction to Data Science \n",
                "\n",
                "## Lab 4: Feature Engineering and Pipelines\n",
                "\n",
                "**Harvard University**\u003cbr/\u003e\n",
                "**Fall 2023**\u003cbr/\u003e\n",
                "**Instructors**: Pavlos Protopapas and Kevin Rader\u003cbr/\u003e\n",
                "\u003chr style='height:2px'\u003e"
            ]
        },
        {
            "cell_type": "code",
            "execution_count": 1,
            "metadata": {},
            "outputs": [],
            "source": [
                "import numpy as np\n",
                "import pandas as pd\n",
                "import matplotlib.pyplot as plt\n",
                "from sklearn.preprocessing import PolynomialFeatures, MinMaxScaler, StandardScaler\n",
                "from sklearn.preprocessing import OneHotEncoder, OrdinalEncoder, FunctionTransformer \n",
                "from sklearn.metrics import r2_score, mean_squared_error \n",
                "from sklearn.model_selection import train_test_split\n",
                "from sklearn.linear_model import LinearRegression\n",
                "from pandas.api.types import CategoricalDtype \n",
                "from sklearn.compose import make_column_transformer, TransformedTargetRegressor\n",
                "from sklearn.compose import ColumnTransformer\n",
                "from sklearn.pipeline import Pipeline, make_pipeline\n",
                "#from sklearn.linear_model import Ridge\n",
                "#from sklearn.impute import SimpleImputer\n",
                "#from pandas.plotting import scatter_matrix\n",
                "import seaborn as sns\n",
                "%matplotlib inline"
            ]
        },
        {
            "cell_type": "code",
            "execution_count": 2,
            "metadata": {},
            "outputs": [],
            "source": [
                "# to display nice pipeline drawing\n",
                "from sklearn import set_config\n",
                "set_config(display=\"diagram\") # instead of display='text'"
            ]
        },
        {
            "attachments": {},
            "cell_type": "markdown",
            "metadata": {},
            "source": [
                "## Can we predict the \"market value\" of prospective players in the Fantasy Premier League?\n",
                "![trent](fig/trent.jpg) \n",
                "####  \"... who knows\"\n",
                "\u003cp style=\"text-align:right\"\u003e\u003cfont size=\"1\"; text-align='right'\u003e(Image: Trent Alexander-Arnold https://www.premierleague.com/news/2766220)\u003c/font\u003e\u003c/p\u003e"
            ]
        },
        {
            "attachments": {},
            "cell_type": "markdown",
            "metadata": {},
            "source": [
                "\u003ca id=top\u003e\u003c/a\u003e\n",
                "### Lab Overview\n",
                "\n",
                "This lab is divided into three parts:\n",
                "\n",
                "REGULAR GAME (9:45 am - 11:00 am)\n",
                "- [1 - Data exploration and preliminary feature selection.](#intro) (25min)\u003cBR\u003e\n",
                "- [2 - Feature Engineering.](#engine)\n",
                "    \n",
                "OVERTIME (11:00 am - 11:30 am)\n",
                "- [3 - Using Pipelines of transforms with a final estimator.](#pipes) "
            ]
        },
        {
            "attachments": {},
            "cell_type": "markdown",
            "metadata": {},
            "source": [
                "\u003ca id=intro\u003e\u003c/a\u003e \n",
                "## 1 - Data exploration and preliminary feature selection \n",
                "\n",
                "### Story\n",
                "Once Upon a Time, the Football Association gave us a dataset and asked us to help them predict the \u003cb\u003emarket value\u003c/b\u003e (what the player could earn when hired by a new team) of prospective players.\n",
                "\n",
                "### The dataset\n",
                "The dataset includes data up to 2017, and was created by [Shubham Maurya](https://www.kaggle.com/mauryashubham/linear-regression-to-predict-market-value/data) who used a variety of sources, including *transfermrkt.com* and *Fantasy Premier League (FPL)*, and a variety of methods, including scraping. \n",
                "Each observation is a collection of facts about players in the English Premier League. \n",
                "\n",
                "`name`             : Name of the player  \n",
                "`club`             : Club of the player  \n",
                "`age`              : Age of the player  \n",
                "`position`         : The usual position on the pitch  \n",
                "`position_cat`     : 1 for attackers, 2 for midfielders, 3 for defenders, 4 for goalkeepers   \n",
                "`page_views`       : Average daily Wikipedia page views from September 1, 2016 to May 1, 2017  \n",
                "`fpl_points`       : FPL points accumulated over the previous season (https://www.premierleague.com/news/2174909)\u003cBR\u003e\n",
                "`region`           : 1 for England, 2 for EU, 3 for Americas, 4 for Rest of World  \n",
                "`nationality`      : Player's nationality \u003cBR\u003e\n",
                "`new_signing`      : Whether a new signing for 2017/18 (till 20th July)  \n",
                "`new_foreign`      : Whether a new signing from a different league, for 2017/18 (till 20th July)  \n",
                "`club_id`          : a numerical version of the Club feature  \n",
                "\n",
                "### Our goal\n",
                "To construct and fit a model that predicts the players' `market value` using all or part of the features in the given data.\n",
                "\n",
                "### Our return variable\n",
                "\n",
                "`market_value`: As on transfermrkt.com on July 20th, 2017 in £M (British pounds)\n",
                "    "
            ]
        },
        {
            "attachments": {},
            "cell_type": "markdown",
            "metadata": {},
            "source": [
                "#### Import the data"
            ]
        },
        {
            "cell_type": "code",
            "execution_count": 3,
            "metadata": {
                "scrolled": true
            },
            "outputs": [
                {
                    "data": {
                        "text/html": "\u003cdiv\u003e\n\u003cstyle scoped\u003e\n    .dataframe tbody tr th:only-of-type {\n        vertical-align: middle;\n    }\n\n    .dataframe tbody tr th {\n        vertical-align: top;\n    }\n\n    .dataframe thead th {\n        text-align: right;\n    }\n\u003c/style\u003e\n\u003ctable border=\"1\" class=\"dataframe\"\u003e\n  \u003cthead\u003e\n    \u003ctr style=\"text-align: right;\"\u003e\n      \u003cth\u003e\u003c/th\u003e\n      \u003cth\u003ename\u003c/th\u003e\n      \u003cth\u003eclub\u003c/th\u003e\n      \u003cth\u003eage\u003c/th\u003e\n      \u003cth\u003eposition\u003c/th\u003e\n      \u003cth\u003eposition_cat\u003c/th\u003e\n      \u003cth\u003emarket_value\u003c/th\u003e\n      \u003cth\u003epage_views\u003c/th\u003e\n      \u003cth\u003efpl_points\u003c/th\u003e\n      \u003cth\u003eregion\u003c/th\u003e\n      \u003cth\u003enationality\u003c/th\u003e\n      \u003cth\u003enew_foreign\u003c/th\u003e\n      \u003cth\u003eclub_id\u003c/th\u003e\n      \u003cth\u003enew_signing\u003c/th\u003e\n    \u003c/tr\u003e\n  \u003c/thead\u003e\n  \u003ctbody\u003e\n    \u003ctr\u003e\n      \u003cth\u003e0\u003c/th\u003e\n      \u003ctd\u003eAlexis Sanchez\u003c/td\u003e\n      \u003ctd\u003eArsenal\u003c/td\u003e\n      \u003ctd\u003e28\u003c/td\u003e\n      \u003ctd\u003eLW\u003c/td\u003e\n      \u003ctd\u003e1\u003c/td\u003e\n      \u003ctd\u003e65.0\u003c/td\u003e\n      \u003ctd\u003e4329\u003c/td\u003e\n      \u003ctd\u003e264\u003c/td\u003e\n      \u003ctd\u003e3\u003c/td\u003e\n      \u003ctd\u003eChile\u003c/td\u003e\n      \u003ctd\u003e0\u003c/td\u003e\n      \u003ctd\u003e1\u003c/td\u003e\n      \u003ctd\u003e0\u003c/td\u003e\n    \u003c/tr\u003e\n    \u003ctr\u003e\n      \u003cth\u003e1\u003c/th\u003e\n      \u003ctd\u003eMesut Ozil\u003c/td\u003e\n      \u003ctd\u003eArsenal\u003c/td\u003e\n      \u003ctd\u003e28\u003c/td\u003e\n      \u003ctd\u003eAM\u003c/td\u003e\n      \u003ctd\u003e1\u003c/td\u003e\n      \u003ctd\u003e50.0\u003c/td\u003e\n      \u003ctd\u003e4395\u003c/td\u003e\n      \u003ctd\u003e167\u003c/td\u003e\n      \u003ctd\u003e2\u003c/td\u003e\n      \u003ctd\u003eGermany\u003c/td\u003e\n      \u003ctd\u003e0\u003c/td\u003e\n      \u003ctd\u003e1\u003c/td\u003e\n      \u003ctd\u003e0\u003c/td\u003e\n    \u003c/tr\u003e\n  \u003c/tbody\u003e\n\u003c/table\u003e\n\u003c/div\u003e",
                        "text/plain": "             name     club  age position  position_cat  market_value  \\\n0  Alexis Sanchez  Arsenal   28       LW             1          65.0   \n1      Mesut Ozil  Arsenal   28       AM             1          50.0   \n\n   page_views  fpl_points  region nationality  new_foreign  club_id  \\\n0        4329         264       3       Chile            0        1   \n1        4395         167       2     Germany            0        1   \n\n   new_signing  \n0            0  \n1            0  "
                    },
                    "execution_count": 3,
                    "metadata": {},
                    "output_type": "execute_result"
                }
            ],
            "source": [
                "league_df = pd.read_csv(\"data/league_data.csv\")\n",
                "league_df.head(2)"
            ]
        },
        {
            "cell_type": "code",
            "execution_count": 4,
            "metadata": {
                "scrolled": true
            },
            "outputs": [
                {
                    "data": {
                        "text/plain": "(460, 13)"
                    },
                    "execution_count": 4,
                    "metadata": {},
                    "output_type": "execute_result"
                }
            ],
            "source": [
                "league_df.shape"
            ]
        },
        {
            "attachments": {},
            "cell_type": "markdown",
            "metadata": {},
            "source": [
                "#### Some statistics"
            ]
        },
        {
            "cell_type": "code",
            "execution_count": 5,
            "metadata": {},
            "outputs": [
                {
                    "data": {
                        "text/html": "\u003cdiv\u003e\n\u003cstyle scoped\u003e\n    .dataframe tbody tr th:only-of-type {\n        vertical-align: middle;\n    }\n\n    .dataframe tbody tr th {\n        vertical-align: top;\n    }\n\n    .dataframe thead th {\n        text-align: right;\n    }\n\u003c/style\u003e\n\u003ctable border=\"1\" class=\"dataframe\"\u003e\n  \u003cthead\u003e\n    \u003ctr style=\"text-align: right;\"\u003e\n      \u003cth\u003e\u003c/th\u003e\n      \u003cth\u003ecount\u003c/th\u003e\n      \u003cth\u003eunique\u003c/th\u003e\n      \u003cth\u003etop\u003c/th\u003e\n      \u003cth\u003efreq\u003c/th\u003e\n      \u003cth\u003emean\u003c/th\u003e\n      \u003cth\u003estd\u003c/th\u003e\n      \u003cth\u003emin\u003c/th\u003e\n      \u003cth\u003e25%\u003c/th\u003e\n      \u003cth\u003e50%\u003c/th\u003e\n      \u003cth\u003e75%\u003c/th\u003e\n      \u003cth\u003emax\u003c/th\u003e\n    \u003c/tr\u003e\n  \u003c/thead\u003e\n  \u003ctbody\u003e\n    \u003ctr\u003e\n      \u003cth\u003ename\u003c/th\u003e\n      \u003ctd\u003e460\u003c/td\u003e\n      \u003ctd\u003e460\u003c/td\u003e\n      \u003ctd\u003eAlexis Sanchez\u003c/td\u003e\n      \u003ctd\u003e1\u003c/td\u003e\n      \u003ctd\u003eNaN\u003c/td\u003e\n      \u003ctd\u003eNaN\u003c/td\u003e\n      \u003ctd\u003eNaN\u003c/td\u003e\n      \u003ctd\u003eNaN\u003c/td\u003e\n      \u003ctd\u003eNaN\u003c/td\u003e\n      \u003ctd\u003eNaN\u003c/td\u003e\n      \u003ctd\u003eNaN\u003c/td\u003e\n    \u003c/tr\u003e\n    \u003ctr\u003e\n      \u003cth\u003eclub\u003c/th\u003e\n      \u003ctd\u003e460\u003c/td\u003e\n      \u003ctd\u003e20\u003c/td\u003e\n      \u003ctd\u003eArsenal\u003c/td\u003e\n      \u003ctd\u003e28\u003c/td\u003e\n      \u003ctd\u003eNaN\u003c/td\u003e\n      \u003ctd\u003eNaN\u003c/td\u003e\n      \u003ctd\u003eNaN\u003c/td\u003e\n      \u003ctd\u003eNaN\u003c/td\u003e\n      \u003ctd\u003eNaN\u003c/td\u003e\n      \u003ctd\u003eNaN\u003c/td\u003e\n      \u003ctd\u003eNaN\u003c/td\u003e\n    \u003c/tr\u003e\n    \u003ctr\u003e\n      \u003cth\u003eage\u003c/th\u003e\n      \u003ctd\u003e460.0\u003c/td\u003e\n      \u003ctd\u003eNaN\u003c/td\u003e\n      \u003ctd\u003eNaN\u003c/td\u003e\n      \u003ctd\u003eNaN\u003c/td\u003e\n      \u003ctd\u003e26.81087\u003c/td\u003e\n      \u003ctd\u003e3.964039\u003c/td\u003e\n      \u003ctd\u003e17.0\u003c/td\u003e\n      \u003ctd\u003e24.0\u003c/td\u003e\n      \u003ctd\u003e27.0\u003c/td\u003e\n      \u003ctd\u003e30.0\u003c/td\u003e\n      \u003ctd\u003e38.0\u003c/td\u003e\n    \u003c/tr\u003e\n    \u003ctr\u003e\n      \u003cth\u003eposition\u003c/th\u003e\n      \u003ctd\u003e460\u003c/td\u003e\n      \u003ctd\u003e13\u003c/td\u003e\n      \u003ctd\u003eCB\u003c/td\u003e\n      \u003ctd\u003e85\u003c/td\u003e\n      \u003ctd\u003eNaN\u003c/td\u003e\n      \u003ctd\u003eNaN\u003c/td\u003e\n      \u003ctd\u003eNaN\u003c/td\u003e\n      \u003ctd\u003eNaN\u003c/td\u003e\n      \u003ctd\u003eNaN\u003c/td\u003e\n      \u003ctd\u003eNaN\u003c/td\u003e\n      \u003ctd\u003eNaN\u003c/td\u003e\n    \u003c/tr\u003e\n    \u003ctr\u003e\n      \u003cth\u003eposition_cat\u003c/th\u003e\n      \u003ctd\u003e460.0\u003c/td\u003e\n      \u003ctd\u003eNaN\u003c/td\u003e\n      \u003ctd\u003eNaN\u003c/td\u003e\n      \u003ctd\u003eNaN\u003c/td\u003e\n      \u003ctd\u003e2.178261\u003c/td\u003e\n      \u003ctd\u003e1.000417\u003c/td\u003e\n      \u003ctd\u003e1.0\u003c/td\u003e\n      \u003ctd\u003e1.0\u003c/td\u003e\n      \u003ctd\u003e2.0\u003c/td\u003e\n      \u003ctd\u003e3.0\u003c/td\u003e\n      \u003ctd\u003e4.0\u003c/td\u003e\n    \u003c/tr\u003e\n    \u003ctr\u003e\n      \u003cth\u003emarket_value\u003c/th\u003e\n      \u003ctd\u003e460.0\u003c/td\u003e\n      \u003ctd\u003eNaN\u003c/td\u003e\n      \u003ctd\u003eNaN\u003c/td\u003e\n      \u003ctd\u003eNaN\u003c/td\u003e\n      \u003ctd\u003e11.018587\u003c/td\u003e\n      \u003ctd\u003e12.269941\u003c/td\u003e\n      \u003ctd\u003e0.05\u003c/td\u003e\n      \u003ctd\u003e3.0\u003c/td\u003e\n      \u003ctd\u003e7.0\u003c/td\u003e\n      \u003ctd\u003e15.0\u003c/td\u003e\n      \u003ctd\u003e75.0\u003c/td\u003e\n    \u003c/tr\u003e\n    \u003ctr\u003e\n      \u003cth\u003epage_views\u003c/th\u003e\n      \u003ctd\u003e460.0\u003c/td\u003e\n      \u003ctd\u003eNaN\u003c/td\u003e\n      \u003ctd\u003eNaN\u003c/td\u003e\n      \u003ctd\u003eNaN\u003c/td\u003e\n      \u003ctd\u003e764.6\u003c/td\u003e\n      \u003ctd\u003e932.652322\u003c/td\u003e\n      \u003ctd\u003e3.0\u003c/td\u003e\n      \u003ctd\u003e219.75\u003c/td\u003e\n      \u003ctd\u003e460.0\u003c/td\u003e\n      \u003ctd\u003e900.0\u003c/td\u003e\n      \u003ctd\u003e7664.0\u003c/td\u003e\n    \u003c/tr\u003e\n    \u003ctr\u003e\n      \u003cth\u003efpl_points\u003c/th\u003e\n      \u003ctd\u003e460.0\u003c/td\u003e\n      \u003ctd\u003eNaN\u003c/td\u003e\n      \u003ctd\u003eNaN\u003c/td\u003e\n      \u003ctd\u003eNaN\u003c/td\u003e\n      \u003ctd\u003e57.336957\u003c/td\u003e\n      \u003ctd\u003e53.169454\u003c/td\u003e\n      \u003ctd\u003e0.0\u003c/td\u003e\n      \u003ctd\u003e5.0\u003c/td\u003e\n      \u003ctd\u003e51.0\u003c/td\u003e\n      \u003ctd\u003e94.0\u003c/td\u003e\n      \u003ctd\u003e264.0\u003c/td\u003e\n    \u003c/tr\u003e\n    \u003ctr\u003e\n      \u003cth\u003eregion\u003c/th\u003e\n      \u003ctd\u003e460.0\u003c/td\u003e\n      \u003ctd\u003eNaN\u003c/td\u003e\n      \u003ctd\u003eNaN\u003c/td\u003e\n      \u003ctd\u003eNaN\u003c/td\u003e\n      \u003ctd\u003e1.993478\u003c/td\u003e\n      \u003ctd\u003e0.957689\u003c/td\u003e\n      \u003ctd\u003e1.0\u003c/td\u003e\n      \u003ctd\u003e1.0\u003c/td\u003e\n      \u003ctd\u003e2.0\u003c/td\u003e\n      \u003ctd\u003e2.0\u003c/td\u003e\n      \u003ctd\u003e4.0\u003c/td\u003e\n    \u003c/tr\u003e\n    \u003ctr\u003e\n      \u003cth\u003enationality\u003c/th\u003e\n      \u003ctd\u003e460\u003c/td\u003e\n      \u003ctd\u003e61\u003c/td\u003e\n      \u003ctd\u003eEngland\u003c/td\u003e\n      \u003ctd\u003e156\u003c/td\u003e\n      \u003ctd\u003eNaN\u003c/td\u003e\n      \u003ctd\u003eNaN\u003c/td\u003e\n      \u003ctd\u003eNaN\u003c/td\u003e\n      \u003ctd\u003eNaN\u003c/td\u003e\n      \u003ctd\u003eNaN\u003c/td\u003e\n      \u003ctd\u003eNaN\u003c/td\u003e\n      \u003ctd\u003eNaN\u003c/td\u003e\n    \u003c/tr\u003e\n    \u003ctr\u003e\n      \u003cth\u003enew_foreign\u003c/th\u003e\n      \u003ctd\u003e460.0\u003c/td\u003e\n      \u003ctd\u003eNaN\u003c/td\u003e\n      \u003ctd\u003eNaN\u003c/td\u003e\n      \u003ctd\u003eNaN\u003c/td\u003e\n      \u003ctd\u003e0.034783\u003c/td\u003e\n      \u003ctd\u003e0.183428\u003c/td\u003e\n      \u003ctd\u003e0.0\u003c/td\u003e\n      \u003ctd\u003e0.0\u003c/td\u003e\n      \u003ctd\u003e0.0\u003c/td\u003e\n      \u003ctd\u003e0.0\u003c/td\u003e\n      \u003ctd\u003e1.0\u003c/td\u003e\n    \u003c/tr\u003e\n    \u003ctr\u003e\n      \u003cth\u003eclub_id\u003c/th\u003e\n      \u003ctd\u003e460.0\u003c/td\u003e\n      \u003ctd\u003eNaN\u003c/td\u003e\n      \u003ctd\u003eNaN\u003c/td\u003e\n      \u003ctd\u003eNaN\u003c/td\u003e\n      \u003ctd\u003e10.343478\u003c/td\u003e\n      \u003ctd\u003e5.729131\u003c/td\u003e\n      \u003ctd\u003e1.0\u003c/td\u003e\n      \u003ctd\u003e6.0\u003c/td\u003e\n      \u003ctd\u003e10.0\u003c/td\u003e\n      \u003ctd\u003e15.0\u003c/td\u003e\n      \u003ctd\u003e20.0\u003c/td\u003e\n    \u003c/tr\u003e\n    \u003ctr\u003e\n      \u003cth\u003enew_signing\u003c/th\u003e\n      \u003ctd\u003e460.0\u003c/td\u003e\n      \u003ctd\u003eNaN\u003c/td\u003e\n      \u003ctd\u003eNaN\u003c/td\u003e\n      \u003ctd\u003eNaN\u003c/td\u003e\n      \u003ctd\u003e0.145652\u003c/td\u003e\n      \u003ctd\u003e0.353141\u003c/td\u003e\n      \u003ctd\u003e0.0\u003c/td\u003e\n      \u003ctd\u003e0.0\u003c/td\u003e\n      \u003ctd\u003e0.0\u003c/td\u003e\n      \u003ctd\u003e0.0\u003c/td\u003e\n      \u003ctd\u003e1.0\u003c/td\u003e\n    \u003c/tr\u003e\n  \u003c/tbody\u003e\n\u003c/table\u003e\n\u003c/div\u003e",
                        "text/plain": "              count unique             top freq       mean         std   min  \\\nname            460    460  Alexis Sanchez    1        NaN         NaN   NaN   \nclub            460     20         Arsenal   28        NaN         NaN   NaN   \nage           460.0    NaN             NaN  NaN   26.81087    3.964039  17.0   \nposition        460     13              CB   85        NaN         NaN   NaN   \nposition_cat  460.0    NaN             NaN  NaN   2.178261    1.000417   1.0   \nmarket_value  460.0    NaN             NaN  NaN  11.018587   12.269941  0.05   \npage_views    460.0    NaN             NaN  NaN      764.6  932.652322   3.0   \nfpl_points    460.0    NaN             NaN  NaN  57.336957   53.169454   0.0   \nregion        460.0    NaN             NaN  NaN   1.993478    0.957689   1.0   \nnationality     460     61         England  156        NaN         NaN   NaN   \nnew_foreign   460.0    NaN             NaN  NaN   0.034783    0.183428   0.0   \nclub_id       460.0    NaN             NaN  NaN  10.343478    5.729131   1.0   \nnew_signing   460.0    NaN             NaN  NaN   0.145652    0.353141   0.0   \n\n                 25%    50%    75%     max  \nname             NaN    NaN    NaN     NaN  \nclub             NaN    NaN    NaN     NaN  \nage             24.0   27.0   30.0    38.0  \nposition         NaN    NaN    NaN     NaN  \nposition_cat     1.0    2.0    3.0     4.0  \nmarket_value     3.0    7.0   15.0    75.0  \npage_views    219.75  460.0  900.0  7664.0  \nfpl_points       5.0   51.0   94.0   264.0  \nregion           1.0    2.0    2.0     4.0  \nnationality      NaN    NaN    NaN     NaN  \nnew_foreign      0.0    0.0    0.0     1.0  \nclub_id          6.0   10.0   15.0    20.0  \nnew_signing      0.0    0.0    0.0     1.0  "
                    },
                    "execution_count": 5,
                    "metadata": {},
                    "output_type": "execute_result"
                }
            ],
            "source": [
                "league_df.describe(include=\"all\").T"
            ]
        },
        {
            "cell_type": "code",
            "execution_count": 6,
            "metadata": {},
            "outputs": [
                {
                    "data": {
                        "text/html": "\u003cdiv\u003e\n\u003cstyle scoped\u003e\n    .dataframe tbody tr th:only-of-type {\n        vertical-align: middle;\n    }\n\n    .dataframe tbody tr th {\n        vertical-align: top;\n    }\n\n    .dataframe thead th {\n        text-align: right;\n    }\n\u003c/style\u003e\n\u003ctable border=\"1\" class=\"dataframe\"\u003e\n  \u003cthead\u003e\n    \u003ctr style=\"text-align: right;\"\u003e\n      \u003cth\u003e\u003c/th\u003e\n      \u003cth\u003ecount\u003c/th\u003e\n      \u003cth\u003eunique\u003c/th\u003e\n      \u003cth\u003etop\u003c/th\u003e\n      \u003cth\u003efreq\u003c/th\u003e\n    \u003c/tr\u003e\n  \u003c/thead\u003e\n  \u003ctbody\u003e\n    \u003ctr\u003e\n      \u003cth\u003ename\u003c/th\u003e\n      \u003ctd\u003e460\u003c/td\u003e\n      \u003ctd\u003e460\u003c/td\u003e\n      \u003ctd\u003eAlexis Sanchez\u003c/td\u003e\n      \u003ctd\u003e1\u003c/td\u003e\n    \u003c/tr\u003e\n    \u003ctr\u003e\n      \u003cth\u003eclub\u003c/th\u003e\n      \u003ctd\u003e460\u003c/td\u003e\n      \u003ctd\u003e20\u003c/td\u003e\n      \u003ctd\u003eArsenal\u003c/td\u003e\n      \u003ctd\u003e28\u003c/td\u003e\n    \u003c/tr\u003e\n    \u003ctr\u003e\n      \u003cth\u003eposition\u003c/th\u003e\n      \u003ctd\u003e460\u003c/td\u003e\n      \u003ctd\u003e13\u003c/td\u003e\n      \u003ctd\u003eCB\u003c/td\u003e\n      \u003ctd\u003e85\u003c/td\u003e\n    \u003c/tr\u003e\n    \u003ctr\u003e\n      \u003cth\u003enationality\u003c/th\u003e\n      \u003ctd\u003e460\u003c/td\u003e\n      \u003ctd\u003e61\u003c/td\u003e\n      \u003ctd\u003eEngland\u003c/td\u003e\n      \u003ctd\u003e156\u003c/td\u003e\n    \u003c/tr\u003e\n  \u003c/tbody\u003e\n\u003c/table\u003e\n\u003c/div\u003e",
                        "text/plain": "            count unique             top freq\nname          460    460  Alexis Sanchez    1\nclub          460     20         Arsenal   28\nposition      460     13              CB   85\nnationality   460     61         England  156"
                    },
                    "execution_count": 6,
                    "metadata": {},
                    "output_type": "execute_result"
                }
            ],
            "source": [
                "league_df.describe(include=object).T"
            ]
        },
        {
            "attachments": {},
            "cell_type": "markdown",
            "metadata": {},
            "source": [
                "#### What about missing values?"
            ]
        },
        {
            "cell_type": "code",
            "execution_count": 7,
            "metadata": {},
            "outputs": [
                {
                    "data": {
                        "text/plain": "name            0\nclub            0\nage             0\nposition        0\nposition_cat    0\nmarket_value    0\npage_views      0\nfpl_points      0\nregion          0\nnationality     0\nnew_foreign     0\nclub_id         0\nnew_signing     0\ndtype: int64"
                    },
                    "execution_count": 7,
                    "metadata": {},
                    "output_type": "execute_result"
                }
            ],
            "source": [
                "league_df.isnull().sum()"
            ]
        },
        {
            "attachments": {},
            "cell_type": "markdown",
            "metadata": {},
            "source": [
                "\u003cdiv class=\"alert alert-success\"\u003e\n",
                "    \u003cstrong\u003e🏋🏻‍♂️ TEAM ACTIVITY 1 : \u003c/strong\u003e Which features do we want to keep?\u003c/div\u003e  \n",
                "    \n",
                "This should be a preliminary check for obvious features to include or excude. This is not the type of feature selection we would do using the model. These should be done after the train and test split. For example, are there features that are basically measuring the same thing?\n",
                "\n",
                "Notice that the dataset contains columns with different data types. We need to apply a specific preprocessing for each one of them. Categorical variables that are ordinal need to be coded as integers, while the rest of them need to be one-hot-encoded. "
            ]
        },
        {
            "cell_type": "code",
            "execution_count": 8,
            "metadata": {},
            "outputs": [
                {
                    "data": {
                        "text/html": "\u003cdiv\u003e\n\u003cstyle scoped\u003e\n    .dataframe tbody tr th:only-of-type {\n        vertical-align: middle;\n    }\n\n    .dataframe tbody tr th {\n        vertical-align: top;\n    }\n\n    .dataframe thead th {\n        text-align: right;\n    }\n\u003c/style\u003e\n\u003ctable border=\"1\" class=\"dataframe\"\u003e\n  \u003cthead\u003e\n    \u003ctr style=\"text-align: right;\"\u003e\n      \u003cth\u003e\u003c/th\u003e\n      \u003cth\u003ename\u003c/th\u003e\n      \u003cth\u003eclub\u003c/th\u003e\n      \u003cth\u003eage\u003c/th\u003e\n      \u003cth\u003eposition\u003c/th\u003e\n      \u003cth\u003eposition_cat\u003c/th\u003e\n      \u003cth\u003emarket_value\u003c/th\u003e\n      \u003cth\u003epage_views\u003c/th\u003e\n      \u003cth\u003efpl_points\u003c/th\u003e\n      \u003cth\u003eregion\u003c/th\u003e\n      \u003cth\u003enationality\u003c/th\u003e\n      \u003cth\u003enew_foreign\u003c/th\u003e\n      \u003cth\u003eclub_id\u003c/th\u003e\n      \u003cth\u003enew_signing\u003c/th\u003e\n    \u003c/tr\u003e\n  \u003c/thead\u003e\n  \u003ctbody\u003e\n    \u003ctr\u003e\n      \u003cth\u003e0\u003c/th\u003e\n      \u003ctd\u003eAlexis Sanchez\u003c/td\u003e\n      \u003ctd\u003eArsenal\u003c/td\u003e\n      \u003ctd\u003e28\u003c/td\u003e\n      \u003ctd\u003eLW\u003c/td\u003e\n      \u003ctd\u003e1\u003c/td\u003e\n      \u003ctd\u003e65.0\u003c/td\u003e\n      \u003ctd\u003e4329\u003c/td\u003e\n      \u003ctd\u003e264\u003c/td\u003e\n      \u003ctd\u003e3\u003c/td\u003e\n      \u003ctd\u003eChile\u003c/td\u003e\n      \u003ctd\u003e0\u003c/td\u003e\n      \u003ctd\u003e1\u003c/td\u003e\n      \u003ctd\u003e0\u003c/td\u003e\n    \u003c/tr\u003e\n    \u003ctr\u003e\n      \u003cth\u003e1\u003c/th\u003e\n      \u003ctd\u003eMesut Ozil\u003c/td\u003e\n      \u003ctd\u003eArsenal\u003c/td\u003e\n      \u003ctd\u003e28\u003c/td\u003e\n      \u003ctd\u003eAM\u003c/td\u003e\n      \u003ctd\u003e1\u003c/td\u003e\n      \u003ctd\u003e50.0\u003c/td\u003e\n      \u003ctd\u003e4395\u003c/td\u003e\n      \u003ctd\u003e167\u003c/td\u003e\n      \u003ctd\u003e2\u003c/td\u003e\n      \u003ctd\u003eGermany\u003c/td\u003e\n      \u003ctd\u003e0\u003c/td\u003e\n      \u003ctd\u003e1\u003c/td\u003e\n      \u003ctd\u003e0\u003c/td\u003e\n    \u003c/tr\u003e\n  \u003c/tbody\u003e\n\u003c/table\u003e\n\u003c/div\u003e",
                        "text/plain": "             name     club  age position  position_cat  market_value  \\\n0  Alexis Sanchez  Arsenal   28       LW             1          65.0   \n1      Mesut Ozil  Arsenal   28       AM             1          50.0   \n\n   page_views  fpl_points  region nationality  new_foreign  club_id  \\\n0        4329         264       3       Chile            0        1   \n1        4395         167       2     Germany            0        1   \n\n   new_signing  \n0            0  \n1            0  "
                    },
                    "execution_count": 8,
                    "metadata": {},
                    "output_type": "execute_result"
                }
            ],
            "source": [
                "# remove\n",
                "league_df.head(2)"
            ]
        },
        {
            "cell_type": "code",
            "execution_count": 9,
            "metadata": {},
            "outputs": [
                {
                    "data": {
                        "text/plain": "array(['LW', 'AM', 'GK', 'RW', 'CB', 'RB', 'CF', 'LB', 'DM', 'RM', 'CM',\n       'SS', 'LM'], dtype=object)"
                    },
                    "execution_count": 9,
                    "metadata": {},
                    "output_type": "execute_result"
                }
            ],
            "source": [
                "# remove\n",
                "league_df.position.unique()"
            ]
        },
        {
            "cell_type": "code",
            "execution_count": 10,
            "metadata": {},
            "outputs": [
                {
                    "data": {
                        "text/html": "\u003cdiv\u003e\n\u003cstyle scoped\u003e\n    .dataframe tbody tr th:only-of-type {\n        vertical-align: middle;\n    }\n\n    .dataframe tbody tr th {\n        vertical-align: top;\n    }\n\n    .dataframe thead th {\n        text-align: right;\n    }\n\u003c/style\u003e\n\u003ctable border=\"1\" class=\"dataframe\"\u003e\n  \u003cthead\u003e\n    \u003ctr style=\"text-align: right;\"\u003e\n      \u003cth\u003e\u003c/th\u003e\n      \u003cth\u003eposition\u003c/th\u003e\n    \u003c/tr\u003e\n    \u003ctr\u003e\n      \u003cth\u003eposition_cat\u003c/th\u003e\n      \u003cth\u003e\u003c/th\u003e\n    \u003c/tr\u003e\n  \u003c/thead\u003e\n  \u003ctbody\u003e\n    \u003ctr\u003e\n      \u003cth\u003e1\u003c/th\u003e\n      \u003ctd\u003e[AM, CF, LW, RB, RW, SS]\u003c/td\u003e\n    \u003c/tr\u003e\n    \u003ctr\u003e\n      \u003cth\u003e2\u003c/th\u003e\n      \u003ctd\u003e[CM, DM, LM, RM]\u003c/td\u003e\n    \u003c/tr\u003e\n    \u003ctr\u003e\n      \u003cth\u003e3\u003c/th\u003e\n      \u003ctd\u003e[CB, LB, RB]\u003c/td\u003e\n    \u003c/tr\u003e\n    \u003ctr\u003e\n      \u003cth\u003e4\u003c/th\u003e\n      \u003ctd\u003e[GK]\u003c/td\u003e\n    \u003c/tr\u003e\n  \u003c/tbody\u003e\n\u003c/table\u003e\n\u003c/div\u003e",
                        "text/plain": "                              position\nposition_cat                          \n1             [AM, CF, LW, RB, RW, SS]\n2                     [CM, DM, LM, RM]\n3                         [CB, LB, RB]\n4                                 [GK]"
                    },
                    "execution_count": 10,
                    "metadata": {},
                    "output_type": "execute_result"
                }
            ],
            "source": [
                "# remove\n",
                "league_df[['position','position_cat']].groupby(['position_cat']).agg({'position' : np.unique,\n",
                "                                                        })"
            ]
        },
        {
            "cell_type": "code",
            "execution_count": 11,
            "metadata": {},
            "outputs": [
                {
                    "data": {
                        "text/html": "\u003cdiv\u003e\n\u003cstyle scoped\u003e\n    .dataframe tbody tr th:only-of-type {\n        vertical-align: middle;\n    }\n\n    .dataframe tbody tr th {\n        vertical-align: top;\n    }\n\n    .dataframe thead th {\n        text-align: right;\n    }\n\u003c/style\u003e\n\u003ctable border=\"1\" class=\"dataframe\"\u003e\n  \u003cthead\u003e\n    \u003ctr style=\"text-align: right;\"\u003e\n      \u003cth\u003e\u003c/th\u003e\n      \u003cth\u003enationality\u003c/th\u003e\n    \u003c/tr\u003e\n    \u003ctr\u003e\n      \u003cth\u003eregion\u003c/th\u003e\n      \u003cth\u003e\u003c/th\u003e\n    \u003c/tr\u003e\n  \u003c/thead\u003e\n  \u003ctbody\u003e\n    \u003ctr\u003e\n      \u003cth\u003e1\u003c/th\u003e\n      \u003ctd\u003e[England, Wales]\u003c/td\u003e\n    \u003c/tr\u003e\n    \u003ctr\u003e\n      \u003cth\u003e2\u003c/th\u003e\n      \u003ctd\u003e[Argentina, Austria, Belgium, Bosnia, Cameroon...\u003c/td\u003e\n    \u003c/tr\u003e\n    \u003ctr\u003e\n      \u003cth\u003e3\u003c/th\u003e\n      \u003ctd\u003e[Argentina, Bermuda, Brazil, Canada, Chile, Co...\u003c/td\u003e\n    \u003c/tr\u003e\n    \u003ctr\u003e\n      \u003cth\u003e4\u003c/th\u003e\n      \u003ctd\u003e[Algeria, Armenia, Australia, Benin, Cameroon,...\u003c/td\u003e\n    \u003c/tr\u003e\n  \u003c/tbody\u003e\n\u003c/table\u003e\n\u003c/div\u003e",
                        "text/plain": "                                              nationality\nregion                                                   \n1                                        [England, Wales]\n2       [Argentina, Austria, Belgium, Bosnia, Cameroon...\n3       [Argentina, Bermuda, Brazil, Canada, Chile, Co...\n4       [Algeria, Armenia, Australia, Benin, Cameroon,..."
                    },
                    "execution_count": 11,
                    "metadata": {},
                    "output_type": "execute_result"
                }
            ],
            "source": [
                "# remove\n",
                "league_df[['region','nationality']].groupby(['region']).agg({'nationality' : np.unique,\n",
                "                                                        })"
            ]
        },
        {
            "cell_type": "code",
            "execution_count": 12,
            "metadata": {},
            "outputs": [
                {
                    "data": {
                        "text/plain": "name             object\nclub             object\nage               int64\nposition         object\nposition_cat      int64\nmarket_value    float64\npage_views        int64\nfpl_points        int64\nregion            int64\nnationality      object\nnew_foreign       int64\nclub_id           int64\nnew_signing       int64\ndtype: object"
                    },
                    "execution_count": 12,
                    "metadata": {},
                    "output_type": "execute_result"
                }
            ],
            "source": [
                "#remove\n",
                "league_df.dtypes"
            ]
        },
        {
            "cell_type": "code",
            "execution_count": 13,
            "metadata": {},
            "outputs": [],
            "source": [
                "# remove\n",
                "categorical_cols = ['position_cat', 'new_signing', 'region'] \n",
                "numerical_cols = ['page_views', 'fpl_points', 'age'] \n",
                "ordinal_cols = [] # we do not have any"
            ]
        },
        {
            "attachments": {},
            "cell_type": "markdown",
            "metadata": {},
            "source": [
                "\u003cdiv class=\"alert alert-success\"\u003e\n",
                "    \u003cstrong\u003e🏋🏻‍♂️ TEAM ACTIVITY 2 : \u003c/strong\u003e Let's start with some feature engineering and construct a new feature: `big_club`.\u003c/div\u003e  "
            ]
        },
        {
            "attachments": {},
            "cell_type": "markdown",
            "metadata": {},
            "source": [
                "The Football Association have a hunch that being in a **big club** affects the market value of a player, so they want us to construct and include this feature in our model. We also noticed that `club_id` had too many categories for one-hot-encoding.\n",
                "\u003cBR\u003e\u003cBR\u003e\n",
                "Until 2017, big clubs were the following:\n",
                "\u003cBR\u003e\n",
                "    \n",
                "```\n",
                "'Arsenal', 'Chelsea', 'Liverpool', 'Manchester+City', 'Manchester+United', 'Tottenham'\n",
                "```\n",
                "\n",
                "Create a new binary categorical variable named `big_clubs` with values $0$ or $1$ designating if a club belongs to the Top 6 clubs.\n",
                "\n",
                "#### NOTE: Applying functions to pandas Series\n",
                "If the function to create the new column is simple, we may use a direct way to create the new column (feature), e.g.:\n",
                "\n",
                "```\n",
                "df['new_column'] = df['column']**2\n",
                "```\n",
                "If more complex operations we may use a `lambda` function.\n",
                "```\n",
                "df['new_column'] = df.apply(lambda row: 1 if row['column'] in big_clubs else 0, axis=1)\n",
                "``` "
            ]
        },
        {
            "cell_type": "code",
            "execution_count": 14,
            "metadata": {},
            "outputs": [],
            "source": [
                "# remove\n",
                "big_clubs = ['Arsenal', 'Chelsea', 'Liverpool', 'Manchester+City',\n",
                "     'Manchester+United', 'Tottenham']\n",
                "\n",
                "# creating a new column by applying a function in other columns\n",
                "league_df['big_club'] = league_df.apply(lambda row: 1 \\\n",
                "                                         if row['club'] in big_clubs else 0, axis=1)"
            ]
        },
        {
            "cell_type": "code",
            "execution_count": 15,
            "metadata": {
                "scrolled": true
            },
            "outputs": [
                {
                    "data": {
                        "text/html": "\u003cdiv\u003e\n\u003cstyle scoped\u003e\n    .dataframe tbody tr th:only-of-type {\n        vertical-align: middle;\n    }\n\n    .dataframe tbody tr th {\n        vertical-align: top;\n    }\n\n    .dataframe thead th {\n        text-align: right;\n    }\n\u003c/style\u003e\n\u003ctable border=\"1\" class=\"dataframe\"\u003e\n  \u003cthead\u003e\n    \u003ctr style=\"text-align: right;\"\u003e\n      \u003cth\u003e\u003c/th\u003e\n      \u003cth\u003ename\u003c/th\u003e\n      \u003cth\u003eclub\u003c/th\u003e\n      \u003cth\u003eage\u003c/th\u003e\n      \u003cth\u003eposition\u003c/th\u003e\n      \u003cth\u003eposition_cat\u003c/th\u003e\n      \u003cth\u003emarket_value\u003c/th\u003e\n      \u003cth\u003epage_views\u003c/th\u003e\n      \u003cth\u003efpl_points\u003c/th\u003e\n      \u003cth\u003eregion\u003c/th\u003e\n      \u003cth\u003enationality\u003c/th\u003e\n      \u003cth\u003enew_foreign\u003c/th\u003e\n      \u003cth\u003eclub_id\u003c/th\u003e\n      \u003cth\u003enew_signing\u003c/th\u003e\n      \u003cth\u003ebig_club\u003c/th\u003e\n    \u003c/tr\u003e\n  \u003c/thead\u003e\n  \u003ctbody\u003e\n    \u003ctr\u003e\n      \u003cth\u003e0\u003c/th\u003e\n      \u003ctd\u003eAlexis Sanchez\u003c/td\u003e\n      \u003ctd\u003eArsenal\u003c/td\u003e\n      \u003ctd\u003e28\u003c/td\u003e\n      \u003ctd\u003eLW\u003c/td\u003e\n      \u003ctd\u003e1\u003c/td\u003e\n      \u003ctd\u003e65.0\u003c/td\u003e\n      \u003ctd\u003e4329\u003c/td\u003e\n      \u003ctd\u003e264\u003c/td\u003e\n      \u003ctd\u003e3\u003c/td\u003e\n      \u003ctd\u003eChile\u003c/td\u003e\n      \u003ctd\u003e0\u003c/td\u003e\n      \u003ctd\u003e1\u003c/td\u003e\n      \u003ctd\u003e0\u003c/td\u003e\n      \u003ctd\u003e1\u003c/td\u003e\n    \u003c/tr\u003e\n    \u003ctr\u003e\n      \u003cth\u003e1\u003c/th\u003e\n      \u003ctd\u003eMesut Ozil\u003c/td\u003e\n      \u003ctd\u003eArsenal\u003c/td\u003e\n      \u003ctd\u003e28\u003c/td\u003e\n      \u003ctd\u003eAM\u003c/td\u003e\n      \u003ctd\u003e1\u003c/td\u003e\n      \u003ctd\u003e50.0\u003c/td\u003e\n      \u003ctd\u003e4395\u003c/td\u003e\n      \u003ctd\u003e167\u003c/td\u003e\n      \u003ctd\u003e2\u003c/td\u003e\n      \u003ctd\u003eGermany\u003c/td\u003e\n      \u003ctd\u003e0\u003c/td\u003e\n      \u003ctd\u003e1\u003c/td\u003e\n      \u003ctd\u003e0\u003c/td\u003e\n      \u003ctd\u003e1\u003c/td\u003e\n    \u003c/tr\u003e\n  \u003c/tbody\u003e\n\u003c/table\u003e\n\u003c/div\u003e",
                        "text/plain": "             name     club  age position  position_cat  market_value  \\\n0  Alexis Sanchez  Arsenal   28       LW             1          65.0   \n1      Mesut Ozil  Arsenal   28       AM             1          50.0   \n\n   page_views  fpl_points  region nationality  new_foreign  club_id  \\\n0        4329         264       3       Chile            0        1   \n1        4395         167       2     Germany            0        1   \n\n   new_signing  big_club  \n0            0         1  \n1            0         1  "
                    },
                    "execution_count": 15,
                    "metadata": {},
                    "output_type": "execute_result"
                }
            ],
            "source": [
                "# check\n",
                "league_df.head(2)"
            ]
        },
        {
            "attachments": {},
            "cell_type": "markdown",
            "metadata": {},
            "source": [
                "### Does being in a big club affect market value?"
            ]
        },
        {
            "cell_type": "code",
            "execution_count": 16,
            "metadata": {},
            "outputs": [
                {
                    "data": {
                        "image/png": "[encoded data removed]",
                        "text/plain": "\u003cFigure size 640x480 with 1 Axes\u003e"
                    },
                    "metadata": {},
                    "output_type": "display_data"
                }
            ],
            "source": [
                "ax = league_df.groupby(['big_club']).market_value.mean()\\\n",
                "              .plot(kind='bar', alpha=0.8)\n",
                "ax.set_xlabel('big club', fontsize=12)\n",
                "ax.set_ylabel(r'market value (pounds)', fontsize=12)\n",
                "ax.set_xticklabels(['not', 'yes'], #ax.get_xticklabels(), \n",
                "                   horizontalalignment=\"right\",\n",
                "                   fontsize=12, rotation=30)\n",
                "\n",
                "ax.set_title('Does belonging to a big club affect market value?', fontsize=12)\n",
                "ax.grid(\":\", alpha=0.4)\n",
                "\n",
                "plt.tight_layout()"
            ]
        },
        {
            "cell_type": "code",
            "execution_count": 17,
            "metadata": {},
            "outputs": [],
            "source": [
                "# do not forget to add 'big_club' to our features\n",
                "# remove\n",
                "categorical_cols = ['position_cat', 'new_signing', 'big_club', 'region'] \n",
                "numerical_cols = ['page_views', 'fpl_points', 'age'] "
            ]
        },
        {
            "cell_type": "code",
            "execution_count": 18,
            "metadata": {},
            "outputs": [],
            "source": [
                "# (optional) cast categorical variables as pandas type `category`\n",
                "cat_type = CategoricalDtype(ordered=False)\n",
                "for var in categorical_cols:\n",
                "    league_df[var] = league_df[var].astype(cat_type)"
            ]
        },
        {
            "attachments": {},
            "cell_type": "markdown",
            "metadata": {},
            "source": [
                "\u003cdiv class=\"alert alert-success\"\u003e\n",
                "    \u003cstrong\u003e🏋🏻‍♂️ TEAM ACTIVITY 2 : \u003c/strong\u003e Practice stratified train-test split. Stratify by `region`.\u003c/div\u003e  "
            ]
        },
        {
            "attachments": {},
            "cell_type": "markdown",
            "metadata": {},
            "source": [
                "![test](fig/val.jpg) "
            ]
        },
        {
            "attachments": {},
            "cell_type": "markdown",
            "metadata": {},
            "source": [
                " #### Train-test split (with stratification)\n",
                "\n",
                "We want to split before we do any EDA since, ideally, we do not want our test set to influence our design decisions. \n",
                "\n",
                "Also, we want to make sure that the training and test data have appropriate representation of certain variables; it would be bad for the training data or the test data to entirely miss a region, for example. This is especially important when some features are underrepresented (our data is **imbalanced**). To see the numbers in each category:\n",
                "\n",
                "```\n",
                "print(league_df['region'].value_counts().sort_index())\n",
                "```\n",
                "\n",
                "Use the `train_test_split` function and its `stratify` argument to split the data.\n",
                "```\n",
                "train and test subsets = sklearn.model_selection.train_test_split(*arrays, test_size=None, train_size=None, random_state=None, shuffle=True, stratify=None)\n",
                "```\n",
                "To stratify, we set the parameter `stratify` = league_df[region]\n",
                "\n",
                "https://scikit-learn.org/stable/modules/generated/sklearn.model_selection.train_test_split.html\n",
                "\n",
                "Note: This will not work if the dataset contains missing data."
            ]
        },
        {
            "cell_type": "code",
            "execution_count": 19,
            "metadata": {},
            "outputs": [
                {
                    "data": {
                        "text/plain": "1    154\n3    152\n2    112\n4     42\nName: position_cat, dtype: int64"
                    },
                    "execution_count": 19,
                    "metadata": {},
                    "output_type": "execute_result"
                }
            ],
            "source": [
                "# remove\n",
                "league_df['position_cat'].value_counts()"
            ]
        },
        {
            "attachments": {},
            "cell_type": "markdown",
            "metadata": {},
            "source": [
                "#### Designate response variable"
            ]
        },
        {
            "cell_type": "code",
            "execution_count": 20,
            "metadata": {},
            "outputs": [],
            "source": [
                "# remove\n",
                "response = 'market_value'\n",
                "y = league_df[response]"
            ]
        },
        {
            "cell_type": "code",
            "execution_count": 21,
            "metadata": {
                "scrolled": true
            },
            "outputs": [
                {
                    "data": {
                        "text/plain": "((368, 14), (92, 14), (368,), (92,))"
                    },
                    "execution_count": 21,
                    "metadata": {},
                    "output_type": "execute_result"
                }
            ],
            "source": [
                "# remove\n",
                "seed = 42\n",
                "train_data, test_data, y_train, y_test = train_test_split(\n",
                "                                            league_df, y, \n",
                "                                            random_state=seed,\n",
                "                                            stratify=league_df['region'],                                          \n",
                "                                            test_size = 0.2, \n",
                "                                            )\n",
                "\n",
                "train_data.shape, test_data.shape, y_train.shape, y_test.shape"
            ]
        },
        {
            "cell_type": "code",
            "execution_count": 22,
            "metadata": {},
            "outputs": [
                {
                    "data": {
                        "text/html": "\u003cdiv\u003e\n\u003cstyle scoped\u003e\n    .dataframe tbody tr th:only-of-type {\n        vertical-align: middle;\n    }\n\n    .dataframe tbody tr th {\n        vertical-align: top;\n    }\n\n    .dataframe thead th {\n        text-align: right;\n    }\n\u003c/style\u003e\n\u003ctable border=\"1\" class=\"dataframe\"\u003e\n  \u003cthead\u003e\n    \u003ctr style=\"text-align: right;\"\u003e\n      \u003cth\u003e\u003c/th\u003e\n      \u003cth\u003ename\u003c/th\u003e\n      \u003cth\u003eclub\u003c/th\u003e\n      \u003cth\u003eage\u003c/th\u003e\n      \u003cth\u003eposition\u003c/th\u003e\n      \u003cth\u003eposition_cat\u003c/th\u003e\n      \u003cth\u003emarket_value\u003c/th\u003e\n      \u003cth\u003epage_views\u003c/th\u003e\n      \u003cth\u003efpl_points\u003c/th\u003e\n      \u003cth\u003eregion\u003c/th\u003e\n      \u003cth\u003enationality\u003c/th\u003e\n      \u003cth\u003enew_foreign\u003c/th\u003e\n      \u003cth\u003eclub_id\u003c/th\u003e\n      \u003cth\u003enew_signing\u003c/th\u003e\n      \u003cth\u003ebig_club\u003c/th\u003e\n    \u003c/tr\u003e\n  \u003c/thead\u003e\n  \u003ctbody\u003e\n    \u003ctr\u003e\n      \u003cth\u003e228\u003c/th\u003e\n      \u003ctd\u003eMamadou Sakho\u003c/td\u003e\n      \u003ctd\u003eLiverpool\u003c/td\u003e\n      \u003ctd\u003e27\u003c/td\u003e\n      \u003ctd\u003eCB\u003c/td\u003e\n      \u003ctd\u003e3\u003c/td\u003e\n      \u003ctd\u003e15.0\u003c/td\u003e\n      \u003ctd\u003e934\u003c/td\u003e\n      \u003ctd\u003e35\u003c/td\u003e\n      \u003ctd\u003e2\u003c/td\u003e\n      \u003ctd\u003eFrance\u003c/td\u003e\n      \u003ctd\u003e0\u003c/td\u003e\n      \u003ctd\u003e10\u003c/td\u003e\n      \u003ctd\u003e0\u003c/td\u003e\n      \u003ctd\u003e1\u003c/td\u003e\n    \u003c/tr\u003e\n    \u003ctr\u003e\n      \u003cth\u003e286\u003c/th\u003e\n      \u003ctd\u003eDeAndre Yedlin\u003c/td\u003e\n      \u003ctd\u003eNewcastle+United\u003c/td\u003e\n      \u003ctd\u003e24\u003c/td\u003e\n      \u003ctd\u003eRB\u003c/td\u003e\n      \u003ctd\u003e3\u003c/td\u003e\n      \u003ctd\u003e5.0\u003c/td\u003e\n      \u003ctd\u003e764\u003c/td\u003e\n      \u003ctd\u003e0\u003c/td\u003e\n      \u003ctd\u003e3\u003c/td\u003e\n      \u003ctd\u003eUnited States\u003c/td\u003e\n      \u003ctd\u003e0\u003c/td\u003e\n      \u003ctd\u003e13\u003c/td\u003e\n      \u003ctd\u003e0\u003c/td\u003e\n      \u003ctd\u003e0\u003c/td\u003e\n    \u003c/tr\u003e\n  \u003c/tbody\u003e\n\u003c/table\u003e\n\u003c/div\u003e",
                        "text/plain": "               name              club  age position position_cat  \\\n228   Mamadou Sakho         Liverpool   27       CB            3   \n286  DeAndre Yedlin  Newcastle+United   24       RB            3   \n\n     market_value  page_views  fpl_points region    nationality  new_foreign  \\\n228          15.0         934          35      2         France            0   \n286           5.0         764           0      3  United States            0   \n\n     club_id new_signing big_club  \n228       10           0        1  \n286       13           0        0  "
                    },
                    "execution_count": 22,
                    "metadata": {},
                    "output_type": "execute_result"
                }
            ],
            "source": [
                "# check\n",
                "train_data.head(2)"
            ]
        },
        {
            "cell_type": "code",
            "execution_count": 23,
            "metadata": {},
            "outputs": [
                {
                    "data": {
                        "text/html": "\u003cdiv\u003e\n\u003cstyle scoped\u003e\n    .dataframe tbody tr th:only-of-type {\n        vertical-align: middle;\n    }\n\n    .dataframe tbody tr th {\n        vertical-align: top;\n    }\n\n    .dataframe thead th {\n        text-align: right;\n    }\n\u003c/style\u003e\n\u003ctable border=\"1\" class=\"dataframe\"\u003e\n  \u003cthead\u003e\n    \u003ctr style=\"text-align: right;\"\u003e\n      \u003cth\u003e\u003c/th\u003e\n      \u003cth\u003ename\u003c/th\u003e\n      \u003cth\u003eclub\u003c/th\u003e\n      \u003cth\u003eage\u003c/th\u003e\n      \u003cth\u003eposition\u003c/th\u003e\n      \u003cth\u003eposition_cat\u003c/th\u003e\n      \u003cth\u003emarket_value\u003c/th\u003e\n      \u003cth\u003epage_views\u003c/th\u003e\n      \u003cth\u003efpl_points\u003c/th\u003e\n      \u003cth\u003eregion\u003c/th\u003e\n      \u003cth\u003enationality\u003c/th\u003e\n      \u003cth\u003enew_foreign\u003c/th\u003e\n      \u003cth\u003eclub_id\u003c/th\u003e\n      \u003cth\u003enew_signing\u003c/th\u003e\n      \u003cth\u003ebig_club\u003c/th\u003e\n    \u003c/tr\u003e\n  \u003c/thead\u003e\n  \u003ctbody\u003e\n    \u003ctr\u003e\n      \u003cth\u003e438\u003c/th\u003e\n      \u003ctd\u003eRobert Snodgrass\u003c/td\u003e\n      \u003ctd\u003eWest+Ham\u003c/td\u003e\n      \u003ctd\u003e29\u003c/td\u003e\n      \u003ctd\u003eRW\u003c/td\u003e\n      \u003ctd\u003e1\u003c/td\u003e\n      \u003ctd\u003e8.0\u003c/td\u003e\n      \u003ctd\u003e1210\u003c/td\u003e\n      \u003ctd\u003e133\u003c/td\u003e\n      \u003ctd\u003e2\u003c/td\u003e\n      \u003ctd\u003eScotland\u003c/td\u003e\n      \u003ctd\u003e0\u003c/td\u003e\n      \u003ctd\u003e20\u003c/td\u003e\n      \u003ctd\u003e0\u003c/td\u003e\n      \u003ctd\u003e0\u003c/td\u003e\n    \u003c/tr\u003e\n    \u003ctr\u003e\n      \u003cth\u003e303\u003c/th\u003e\n      \u003ctd\u003eAleksandar Mitrovic\u003c/td\u003e\n      \u003ctd\u003eNewcastle+United\u003c/td\u003e\n      \u003ctd\u003e22\u003c/td\u003e\n      \u003ctd\u003eCF\u003c/td\u003e\n      \u003ctd\u003e1\u003c/td\u003e\n      \u003ctd\u003e10.0\u003c/td\u003e\n      \u003ctd\u003e781\u003c/td\u003e\n      \u003ctd\u003e0\u003c/td\u003e\n      \u003ctd\u003e2\u003c/td\u003e\n      \u003ctd\u003eSerbia\u003c/td\u003e\n      \u003ctd\u003e0\u003c/td\u003e\n      \u003ctd\u003e13\u003c/td\u003e\n      \u003ctd\u003e0\u003c/td\u003e\n      \u003ctd\u003e0\u003c/td\u003e\n    \u003c/tr\u003e\n  \u003c/tbody\u003e\n\u003c/table\u003e\n\u003c/div\u003e",
                        "text/plain": "                    name              club  age position position_cat  \\\n438     Robert Snodgrass          West+Ham   29       RW            1   \n303  Aleksandar Mitrovic  Newcastle+United   22       CF            1   \n\n     market_value  page_views  fpl_points region nationality  new_foreign  \\\n438           8.0        1210         133      2    Scotland            0   \n303          10.0         781           0      2      Serbia            0   \n\n     club_id new_signing big_club  \n438       20           0        0  \n303       13           0        0  "
                    },
                    "execution_count": 23,
                    "metadata": {},
                    "output_type": "execute_result"
                }
            ],
            "source": [
                "# check\n",
                "test_data.head(2)"
            ]
        },
        {
            "attachments": {},
            "cell_type": "markdown",
            "metadata": {},
            "source": [
                "\u003ca id=engine\u003e\u003c/a\u003e  [Top](#top)\n",
                "## 2 - Feature Engineering"
            ]
        },
        {
            "attachments": {},
            "cell_type": "markdown",
            "metadata": {},
            "source": [
                "#### Be careful! We want to work with only the features we chose! \n",
                "\n",
                "Notice the addition of `[cols]` when using the DataFrame.\n",
                "```\n",
                "train_data[cols]\n",
                "```"
            ]
        },
        {
            "cell_type": "code",
            "execution_count": 24,
            "metadata": {},
            "outputs": [
                {
                    "data": {
                        "text/plain": "((368, 7), (92, 7), (368,), (92,))"
                    },
                    "execution_count": 24,
                    "metadata": {},
                    "output_type": "execute_result"
                }
            ],
            "source": [
                "cols = categorical_cols + numerical_cols\n",
                "\n",
                "X_train = train_data[cols].copy()\n",
                "X_test = test_data[cols].copy()\n",
                "\n",
                "X_train.shape, X_test.shape, y_train.shape, y_test.shape"
            ]
        },
        {
            "attachments": {},
            "cell_type": "markdown",
            "metadata": {},
            "source": [
                "### Transform categorical variables "
            ]
        },
        {
            "attachments": {},
            "cell_type": "markdown",
            "metadata": {},
            "source": [
                "We will use sklearn's `OneHotEncoder()` for converting categorical variables (ordinal and non-ordinal ) to one-hot encoded ones.\n",
                "\n",
                "By default, it keeps all one-hot created columns. It has a fine-grained drop mechanism, can drop only binary variables, or the first in the list of categories).\n",
                "\n",
                "```\n",
                "drop{‘first’, ‘if_binary’}, default=None\n",
                "```\n",
                "\n",
                "It also has a mechanism for handling the presence of unknown categories in the test set. \n",
                "```\n",
                "handle_unknown{‘error’, ‘ignore’}, default=’error’\n",
                "```"
            ]
        },
        {
            "cell_type": "code",
            "execution_count": 25,
            "metadata": {},
            "outputs": [
                {
                    "name": "stdout",
                    "output_type": "stream",
                    "text": "Categorical non-ordinal: ['position_cat', 'new_signing', 'big_club', 'region']\nNumerical: ['page_views', 'fpl_points', 'age']\n"
                }
            ],
            "source": [
                "print(f'Categorical non-ordinal: {categorical_cols}')\n",
                "print(f'Numerical: {numerical_cols}')"
            ]
        },
        {
            "cell_type": "code",
            "execution_count": 26,
            "metadata": {},
            "outputs": [],
            "source": [
                "drop_strategy = 'first'\n",
                "unknown_strategy = 'ignore'"
            ]
        },
        {
            "cell_type": "code",
            "execution_count": 27,
            "metadata": {
                "scrolled": true
            },
            "outputs": [
                {
                    "name": "stderr",
                    "output_type": "stream",
                    "text": "/usr/lib/python3.11/site-packages/sklearn/preprocessing/_encoders.py:972: FutureWarning: `sparse` was renamed to `sparse_output` in version 1.2 and will be removed in 1.4. `sparse_output` is ignored unless you leave `sparse` to its default value.\n  warnings.warn(\n"
                },
                {
                    "data": {
                        "text/plain": "numpy.ndarray"
                    },
                    "execution_count": 27,
                    "metadata": {},
                    "output_type": "execute_result"
                }
            ],
            "source": [
                "from sklearn.preprocessing import OneHotEncoder\n",
                "# remove\n",
                "ohe = OneHotEncoder(drop=drop_strategy, \n",
                "                    sparse=False, \n",
                "                    handle_unknown=unknown_strategy) \n",
                "ohe_train = ohe.fit_transform(X_train[categorical_cols])\n",
                "type(ohe_train)"
            ]
        },
        {
            "cell_type": "code",
            "execution_count": 28,
            "metadata": {},
            "outputs": [
                {
                    "data": {
                        "text/plain": "((368, 8), (368, 4))"
                    },
                    "execution_count": 28,
                    "metadata": {},
                    "output_type": "execute_result"
                }
            ],
            "source": [
                "ohe_train.shape, X_train[categorical_cols].shape"
            ]
        },
        {
            "cell_type": "code",
            "execution_count": 29,
            "metadata": {},
            "outputs": [
                {
                    "data": {
                        "text/plain": "array(['position_cat_2', 'position_cat_3', 'position_cat_4',\n       'new_signing_1', 'big_club_1', 'region_2', 'region_3', 'region_4'],\n      dtype=object)"
                    },
                    "execution_count": 29,
                    "metadata": {},
                    "output_type": "execute_result"
                }
            ],
            "source": [
                "# get the names of the newly created variables\n",
                "ohe.get_feature_names_out()"
            ]
        },
        {
            "cell_type": "code",
            "execution_count": 30,
            "metadata": {},
            "outputs": [
                {
                    "data": {
                        "text/html": "\u003cdiv\u003e\n\u003cstyle scoped\u003e\n    .dataframe tbody tr th:only-of-type {\n        vertical-align: middle;\n    }\n\n    .dataframe tbody tr th {\n        vertical-align: top;\n    }\n\n    .dataframe thead th {\n        text-align: right;\n    }\n\u003c/style\u003e\n\u003ctable border=\"1\" class=\"dataframe\"\u003e\n  \u003cthead\u003e\n    \u003ctr style=\"text-align: right;\"\u003e\n      \u003cth\u003e\u003c/th\u003e\n      \u003cth\u003eposition_cat_2\u003c/th\u003e\n      \u003cth\u003eposition_cat_3\u003c/th\u003e\n      \u003cth\u003eposition_cat_4\u003c/th\u003e\n      \u003cth\u003enew_signing_1\u003c/th\u003e\n      \u003cth\u003ebig_club_1\u003c/th\u003e\n      \u003cth\u003eregion_2\u003c/th\u003e\n      \u003cth\u003eregion_3\u003c/th\u003e\n      \u003cth\u003eregion_4\u003c/th\u003e\n    \u003c/tr\u003e\n  \u003c/thead\u003e\n  \u003ctbody\u003e\n    \u003ctr\u003e\n      \u003cth\u003e0\u003c/th\u003e\n      \u003ctd\u003e0.0\u003c/td\u003e\n      \u003ctd\u003e1.0\u003c/td\u003e\n      \u003ctd\u003e0.0\u003c/td\u003e\n      \u003ctd\u003e0.0\u003c/td\u003e\n      \u003ctd\u003e1.0\u003c/td\u003e\n      \u003ctd\u003e1.0\u003c/td\u003e\n      \u003ctd\u003e0.0\u003c/td\u003e\n      \u003ctd\u003e0.0\u003c/td\u003e\n    \u003c/tr\u003e\n    \u003ctr\u003e\n      \u003cth\u003e1\u003c/th\u003e\n      \u003ctd\u003e0.0\u003c/td\u003e\n      \u003ctd\u003e1.0\u003c/td\u003e\n      \u003ctd\u003e0.0\u003c/td\u003e\n      \u003ctd\u003e0.0\u003c/td\u003e\n      \u003ctd\u003e0.0\u003c/td\u003e\n      \u003ctd\u003e0.0\u003c/td\u003e\n      \u003ctd\u003e1.0\u003c/td\u003e\n      \u003ctd\u003e0.0\u003c/td\u003e\n    \u003c/tr\u003e\n  \u003c/tbody\u003e\n\u003c/table\u003e\n\u003c/div\u003e",
                        "text/plain": "   position_cat_2  position_cat_3  position_cat_4  new_signing_1  big_club_1  \\\n0             0.0             1.0             0.0            0.0         1.0   \n1             0.0             1.0             0.0            0.0         0.0   \n\n   region_2  region_3  region_4  \n0       1.0       0.0       0.0  \n1       0.0       1.0       0.0  "
                    },
                    "execution_count": 30,
                    "metadata": {},
                    "output_type": "execute_result"
                }
            ],
            "source": [
                "# make into Dataframe\n",
                "ohe_train_df = pd.DataFrame(ohe_train, columns=ohe.get_feature_names_out())\n",
                "ohe_train_df.head(2)"
            ]
        },
        {
            "attachments": {},
            "cell_type": "markdown",
            "metadata": {},
            "source": [
                "#### Do not forget to `transform()` the test set; "
            ]
        },
        {
            "cell_type": "code",
            "execution_count": 31,
            "metadata": {
                "scrolled": true
            },
            "outputs": [
                {
                    "data": {
                        "text/html": "\u003cdiv\u003e\n\u003cstyle scoped\u003e\n    .dataframe tbody tr th:only-of-type {\n        vertical-align: middle;\n    }\n\n    .dataframe tbody tr th {\n        vertical-align: top;\n    }\n\n    .dataframe thead th {\n        text-align: right;\n    }\n\u003c/style\u003e\n\u003ctable border=\"1\" class=\"dataframe\"\u003e\n  \u003cthead\u003e\n    \u003ctr style=\"text-align: right;\"\u003e\n      \u003cth\u003e\u003c/th\u003e\n      \u003cth\u003eposition_cat_2\u003c/th\u003e\n      \u003cth\u003eposition_cat_3\u003c/th\u003e\n      \u003cth\u003eposition_cat_4\u003c/th\u003e\n      \u003cth\u003enew_signing_1\u003c/th\u003e\n      \u003cth\u003ebig_club_1\u003c/th\u003e\n      \u003cth\u003eregion_2\u003c/th\u003e\n      \u003cth\u003eregion_3\u003c/th\u003e\n      \u003cth\u003eregion_4\u003c/th\u003e\n    \u003c/tr\u003e\n  \u003c/thead\u003e\n  \u003ctbody\u003e\n    \u003ctr\u003e\n      \u003cth\u003e0\u003c/th\u003e\n      \u003ctd\u003e0.0\u003c/td\u003e\n      \u003ctd\u003e0.0\u003c/td\u003e\n      \u003ctd\u003e0.0\u003c/td\u003e\n      \u003ctd\u003e0.0\u003c/td\u003e\n      \u003ctd\u003e0.0\u003c/td\u003e\n      \u003ctd\u003e1.0\u003c/td\u003e\n      \u003ctd\u003e0.0\u003c/td\u003e\n      \u003ctd\u003e0.0\u003c/td\u003e\n    \u003c/tr\u003e\n    \u003ctr\u003e\n      \u003cth\u003e1\u003c/th\u003e\n      \u003ctd\u003e0.0\u003c/td\u003e\n      \u003ctd\u003e0.0\u003c/td\u003e\n      \u003ctd\u003e0.0\u003c/td\u003e\n      \u003ctd\u003e0.0\u003c/td\u003e\n      \u003ctd\u003e0.0\u003c/td\u003e\n      \u003ctd\u003e1.0\u003c/td\u003e\n      \u003ctd\u003e0.0\u003c/td\u003e\n      \u003ctd\u003e0.0\u003c/td\u003e\n    \u003c/tr\u003e\n  \u003c/tbody\u003e\n\u003c/table\u003e\n\u003c/div\u003e",
                        "text/plain": "   position_cat_2  position_cat_3  position_cat_4  new_signing_1  big_club_1  \\\n0             0.0             0.0             0.0            0.0         0.0   \n1             0.0             0.0             0.0            0.0         0.0   \n\n   region_2  region_3  region_4  \n0       1.0       0.0       0.0  \n1       1.0       0.0       0.0  "
                    },
                    "execution_count": 31,
                    "metadata": {},
                    "output_type": "execute_result"
                }
            ],
            "source": [
                "# remove\n",
                "ohe_test = ohe.transform(X_test[categorical_cols])\n",
                "ohe_test_df = pd.DataFrame(ohe_test, columns=ohe.get_feature_names_out())\n",
                "ohe_test_df.head(2)"
            ]
        },
        {
            "attachments": {},
            "cell_type": "markdown",
            "metadata": {},
            "source": [
                "**OK**, our categorical variables are one-hot encoded and ready in `ohe_train_df` and `ohe_test_df`"
            ]
        },
        {
            "attachments": {},
            "cell_type": "markdown",
            "metadata": {},
            "source": [
                "### Transform numerical variables \n",
                "\n",
                "We will use sklearn's `StandardScaler`"
            ]
        },
        {
            "cell_type": "code",
            "execution_count": 32,
            "metadata": {},
            "outputs": [],
            "source": [
                "# scaling\n",
                "from sklearn.preprocessing import StandardScaler"
            ]
        },
        {
            "cell_type": "code",
            "execution_count": 33,
            "metadata": {},
            "outputs": [
                {
                    "data": {
                        "text/plain": "array([[ 0.18607186, -0.42209325,  0.04328437],\n       [ 0.00761631, -1.09402021, -0.70337094],\n       [ 0.44745676, -1.09402021, -0.20560074],\n       ...,\n       [ 1.36282876, -0.71006194,  0.29216947],\n       [ 0.62381283, -1.09402021, -0.20560074],\n       [-0.36714035, -0.28770786, -0.20560074]])"
                    },
                    "execution_count": 33,
                    "metadata": {},
                    "output_type": "execute_result"
                }
            ],
            "source": [
                "scaler = StandardScaler()\n",
                "\n",
                "# scale train set with ONLY the numerical values\n",
                "# remove\n",
                "scaled_train = scaler.fit_transform(X_train[numerical_cols])\n",
                "scaled_train"
            ]
        },
        {
            "cell_type": "code",
            "execution_count": 34,
            "metadata": {},
            "outputs": [
                {
                    "data": {
                        "text/plain": "numpy.ndarray"
                    },
                    "execution_count": 34,
                    "metadata": {},
                    "output_type": "execute_result"
                }
            ],
            "source": [
                "# check\n",
                "type(scaled_train)"
            ]
        },
        {
            "cell_type": "code",
            "execution_count": 35,
            "metadata": {},
            "outputs": [
                {
                    "name": "stdout",
                    "output_type": "stream",
                    "text": "[756.74456522  56.98641304  26.82608696]\n"
                }
            ],
            "source": [
                "#The mean value for each feature in the training set\n",
                "print(scaler.mean_)"
            ]
        },
        {
            "cell_type": "code",
            "execution_count": 36,
            "metadata": {},
            "outputs": [],
            "source": [
                "# make into a Dataframe\n",
                "# remove\n",
                "scaled_train_df = pd.DataFrame(scaled_train, columns=numerical_cols)"
            ]
        },
        {
            "cell_type": "code",
            "execution_count": 37,
            "metadata": {},
            "outputs": [],
            "source": [
                "# scale test set and make into a Dataframe\n",
                "# remove\n",
                "scaled_test = scaler.transform(X_test[numerical_cols]);\n",
                "scaled_test_df = pd.DataFrame(scaled_test, columns=numerical_cols);"
            ]
        },
        {
            "cell_type": "code",
            "execution_count": 38,
            "metadata": {},
            "outputs": [
                {
                    "data": {
                        "text/html": "\u003cdiv\u003e\n\u003cstyle scoped\u003e\n    .dataframe tbody tr th:only-of-type {\n        vertical-align: middle;\n    }\n\n    .dataframe tbody tr th {\n        vertical-align: top;\n    }\n\n    .dataframe thead th {\n        text-align: right;\n    }\n\u003c/style\u003e\n\u003ctable border=\"1\" class=\"dataframe\"\u003e\n  \u003cthead\u003e\n    \u003ctr style=\"text-align: right;\"\u003e\n      \u003cth\u003e\u003c/th\u003e\n      \u003cth\u003epage_views\u003c/th\u003e\n      \u003cth\u003efpl_points\u003c/th\u003e\n      \u003cth\u003eage\u003c/th\u003e\n    \u003c/tr\u003e\n  \u003c/thead\u003e\n  \u003ctbody\u003e\n    \u003ctr\u003e\n      \u003cth\u003e0\u003c/th\u003e\n      \u003ctd\u003e0.186072\u003c/td\u003e\n      \u003ctd\u003e-0.422093\u003c/td\u003e\n      \u003ctd\u003e0.043284\u003c/td\u003e\n    \u003c/tr\u003e\n    \u003ctr\u003e\n      \u003cth\u003e1\u003c/th\u003e\n      \u003ctd\u003e0.007616\u003c/td\u003e\n      \u003ctd\u003e-1.094020\u003c/td\u003e\n      \u003ctd\u003e-0.703371\u003c/td\u003e\n    \u003c/tr\u003e\n    \u003ctr\u003e\n      \u003cth\u003e2\u003c/th\u003e\n      \u003ctd\u003e0.447457\u003c/td\u003e\n      \u003ctd\u003e-1.094020\u003c/td\u003e\n      \u003ctd\u003e-0.205601\u003c/td\u003e\n    \u003c/tr\u003e\n    \u003ctr\u003e\n      \u003cth\u003e3\u003c/th\u003e\n      \u003ctd\u003e-0.265316\u003c/td\u003e\n      \u003ctd\u003e-0.402895\u003c/td\u003e\n      \u003ctd\u003e-1.450026\u003c/td\u003e\n    \u003c/tr\u003e\n    \u003ctr\u003e\n      \u003cth\u003e4\u003c/th\u003e\n      \u003ctd\u003e-0.260067\u003c/td\u003e\n      \u003ctd\u003e0.710584\u003c/td\u003e\n      \u003ctd\u003e-0.952256\u003c/td\u003e\n    \u003c/tr\u003e\n  \u003c/tbody\u003e\n\u003c/table\u003e\n\u003c/div\u003e",
                        "text/plain": "   page_views  fpl_points       age\n0    0.186072   -0.422093  0.043284\n1    0.007616   -1.094020 -0.703371\n2    0.447457   -1.094020 -0.205601\n3   -0.265316   -0.402895 -1.450026\n4   -0.260067    0.710584 -0.952256"
                    },
                    "execution_count": 38,
                    "metadata": {},
                    "output_type": "execute_result"
                }
            ],
            "source": [
                "# check\n",
                "scaled_train_df.head()"
            ]
        },
        {
            "cell_type": "code",
            "execution_count": 39,
            "metadata": {},
            "outputs": [
                {
                    "data": {
                        "text/html": "\u003cdiv\u003e\n\u003cstyle scoped\u003e\n    .dataframe tbody tr th:only-of-type {\n        vertical-align: middle;\n    }\n\n    .dataframe tbody tr th {\n        vertical-align: top;\n    }\n\n    .dataframe thead th {\n        text-align: right;\n    }\n\u003c/style\u003e\n\u003ctable border=\"1\" class=\"dataframe\"\u003e\n  \u003cthead\u003e\n    \u003ctr style=\"text-align: right;\"\u003e\n      \u003cth\u003e\u003c/th\u003e\n      \u003cth\u003epage_views\u003c/th\u003e\n      \u003cth\u003efpl_points\u003c/th\u003e\n      \u003cth\u003eage\u003c/th\u003e\n    \u003c/tr\u003e\n  \u003c/thead\u003e\n  \u003ctbody\u003e\n    \u003ctr\u003e\n      \u003cth\u003ecount\u003c/th\u003e\n      \u003ctd\u003e3.680000e+02\u003c/td\u003e\n      \u003ctd\u003e3.680000e+02\u003c/td\u003e\n      \u003ctd\u003e3.680000e+02\u003c/td\u003e\n    \u003c/tr\u003e\n    \u003ctr\u003e\n      \u003cth\u003emean\u003c/th\u003e\n      \u003ctd\u003e5.792468e-17\u003c/td\u003e\n      \u003ctd\u003e7.723291e-17\u003c/td\u003e\n      \u003ctd\u003e2.111837e-16\u003c/td\u003e\n    \u003c/tr\u003e\n    \u003ctr\u003e\n      \u003cth\u003estd\u003c/th\u003e\n      \u003ctd\u003e1.001361e+00\u003c/td\u003e\n      \u003ctd\u003e1.001361e+00\u003c/td\u003e\n      \u003ctd\u003e1.001361e+00\u003c/td\u003e\n    \u003c/tr\u003e\n  \u003c/tbody\u003e\n\u003c/table\u003e\n\u003c/div\u003e",
                        "text/plain": "         page_views    fpl_points           age\ncount  3.680000e+02  3.680000e+02  3.680000e+02\nmean   5.792468e-17  7.723291e-17  2.111837e-16\nstd    1.001361e+00  1.001361e+00  1.001361e+00"
                    },
                    "execution_count": 39,
                    "metadata": {},
                    "output_type": "execute_result"
                }
            ],
            "source": [
                "scaled_train_df.describe().head(3)"
            ]
        },
        {
            "cell_type": "code",
            "execution_count": 40,
            "metadata": {
                "scrolled": true
            },
            "outputs": [
                {
                    "data": {
                        "text/html": "\u003cdiv\u003e\n\u003cstyle scoped\u003e\n    .dataframe tbody tr th:only-of-type {\n        vertical-align: middle;\n    }\n\n    .dataframe tbody tr th {\n        vertical-align: top;\n    }\n\n    .dataframe thead th {\n        text-align: right;\n    }\n\u003c/style\u003e\n\u003ctable border=\"1\" class=\"dataframe\"\u003e\n  \u003cthead\u003e\n    \u003ctr style=\"text-align: right;\"\u003e\n      \u003cth\u003e\u003c/th\u003e\n      \u003cth\u003epage_views\u003c/th\u003e\n      \u003cth\u003efpl_points\u003c/th\u003e\n      \u003cth\u003eage\u003c/th\u003e\n    \u003c/tr\u003e\n  \u003c/thead\u003e\n  \u003ctbody\u003e\n    \u003ctr\u003e\n      \u003cth\u003ecount\u003c/th\u003e\n      \u003ctd\u003e92.000000\u003c/td\u003e\n      \u003ctd\u003e92.000000\u003c/td\u003e\n      \u003ctd\u003e92.000000\u003c/td\u003e\n    \u003c/tr\u003e\n    \u003ctr\u003e\n      \u003cth\u003emean\u003c/th\u003e\n      \u003ctd\u003e0.041231\u003c/td\u003e\n      \u003ctd\u003e0.033649\u003c/td\u003e\n      \u003ctd\u003e-0.018937\u003c/td\u003e\n    \u003c/tr\u003e\n    \u003ctr\u003e\n      \u003cth\u003estd\u003c/th\u003e\n      \u003ctd\u003e0.888487\u003c/td\u003e\n      \u003ctd\u003e1.100229\u003c/td\u003e\n      \u003ctd\u003e0.930237\u003c/td\u003e\n    \u003c/tr\u003e\n  \u003c/tbody\u003e\n\u003c/table\u003e\n\u003c/div\u003e",
                        "text/plain": "       page_views  fpl_points        age\ncount   92.000000   92.000000  92.000000\nmean     0.041231    0.033649  -0.018937\nstd      0.888487    1.100229   0.930237"
                    },
                    "execution_count": 40,
                    "metadata": {},
                    "output_type": "execute_result"
                }
            ],
            "source": [
                "scaled_test_df.describe().head(3)"
            ]
        },
        {
            "attachments": {},
            "cell_type": "markdown",
            "metadata": {},
            "source": [
                "**OK**, our numerical variables are scaled and ready in `scaled_train_df` and `scaled_test_df`"
            ]
        },
        {
            "attachments": {},
            "cell_type": "markdown",
            "metadata": {},
            "source": [
                "### Include Polynomial Features and Interaction Terms"
            ]
        },
        {
            "cell_type": "code",
            "execution_count": 41,
            "metadata": {},
            "outputs": [
                {
                    "data": {
                        "text/plain": "numpy.ndarray"
                    },
                    "execution_count": 41,
                    "metadata": {},
                    "output_type": "execute_result"
                }
            ],
            "source": [
                "poly_deg = 2\n",
                "include_bias = True  \n",
                "fit_intercept = False  \n",
                "\n",
                "# create the polynomial terms\n",
                "# remove\n",
                "poly = PolynomialFeatures(degree=poly_deg, \n",
                "                          interaction_only=False, # the default\n",
                "                          include_bias=include_bias)\n",
                "\n",
                "# Compute the polynomial features in train set\n",
                "# remember to use the scaled Dataframe\n",
                "poly_train = poly.fit_transform(scaled_train_df)\n",
                "\n",
                "# Compute the polynomial features in test set\n",
                "poly_test = poly.transform(scaled_test_df)\n",
                "type(poly_train)"
            ]
        },
        {
            "cell_type": "code",
            "execution_count": 42,
            "metadata": {},
            "outputs": [
                {
                    "data": {
                        "text/plain": "array(['1', 'page_views', 'fpl_points', 'age', 'page_views^2',\n       'page_views fpl_points', 'page_views age', 'fpl_points^2',\n       'fpl_points age', 'age^2'], dtype=object)"
                    },
                    "execution_count": 42,
                    "metadata": {},
                    "output_type": "execute_result"
                }
            ],
            "source": [
                "# get the names \n",
                "poly.get_feature_names_out()"
            ]
        },
        {
            "attachments": {},
            "cell_type": "markdown",
            "metadata": {},
            "source": [
                "We get interaction terms for free! Whether we want them or not."
            ]
        },
        {
            "cell_type": "code",
            "execution_count": 43,
            "metadata": {},
            "outputs": [
                {
                    "data": {
                        "text/html": "\u003cdiv\u003e\n\u003cstyle scoped\u003e\n    .dataframe tbody tr th:only-of-type {\n        vertical-align: middle;\n    }\n\n    .dataframe tbody tr th {\n        vertical-align: top;\n    }\n\n    .dataframe thead th {\n        text-align: right;\n    }\n\u003c/style\u003e\n\u003ctable border=\"1\" class=\"dataframe\"\u003e\n  \u003cthead\u003e\n    \u003ctr style=\"text-align: right;\"\u003e\n      \u003cth\u003e\u003c/th\u003e\n      \u003cth\u003e1\u003c/th\u003e\n      \u003cth\u003epage_views\u003c/th\u003e\n      \u003cth\u003efpl_points\u003c/th\u003e\n      \u003cth\u003eage\u003c/th\u003e\n      \u003cth\u003epage_views^2\u003c/th\u003e\n      \u003cth\u003epage_views fpl_points\u003c/th\u003e\n      \u003cth\u003epage_views age\u003c/th\u003e\n      \u003cth\u003efpl_points^2\u003c/th\u003e\n      \u003cth\u003efpl_points age\u003c/th\u003e\n      \u003cth\u003eage^2\u003c/th\u003e\n    \u003c/tr\u003e\n  \u003c/thead\u003e\n  \u003ctbody\u003e\n    \u003ctr\u003e\n      \u003cth\u003e0\u003c/th\u003e\n      \u003ctd\u003e1.0\u003c/td\u003e\n      \u003ctd\u003e0.186072\u003c/td\u003e\n      \u003ctd\u003e-0.422093\u003c/td\u003e\n      \u003ctd\u003e0.043284\u003c/td\u003e\n      \u003ctd\u003e0.034623\u003c/td\u003e\n      \u003ctd\u003e-0.078540\u003c/td\u003e\n      \u003ctd\u003e0.008054\u003c/td\u003e\n      \u003ctd\u003e0.178163\u003c/td\u003e\n      \u003ctd\u003e-0.018270\u003c/td\u003e\n      \u003ctd\u003e0.001874\u003c/td\u003e\n    \u003c/tr\u003e\n    \u003ctr\u003e\n      \u003cth\u003e1\u003c/th\u003e\n      \u003ctd\u003e1.0\u003c/td\u003e\n      \u003ctd\u003e0.007616\u003c/td\u003e\n      \u003ctd\u003e-1.094020\u003c/td\u003e\n      \u003ctd\u003e-0.703371\u003c/td\u003e\n      \u003ctd\u003e0.000058\u003c/td\u003e\n      \u003ctd\u003e-0.008332\u003c/td\u003e\n      \u003ctd\u003e-0.005357\u003c/td\u003e\n      \u003ctd\u003e1.196880\u003c/td\u003e\n      \u003ctd\u003e0.769502\u003c/td\u003e\n      \u003ctd\u003e0.494731\u003c/td\u003e\n    \u003c/tr\u003e\n  \u003c/tbody\u003e\n\u003c/table\u003e\n\u003c/div\u003e",
                        "text/plain": "     1  page_views  fpl_points       age  page_views^2  page_views fpl_points  \\\n0  1.0    0.186072   -0.422093  0.043284      0.034623              -0.078540   \n1  1.0    0.007616   -1.094020 -0.703371      0.000058              -0.008332   \n\n   page_views age  fpl_points^2  fpl_points age     age^2  \n0        0.008054      0.178163       -0.018270  0.001874  \n1       -0.005357      1.196880        0.769502  0.494731  "
                    },
                    "execution_count": 43,
                    "metadata": {},
                    "output_type": "execute_result"
                }
            ],
            "source": [
                "# make into DataFrame\n",
                "# remove\n",
                "poly_train_df = pd.DataFrame(poly_train, columns=poly.get_feature_names_out())\n",
                "poly_train_df.head(2)"
            ]
        },
        {
            "cell_type": "code",
            "execution_count": 44,
            "metadata": {},
            "outputs": [
                {
                    "data": {
                        "text/html": "\u003cdiv\u003e\n\u003cstyle scoped\u003e\n    .dataframe tbody tr th:only-of-type {\n        vertical-align: middle;\n    }\n\n    .dataframe tbody tr th {\n        vertical-align: top;\n    }\n\n    .dataframe thead th {\n        text-align: right;\n    }\n\u003c/style\u003e\n\u003ctable border=\"1\" class=\"dataframe\"\u003e\n  \u003cthead\u003e\n    \u003ctr style=\"text-align: right;\"\u003e\n      \u003cth\u003e\u003c/th\u003e\n      \u003cth\u003e1\u003c/th\u003e\n      \u003cth\u003epage_views\u003c/th\u003e\n      \u003cth\u003efpl_points\u003c/th\u003e\n      \u003cth\u003eage\u003c/th\u003e\n      \u003cth\u003epage_views^2\u003c/th\u003e\n      \u003cth\u003epage_views fpl_points\u003c/th\u003e\n      \u003cth\u003epage_views age\u003c/th\u003e\n      \u003cth\u003efpl_points^2\u003c/th\u003e\n      \u003cth\u003efpl_points age\u003c/th\u003e\n      \u003cth\u003eage^2\u003c/th\u003e\n    \u003c/tr\u003e\n  \u003c/thead\u003e\n  \u003ctbody\u003e\n    \u003ctr\u003e\n      \u003cth\u003e0\u003c/th\u003e\n      \u003ctd\u003e1.0\u003c/td\u003e\n      \u003ctd\u003e0.475800\u003c/td\u003e\n      \u003ctd\u003e1.459302\u003c/td\u003e\n      \u003ctd\u003e0.541055\u003c/td\u003e\n      \u003ctd\u003e0.226385\u003c/td\u003e\n      \u003ctd\u003e0.694336\u003c/td\u003e\n      \u003ctd\u003e0.257434\u003c/td\u003e\n      \u003ctd\u003e2.129563\u003c/td\u003e\n      \u003ctd\u003e0.789562\u003c/td\u003e\n      \u003ctd\u003e0.29274\u003c/td\u003e\n    \u003c/tr\u003e\n    \u003ctr\u003e\n      \u003cth\u003e1\u003c/th\u003e\n      \u003ctd\u003e1.0\u003c/td\u003e\n      \u003ctd\u003e0.025462\u003c/td\u003e\n      \u003ctd\u003e-1.094020\u003c/td\u003e\n      \u003ctd\u003e-1.201141\u003c/td\u003e\n      \u003ctd\u003e0.000648\u003c/td\u003e\n      \u003ctd\u003e-0.027856\u003c/td\u003e\n      \u003ctd\u003e-0.030583\u003c/td\u003e\n      \u003ctd\u003e1.196880\u003c/td\u003e\n      \u003ctd\u003e1.314073\u003c/td\u003e\n      \u003ctd\u003e1.44274\u003c/td\u003e\n    \u003c/tr\u003e\n  \u003c/tbody\u003e\n\u003c/table\u003e\n\u003c/div\u003e",
                        "text/plain": "     1  page_views  fpl_points       age  page_views^2  page_views fpl_points  \\\n0  1.0    0.475800    1.459302  0.541055      0.226385               0.694336   \n1  1.0    0.025462   -1.094020 -1.201141      0.000648              -0.027856   \n\n   page_views age  fpl_points^2  fpl_points age    age^2  \n0        0.257434      2.129563        0.789562  0.29274  \n1       -0.030583      1.196880        1.314073  1.44274  "
                    },
                    "execution_count": 44,
                    "metadata": {},
                    "output_type": "execute_result"
                }
            ],
            "source": [
                "# same for test\n",
                "poly_test_df = pd.DataFrame(poly_test, columns=poly.get_feature_names_out())\n",
                "poly_test_df.head(2)"
            ]
        },
        {
            "attachments": {},
            "cell_type": "markdown",
            "metadata": {},
            "source": [
                "#### Now, we need to add all the new variables to create the final design matrix."
            ]
        },
        {
            "cell_type": "code",
            "execution_count": 45,
            "metadata": {},
            "outputs": [
                {
                    "data": {
                        "text/html": "\u003cdiv\u003e\n\u003cstyle scoped\u003e\n    .dataframe tbody tr th:only-of-type {\n        vertical-align: middle;\n    }\n\n    .dataframe tbody tr th {\n        vertical-align: top;\n    }\n\n    .dataframe thead th {\n        text-align: right;\n    }\n\u003c/style\u003e\n\u003ctable border=\"1\" class=\"dataframe\"\u003e\n  \u003cthead\u003e\n    \u003ctr style=\"text-align: right;\"\u003e\n      \u003cth\u003e\u003c/th\u003e\n      \u003cth\u003e1\u003c/th\u003e\n      \u003cth\u003epage_views\u003c/th\u003e\n      \u003cth\u003efpl_points\u003c/th\u003e\n      \u003cth\u003eage\u003c/th\u003e\n      \u003cth\u003epage_views^2\u003c/th\u003e\n      \u003cth\u003epage_views fpl_points\u003c/th\u003e\n      \u003cth\u003epage_views age\u003c/th\u003e\n      \u003cth\u003efpl_points^2\u003c/th\u003e\n      \u003cth\u003efpl_points age\u003c/th\u003e\n      \u003cth\u003eage^2\u003c/th\u003e\n      \u003cth\u003eposition_cat_2\u003c/th\u003e\n      \u003cth\u003eposition_cat_3\u003c/th\u003e\n      \u003cth\u003eposition_cat_4\u003c/th\u003e\n      \u003cth\u003enew_signing_1\u003c/th\u003e\n      \u003cth\u003ebig_club_1\u003c/th\u003e\n      \u003cth\u003eregion_2\u003c/th\u003e\n      \u003cth\u003eregion_3\u003c/th\u003e\n      \u003cth\u003eregion_4\u003c/th\u003e\n    \u003c/tr\u003e\n  \u003c/thead\u003e\n  \u003ctbody\u003e\n    \u003ctr\u003e\n      \u003cth\u003e0\u003c/th\u003e\n      \u003ctd\u003e1.0\u003c/td\u003e\n      \u003ctd\u003e0.186072\u003c/td\u003e\n      \u003ctd\u003e-0.422093\u003c/td\u003e\n      \u003ctd\u003e0.043284\u003c/td\u003e\n      \u003ctd\u003e0.034623\u003c/td\u003e\n      \u003ctd\u003e-0.078540\u003c/td\u003e\n      \u003ctd\u003e0.008054\u003c/td\u003e\n      \u003ctd\u003e0.178163\u003c/td\u003e\n      \u003ctd\u003e-0.018270\u003c/td\u003e\n      \u003ctd\u003e0.001874\u003c/td\u003e\n      \u003ctd\u003e0.0\u003c/td\u003e\n      \u003ctd\u003e1.0\u003c/td\u003e\n      \u003ctd\u003e0.0\u003c/td\u003e\n      \u003ctd\u003e0.0\u003c/td\u003e\n      \u003ctd\u003e1.0\u003c/td\u003e\n      \u003ctd\u003e1.0\u003c/td\u003e\n      \u003ctd\u003e0.0\u003c/td\u003e\n      \u003ctd\u003e0.0\u003c/td\u003e\n    \u003c/tr\u003e\n    \u003ctr\u003e\n      \u003cth\u003e1\u003c/th\u003e\n      \u003ctd\u003e1.0\u003c/td\u003e\n      \u003ctd\u003e0.007616\u003c/td\u003e\n      \u003ctd\u003e-1.094020\u003c/td\u003e\n      \u003ctd\u003e-0.703371\u003c/td\u003e\n      \u003ctd\u003e0.000058\u003c/td\u003e\n      \u003ctd\u003e-0.008332\u003c/td\u003e\n      \u003ctd\u003e-0.005357\u003c/td\u003e\n      \u003ctd\u003e1.196880\u003c/td\u003e\n      \u003ctd\u003e0.769502\u003c/td\u003e\n      \u003ctd\u003e0.494731\u003c/td\u003e\n      \u003ctd\u003e0.0\u003c/td\u003e\n      \u003ctd\u003e1.0\u003c/td\u003e\n      \u003ctd\u003e0.0\u003c/td\u003e\n      \u003ctd\u003e0.0\u003c/td\u003e\n      \u003ctd\u003e0.0\u003c/td\u003e\n      \u003ctd\u003e0.0\u003c/td\u003e\n      \u003ctd\u003e1.0\u003c/td\u003e\n      \u003ctd\u003e0.0\u003c/td\u003e\n    \u003c/tr\u003e\n  \u003c/tbody\u003e\n\u003c/table\u003e\n\u003c/div\u003e",
                        "text/plain": "     1  page_views  fpl_points       age  page_views^2  page_views fpl_points  \\\n0  1.0    0.186072   -0.422093  0.043284      0.034623              -0.078540   \n1  1.0    0.007616   -1.094020 -0.703371      0.000058              -0.008332   \n\n   page_views age  fpl_points^2  fpl_points age     age^2  position_cat_2  \\\n0        0.008054      0.178163       -0.018270  0.001874             0.0   \n1       -0.005357      1.196880        0.769502  0.494731             0.0   \n\n   position_cat_3  position_cat_4  new_signing_1  big_club_1  region_2  \\\n0             1.0             0.0            0.0         1.0       1.0   \n1             1.0             0.0            0.0         0.0       0.0   \n\n   region_3  region_4  \n0       0.0       0.0  \n1       1.0       0.0  "
                    },
                    "execution_count": 45,
                    "metadata": {},
                    "output_type": "execute_result"
                }
            ],
            "source": [
                "# create the design matrix for the train set \n",
                "# remove\n",
                "design_train_df = pd.concat([poly_train_df, ohe_train_df], axis=1)\n",
                "design_train_df.head(2)"
            ]
        },
        {
            "cell_type": "code",
            "execution_count": 46,
            "metadata": {},
            "outputs": [
                {
                    "data": {
                        "text/html": "\u003cdiv\u003e\n\u003cstyle scoped\u003e\n    .dataframe tbody tr th:only-of-type {\n        vertical-align: middle;\n    }\n\n    .dataframe tbody tr th {\n        vertical-align: top;\n    }\n\n    .dataframe thead th {\n        text-align: right;\n    }\n\u003c/style\u003e\n\u003ctable border=\"1\" class=\"dataframe\"\u003e\n  \u003cthead\u003e\n    \u003ctr style=\"text-align: right;\"\u003e\n      \u003cth\u003e\u003c/th\u003e\n      \u003cth\u003e1\u003c/th\u003e\n      \u003cth\u003epage_views\u003c/th\u003e\n      \u003cth\u003efpl_points\u003c/th\u003e\n      \u003cth\u003eage\u003c/th\u003e\n      \u003cth\u003epage_views^2\u003c/th\u003e\n      \u003cth\u003epage_views fpl_points\u003c/th\u003e\n      \u003cth\u003epage_views age\u003c/th\u003e\n      \u003cth\u003efpl_points^2\u003c/th\u003e\n      \u003cth\u003efpl_points age\u003c/th\u003e\n      \u003cth\u003eage^2\u003c/th\u003e\n      \u003cth\u003eposition_cat_2\u003c/th\u003e\n      \u003cth\u003eposition_cat_3\u003c/th\u003e\n      \u003cth\u003eposition_cat_4\u003c/th\u003e\n      \u003cth\u003enew_signing_1\u003c/th\u003e\n      \u003cth\u003ebig_club_1\u003c/th\u003e\n      \u003cth\u003eregion_2\u003c/th\u003e\n      \u003cth\u003eregion_3\u003c/th\u003e\n      \u003cth\u003eregion_4\u003c/th\u003e\n    \u003c/tr\u003e\n  \u003c/thead\u003e\n  \u003ctbody\u003e\n    \u003ctr\u003e\n      \u003cth\u003e0\u003c/th\u003e\n      \u003ctd\u003e1.0\u003c/td\u003e\n      \u003ctd\u003e0.475800\u003c/td\u003e\n      \u003ctd\u003e1.459302\u003c/td\u003e\n      \u003ctd\u003e0.541055\u003c/td\u003e\n      \u003ctd\u003e0.226385\u003c/td\u003e\n      \u003ctd\u003e0.694336\u003c/td\u003e\n      \u003ctd\u003e0.257434\u003c/td\u003e\n      \u003ctd\u003e2.129563\u003c/td\u003e\n      \u003ctd\u003e0.789562\u003c/td\u003e\n      \u003ctd\u003e0.29274\u003c/td\u003e\n      \u003ctd\u003e0.0\u003c/td\u003e\n      \u003ctd\u003e0.0\u003c/td\u003e\n      \u003ctd\u003e0.0\u003c/td\u003e\n      \u003ctd\u003e0.0\u003c/td\u003e\n      \u003ctd\u003e0.0\u003c/td\u003e\n      \u003ctd\u003e1.0\u003c/td\u003e\n      \u003ctd\u003e0.0\u003c/td\u003e\n      \u003ctd\u003e0.0\u003c/td\u003e\n    \u003c/tr\u003e\n    \u003ctr\u003e\n      \u003cth\u003e1\u003c/th\u003e\n      \u003ctd\u003e1.0\u003c/td\u003e\n      \u003ctd\u003e0.025462\u003c/td\u003e\n      \u003ctd\u003e-1.094020\u003c/td\u003e\n      \u003ctd\u003e-1.201141\u003c/td\u003e\n      \u003ctd\u003e0.000648\u003c/td\u003e\n      \u003ctd\u003e-0.027856\u003c/td\u003e\n      \u003ctd\u003e-0.030583\u003c/td\u003e\n      \u003ctd\u003e1.196880\u003c/td\u003e\n      \u003ctd\u003e1.314073\u003c/td\u003e\n      \u003ctd\u003e1.44274\u003c/td\u003e\n      \u003ctd\u003e0.0\u003c/td\u003e\n      \u003ctd\u003e0.0\u003c/td\u003e\n      \u003ctd\u003e0.0\u003c/td\u003e\n      \u003ctd\u003e0.0\u003c/td\u003e\n      \u003ctd\u003e0.0\u003c/td\u003e\n      \u003ctd\u003e1.0\u003c/td\u003e\n      \u003ctd\u003e0.0\u003c/td\u003e\n      \u003ctd\u003e0.0\u003c/td\u003e\n    \u003c/tr\u003e\n  \u003c/tbody\u003e\n\u003c/table\u003e\n\u003c/div\u003e",
                        "text/plain": "     1  page_views  fpl_points       age  page_views^2  page_views fpl_points  \\\n0  1.0    0.475800    1.459302  0.541055      0.226385               0.694336   \n1  1.0    0.025462   -1.094020 -1.201141      0.000648              -0.027856   \n\n   page_views age  fpl_points^2  fpl_points age    age^2  position_cat_2  \\\n0        0.257434      2.129563        0.789562  0.29274             0.0   \n1       -0.030583      1.196880        1.314073  1.44274             0.0   \n\n   position_cat_3  position_cat_4  new_signing_1  big_club_1  region_2  \\\n0             0.0             0.0            0.0         0.0       1.0   \n1             0.0             0.0            0.0         0.0       1.0   \n\n   region_3  region_4  \n0       0.0       0.0  \n1       0.0       0.0  "
                    },
                    "execution_count": 46,
                    "metadata": {},
                    "output_type": "execute_result"
                }
            ],
            "source": [
                "# same for the test set\n",
                "# remove\n",
                "pd.set_option('display.max_columns', None)\n",
                "design_test_df = pd.concat([poly_test_df, ohe_test_df], axis=1)\n",
                "design_test_df.head(2)"
            ]
        },
        {
            "attachments": {},
            "cell_type": "markdown",
            "metadata": {},
            "source": [
                "### Now, time to train the model using our design matrix!"
            ]
        },
        {
            "cell_type": "code",
            "execution_count": 47,
            "metadata": {},
            "outputs": [
                {
                    "data": {
                        "text/html": "\u003cstyle\u003e#sk-container-id-1 {color: black;}#sk-container-id-1 pre{padding: 0;}#sk-container-id-1 div.sk-toggleable {background-color: white;}#sk-container-id-1 label.sk-toggleable__label {cursor: pointer;display: block;width: 100%;margin-bottom: 0;padding: 0.3em;box-sizing: border-box;text-align: center;}#sk-container-id-1 label.sk-toggleable__label-arrow:before {content: \"▸\";float: left;margin-right: 0.25em;color: #696969;}#sk-container-id-1 label.sk-toggleable__label-arrow:hover:before {color: black;}#sk-container-id-1 div.sk-estimator:hover label.sk-toggleable__label-arrow:before {color: black;}#sk-container-id-1 div.sk-toggleable__content {max-height: 0;max-width: 0;overflow: hidden;text-align: left;background-color: #f0f8ff;}#sk-container-id-1 div.sk-toggleable__content pre {margin: 0.2em;color: black;border-radius: 0.25em;background-color: #f0f8ff;}#sk-container-id-1 input.sk-toggleable__control:checked~div.sk-toggleable__content {max-height: 200px;max-width: 100%;overflow: auto;}#sk-container-id-1 input.sk-toggleable__control:checked~label.sk-toggleable__label-arrow:before {content: \"▾\";}#sk-container-id-1 div.sk-estimator input.sk-toggleable__control:checked~label.sk-toggleable__label {background-color: #d4ebff;}#sk-container-id-1 div.sk-label input.sk-toggleable__control:checked~label.sk-toggleable__label {background-color: #d4ebff;}#sk-container-id-1 input.sk-hidden--visually {border: 0;clip: rect(1px 1px 1px 1px);clip: rect(1px, 1px, 1px, 1px);height: 1px;margin: -1px;overflow: hidden;padding: 0;position: absolute;width: 1px;}#sk-container-id-1 div.sk-estimator {font-family: monospace;background-color: #f0f8ff;border: 1px dotted black;border-radius: 0.25em;box-sizing: border-box;margin-bottom: 0.5em;}#sk-container-id-1 div.sk-estimator:hover {background-color: #d4ebff;}#sk-container-id-1 div.sk-parallel-item::after {content: \"\";width: 100%;border-bottom: 1px solid gray;flex-grow: 1;}#sk-container-id-1 div.sk-label:hover label.sk-toggleable__label {background-color: #d4ebff;}#sk-container-id-1 div.sk-serial::before {content: \"\";position: absolute;border-left: 1px solid gray;box-sizing: border-box;top: 0;bottom: 0;left: 50%;z-index: 0;}#sk-container-id-1 div.sk-serial {display: flex;flex-direction: column;align-items: center;background-color: white;padding-right: 0.2em;padding-left: 0.2em;position: relative;}#sk-container-id-1 div.sk-item {position: relative;z-index: 1;}#sk-container-id-1 div.sk-parallel {display: flex;align-items: stretch;justify-content: center;background-color: white;position: relative;}#sk-container-id-1 div.sk-item::before, #sk-container-id-1 div.sk-parallel-item::before {content: \"\";position: absolute;border-left: 1px solid gray;box-sizing: border-box;top: 0;bottom: 0;left: 50%;z-index: -1;}#sk-container-id-1 div.sk-parallel-item {display: flex;flex-direction: column;z-index: 1;position: relative;background-color: white;}#sk-container-id-1 div.sk-parallel-item:first-child::after {align-self: flex-end;width: 50%;}#sk-container-id-1 div.sk-parallel-item:last-child::after {align-self: flex-start;width: 50%;}#sk-container-id-1 div.sk-parallel-item:only-child::after {width: 0;}#sk-container-id-1 div.sk-dashed-wrapped {border: 1px dashed gray;margin: 0 0.4em 0.5em 0.4em;box-sizing: border-box;padding-bottom: 0.4em;background-color: white;}#sk-container-id-1 div.sk-label label {font-family: monospace;font-weight: bold;display: inline-block;line-height: 1.2em;}#sk-container-id-1 div.sk-label-container {text-align: center;}#sk-container-id-1 div.sk-container {/* jupyter's `normalize.less` sets `[hidden] { display: none; }` but bootstrap.min.css set `[hidden] { display: none !important; }` so we also need the `!important` here to be able to override the default hidden behavior on the sphinx rendered scikit-learn.org. See: https://github.com/scikit-learn/scikit-learn/issues/21755 */display: inline-block !important;position: relative;}#sk-container-id-1 div.sk-text-repr-fallback {display: none;}\u003c/style\u003e\u003cdiv id=\"sk-container-id-1\" class=\"sk-top-container\"\u003e\u003cdiv class=\"sk-text-repr-fallback\"\u003e\u003cpre\u003eLinearRegression(fit_intercept=False)\u003c/pre\u003e\u003cb\u003eIn a Jupyter environment, please rerun this cell to show the HTML representation or trust the notebook. \u003cbr /\u003eOn GitHub, the HTML representation is unable to render, please try loading this page with nbviewer.org.\u003c/b\u003e\u003c/div\u003e\u003cdiv class=\"sk-container\" hidden\u003e\u003cdiv class=\"sk-item\"\u003e\u003cdiv class=\"sk-estimator sk-toggleable\"\u003e\u003cinput class=\"sk-toggleable__control sk-hidden--visually\" id=\"sk-estimator-id-1\" type=\"checkbox\" checked\u003e\u003clabel for=\"sk-estimator-id-1\" class=\"sk-toggleable__label sk-toggleable__label-arrow\"\u003eLinearRegression\u003c/label\u003e\u003cdiv class=\"sk-toggleable__content\"\u003e\u003cpre\u003eLinearRegression(fit_intercept=False)\u003c/pre\u003e\u003c/div\u003e\u003c/div\u003e\u003c/div\u003e\u003c/div\u003e\u003c/div\u003e",
                        "text/plain": "LinearRegression(fit_intercept=False)"
                    },
                    "execution_count": 47,
                    "metadata": {},
                    "output_type": "execute_result"
                }
            ],
            "source": [
                "# Fit a linear regression model with fit_intercept=fit_intercept from previously\n",
                "# remove\n",
                "linreg = LinearRegression(fit_intercept=fit_intercept)\n",
                "linreg.fit(design_train_df, y_train)"
            ]
        },
        {
            "cell_type": "code",
            "execution_count": 48,
            "metadata": {},
            "outputs": [],
            "source": [
                "# predict\n",
                "y_test_pred = linreg.predict(design_test_df)\n",
                "r2_train = linreg.score(design_train_df, y_train) # R^2\n",
                "r2_test = linreg.score(design_test_df, y_test)"
            ]
        },
        {
            "cell_type": "code",
            "execution_count": 49,
            "metadata": {
                "scrolled": true
            },
            "outputs": [
                {
                    "name": "stdout",
                    "output_type": "stream",
                    "text": "R^2 train = 0.763\nR^2 test = 0.828\n"
                }
            ],
            "source": [
                "print(f'R^2 train = {r2_train:.3}')\n",
                "print(f'R^2 test = {r2_test:.3}')"
            ]
        },
        {
            "cell_type": "code",
            "execution_count": 50,
            "metadata": {},
            "outputs": [
                {
                    "data": {
                        "text/plain": "array([ 8.07702577,  4.88579557,  2.50525789, -1.32107865, -0.1722304 ,\n        0.70903118, -1.180761  ,  0.90515742, -0.17899494, -1.80176777,\n        0.82019569, -0.51567709, -0.7639615 ,  1.45567537,  6.56477776,\n        1.82628104,  2.16905843,  1.05015518])"
                    },
                    "execution_count": 50,
                    "metadata": {},
                    "output_type": "execute_result"
                }
            ],
            "source": [
                "# the calculated coefficients\n",
                "linreg.coef_"
            ]
        },
        {
            "cell_type": "code",
            "execution_count": 51,
            "metadata": {},
            "outputs": [
                {
                    "name": "stdout",
                    "output_type": "stream",
                    "text": "Intercept: 0.0\n"
                },
                {
                    "data": {
                        "text/html": "\u003cdiv\u003e\n\u003cstyle scoped\u003e\n    .dataframe tbody tr th:only-of-type {\n        vertical-align: middle;\n    }\n\n    .dataframe tbody tr th {\n        vertical-align: top;\n    }\n\n    .dataframe thead th {\n        text-align: right;\n    }\n\u003c/style\u003e\n\u003ctable border=\"1\" class=\"dataframe\"\u003e\n  \u003cthead\u003e\n    \u003ctr style=\"text-align: right;\"\u003e\n      \u003cth\u003e\u003c/th\u003e\n      \u003cth\u003efeature\u003c/th\u003e\n      \u003cth\u003ecoeff\u003c/th\u003e\n    \u003c/tr\u003e\n  \u003c/thead\u003e\n  \u003ctbody\u003e\n    \u003ctr\u003e\n      \u003cth\u003e0\u003c/th\u003e\n      \u003ctd\u003e1\u003c/td\u003e\n      \u003ctd\u003e8.077026\u003c/td\u003e\n    \u003c/tr\u003e\n    \u003ctr\u003e\n      \u003cth\u003e1\u003c/th\u003e\n      \u003ctd\u003epage_views\u003c/td\u003e\n      \u003ctd\u003e4.885796\u003c/td\u003e\n    \u003c/tr\u003e\n    \u003ctr\u003e\n      \u003cth\u003e2\u003c/th\u003e\n      \u003ctd\u003efpl_points\u003c/td\u003e\n      \u003ctd\u003e2.505258\u003c/td\u003e\n    \u003c/tr\u003e\n    \u003ctr\u003e\n      \u003cth\u003e3\u003c/th\u003e\n      \u003ctd\u003eage\u003c/td\u003e\n      \u003ctd\u003e-1.321079\u003c/td\u003e\n    \u003c/tr\u003e\n    \u003ctr\u003e\n      \u003cth\u003e4\u003c/th\u003e\n      \u003ctd\u003epage_views^2\u003c/td\u003e\n      \u003ctd\u003e-0.172230\u003c/td\u003e\n    \u003c/tr\u003e\n    \u003ctr\u003e\n      \u003cth\u003e5\u003c/th\u003e\n      \u003ctd\u003epage_views fpl_points\u003c/td\u003e\n      \u003ctd\u003e0.709031\u003c/td\u003e\n    \u003c/tr\u003e\n    \u003ctr\u003e\n      \u003cth\u003e6\u003c/th\u003e\n      \u003ctd\u003epage_views age\u003c/td\u003e\n      \u003ctd\u003e-1.180761\u003c/td\u003e\n    \u003c/tr\u003e\n    \u003ctr\u003e\n      \u003cth\u003e7\u003c/th\u003e\n      \u003ctd\u003efpl_points^2\u003c/td\u003e\n      \u003ctd\u003e0.905157\u003c/td\u003e\n    \u003c/tr\u003e\n    \u003ctr\u003e\n      \u003cth\u003e8\u003c/th\u003e\n      \u003ctd\u003efpl_points age\u003c/td\u003e\n      \u003ctd\u003e-0.178995\u003c/td\u003e\n    \u003c/tr\u003e\n    \u003ctr\u003e\n      \u003cth\u003e9\u003c/th\u003e\n      \u003ctd\u003eage^2\u003c/td\u003e\n      \u003ctd\u003e-1.801768\u003c/td\u003e\n    \u003c/tr\u003e\n    \u003ctr\u003e\n      \u003cth\u003e10\u003c/th\u003e\n      \u003ctd\u003eposition_cat_2\u003c/td\u003e\n      \u003ctd\u003e0.820196\u003c/td\u003e\n    \u003c/tr\u003e\n    \u003ctr\u003e\n      \u003cth\u003e11\u003c/th\u003e\n      \u003ctd\u003eposition_cat_3\u003c/td\u003e\n      \u003ctd\u003e-0.515677\u003c/td\u003e\n    \u003c/tr\u003e\n    \u003ctr\u003e\n      \u003cth\u003e12\u003c/th\u003e\n      \u003ctd\u003eposition_cat_4\u003c/td\u003e\n      \u003ctd\u003e-0.763961\u003c/td\u003e\n    \u003c/tr\u003e\n    \u003ctr\u003e\n      \u003cth\u003e13\u003c/th\u003e\n      \u003ctd\u003enew_signing_1\u003c/td\u003e\n      \u003ctd\u003e1.455675\u003c/td\u003e\n    \u003c/tr\u003e\n    \u003ctr\u003e\n      \u003cth\u003e14\u003c/th\u003e\n      \u003ctd\u003ebig_club_1\u003c/td\u003e\n      \u003ctd\u003e6.564778\u003c/td\u003e\n    \u003c/tr\u003e\n    \u003ctr\u003e\n      \u003cth\u003e15\u003c/th\u003e\n      \u003ctd\u003eregion_2\u003c/td\u003e\n      \u003ctd\u003e1.826281\u003c/td\u003e\n    \u003c/tr\u003e\n    \u003ctr\u003e\n      \u003cth\u003e16\u003c/th\u003e\n      \u003ctd\u003eregion_3\u003c/td\u003e\n      \u003ctd\u003e2.169058\u003c/td\u003e\n    \u003c/tr\u003e\n    \u003ctr\u003e\n      \u003cth\u003e17\u003c/th\u003e\n      \u003ctd\u003eregion_4\u003c/td\u003e\n      \u003ctd\u003e1.050155\u003c/td\u003e\n    \u003c/tr\u003e\n  \u003c/tbody\u003e\n\u003c/table\u003e\n\u003c/div\u003e",
                        "text/plain": "                  feature     coeff\n0                       1  8.077026\n1              page_views  4.885796\n2              fpl_points  2.505258\n3                     age -1.321079\n4            page_views^2 -0.172230\n5   page_views fpl_points  0.709031\n6          page_views age -1.180761\n7            fpl_points^2  0.905157\n8          fpl_points age -0.178995\n9                   age^2 -1.801768\n10         position_cat_2  0.820196\n11         position_cat_3 -0.515677\n12         position_cat_4 -0.763961\n13          new_signing_1  1.455675\n14             big_club_1  6.564778\n15               region_2  1.826281\n16               region_3  2.169058\n17               region_4  1.050155"
                    },
                    "execution_count": 51,
                    "metadata": {},
                    "output_type": "execute_result"
                }
            ],
            "source": [
                "# create a results dataframe by combining the features names with the coefficients\n",
                "# remove\n",
                "print(f'Intercept: {linreg.intercept_:.3}')\n",
                "results = pd.DataFrame(zip(design_train_df.columns, linreg.coef_), columns=['feature', 'coeff'])\n",
                "results"
            ]
        },
        {
            "attachments": {},
            "cell_type": "markdown",
            "metadata": {},
            "source": [
                "## Can we predict Jeffrey Schlupp's fantasy market value?\n",
                "\u003cdiv class=\"alert alert-success\"\u003e\n",
                "    \u003cstrong\u003e🏋🏻‍♂️ ACTIVITY 3 : \u003c/strong\u003e You are given the feature values for Jeffrey Schlupp.\u003c/div\u003e\u003cBR\u003e"
            ]
        },
        {
            "attachments": {},
            "cell_type": "markdown",
            "metadata": {},
            "source": [
                "This data is in a file named `data/jeffrey.csv`, which contains a DataFrame with a single row (a DataFrame, nontheless). Can you predict his market value?  His real `market value` is 8, but you do not know that. We will come back to this value to compare with the prediction. \n",
                " \n",
                "![jeffrey](fig/JeffreySchlupp.jpg) "
            ]
        },
        {
            "cell_type": "code",
            "execution_count": 52,
            "metadata": {
                "scrolled": true
            },
            "outputs": [
                {
                    "data": {
                        "text/html": "\u003cdiv\u003e\n\u003cstyle scoped\u003e\n    .dataframe tbody tr th:only-of-type {\n        vertical-align: middle;\n    }\n\n    .dataframe tbody tr th {\n        vertical-align: top;\n    }\n\n    .dataframe thead th {\n        text-align: right;\n    }\n\u003c/style\u003e\n\u003ctable border=\"1\" class=\"dataframe\"\u003e\n  \u003cthead\u003e\n    \u003ctr style=\"text-align: right;\"\u003e\n      \u003cth\u003e\u003c/th\u003e\n      \u003cth\u003ename\u003c/th\u003e\n      \u003cth\u003eclub\u003c/th\u003e\n      \u003cth\u003eage\u003c/th\u003e\n      \u003cth\u003eposition\u003c/th\u003e\n      \u003cth\u003eposition_cat\u003c/th\u003e\n      \u003cth\u003epage_views\u003c/th\u003e\n      \u003cth\u003efpl_points\u003c/th\u003e\n      \u003cth\u003eregion\u003c/th\u003e\n      \u003cth\u003enationality\u003c/th\u003e\n      \u003cth\u003enew_foreign\u003c/th\u003e\n      \u003cth\u003eclub_id\u003c/th\u003e\n      \u003cth\u003enew_signing\u003c/th\u003e\n    \u003c/tr\u003e\n  \u003c/thead\u003e\n  \u003ctbody\u003e\n    \u003ctr\u003e\n      \u003cth\u003e0\u003c/th\u003e\n      \u003ctd\u003eJeffrey Schlupp\u003c/td\u003e\n      \u003ctd\u003eCrystal+Palace\u003c/td\u003e\n      \u003ctd\u003e24\u003c/td\u003e\n      \u003ctd\u003eLB\u003c/td\u003e\n      \u003ctd\u003e3\u003c/td\u003e\n      \u003ctd\u003e385\u003c/td\u003e\n      \u003ctd\u003e47\u003c/td\u003e\n      \u003ctd\u003e4\u003c/td\u003e\n      \u003ctd\u003eGhana\u003c/td\u003e\n      \u003ctd\u003e0\u003c/td\u003e\n      \u003ctd\u003e6\u003c/td\u003e\n      \u003ctd\u003e0\u003c/td\u003e\n    \u003c/tr\u003e\n  \u003c/tbody\u003e\n\u003c/table\u003e\n\u003c/div\u003e",
                        "text/plain": "              name            club  age position  position_cat  page_views  \\\n0  Jeffrey Schlupp  Crystal+Palace   24       LB             3         385   \n\n   fpl_points  region nationality  new_foreign  club_id  new_signing  \n0          47       4       Ghana            0        6            0  "
                    },
                    "execution_count": 52,
                    "metadata": {},
                    "output_type": "execute_result"
                }
            ],
            "source": [
                "jeffrey_df = pd.read_csv(\"data/jeffrey.csv\")\n",
                "jeffrey_df"
            ]
        },
        {
            "attachments": {},
            "cell_type": "markdown",
            "metadata": {},
            "source": [
                "#### We have to perform all the preprocessing from scratch!"
            ]
        },
        {
            "cell_type": "code",
            "execution_count": 53,
            "metadata": {},
            "outputs": [],
            "source": [
                "# remove\n",
                "jeffrey_df['big_club'] = jeffrey_df.apply(lambda row: 1 \\\n",
                "                                         if row['club'] in big_clubs else 0, axis=1)"
            ]
        },
        {
            "cell_type": "code",
            "execution_count": 54,
            "metadata": {},
            "outputs": [],
            "source": [
                "# one-hot encode and make into a Dataframe\n",
                "# remove\n",
                "ohe_jeffrey = ohe.transform(jeffrey_df[categorical_cols])\n",
                "ohe_jeffrey_df = pd.DataFrame(ohe_jeffrey, columns=ohe.get_feature_names_out())"
            ]
        },
        {
            "cell_type": "code",
            "execution_count": 55,
            "metadata": {},
            "outputs": [],
            "source": [
                "# scale test set and make into a Dataframe\n",
                "# remove\n",
                "scaled_jeffrey = scaler.transform(jeffrey_df[numerical_cols]);\n",
                "scaled_jeffrey_df = pd.DataFrame(scaled_jeffrey, columns=numerical_cols);"
            ]
        },
        {
            "cell_type": "code",
            "execution_count": 56,
            "metadata": {},
            "outputs": [],
            "source": [
                "# one-hot encode and make into a Dataframe\n",
                "# remove\n",
                "ohe_jeffrey = ohe.transform(jeffrey_df[categorical_cols])\n",
                "ohe_jeffrey_df = pd.DataFrame(ohe_jeffrey, columns=ohe.get_feature_names_out())"
            ]
        },
        {
            "cell_type": "code",
            "execution_count": 57,
            "metadata": {},
            "outputs": [],
            "source": [
                "# Compute the polynomial features and make into a Dataframe\n",
                "# remove\n",
                "poly_jeffrey = poly.transform(scaled_jeffrey_df)\n",
                "poly_jeffrey_df = pd.DataFrame(poly_jeffrey, columns=poly.get_feature_names_out())"
            ]
        },
        {
            "cell_type": "code",
            "execution_count": 58,
            "metadata": {},
            "outputs": [
                {
                    "data": {
                        "text/html": "\u003cdiv\u003e\n\u003cstyle scoped\u003e\n    .dataframe tbody tr th:only-of-type {\n        vertical-align: middle;\n    }\n\n    .dataframe tbody tr th {\n        vertical-align: top;\n    }\n\n    .dataframe thead th {\n        text-align: right;\n    }\n\u003c/style\u003e\n\u003ctable border=\"1\" class=\"dataframe\"\u003e\n  \u003cthead\u003e\n    \u003ctr style=\"text-align: right;\"\u003e\n      \u003cth\u003e\u003c/th\u003e\n      \u003cth\u003e1\u003c/th\u003e\n      \u003cth\u003epage_views\u003c/th\u003e\n      \u003cth\u003efpl_points\u003c/th\u003e\n      \u003cth\u003eage\u003c/th\u003e\n      \u003cth\u003epage_views^2\u003c/th\u003e\n      \u003cth\u003epage_views fpl_points\u003c/th\u003e\n      \u003cth\u003epage_views age\u003c/th\u003e\n      \u003cth\u003efpl_points^2\u003c/th\u003e\n      \u003cth\u003efpl_points age\u003c/th\u003e\n      \u003cth\u003eage^2\u003c/th\u003e\n      \u003cth\u003eposition_cat_2\u003c/th\u003e\n      \u003cth\u003eposition_cat_3\u003c/th\u003e\n      \u003cth\u003eposition_cat_4\u003c/th\u003e\n      \u003cth\u003enew_signing_1\u003c/th\u003e\n      \u003cth\u003ebig_club_1\u003c/th\u003e\n      \u003cth\u003eregion_2\u003c/th\u003e\n      \u003cth\u003eregion_3\u003c/th\u003e\n      \u003cth\u003eregion_4\u003c/th\u003e\n    \u003c/tr\u003e\n  \u003c/thead\u003e\n  \u003ctbody\u003e\n    \u003ctr\u003e\n      \u003cth\u003e0\u003c/th\u003e\n      \u003ctd\u003e1.0\u003c/td\u003e\n      \u003ctd\u003e-0.390235\u003c/td\u003e\n      \u003ctd\u003e-0.191718\u003c/td\u003e\n      \u003ctd\u003e-0.703371\u003c/td\u003e\n      \u003ctd\u003e0.152283\u003c/td\u003e\n      \u003ctd\u003e0.074815\u003c/td\u003e\n      \u003ctd\u003e0.27448\u003c/td\u003e\n      \u003ctd\u003e0.036756\u003c/td\u003e\n      \u003ctd\u003e0.134849\u003c/td\u003e\n      \u003ctd\u003e0.494731\u003c/td\u003e\n      \u003ctd\u003e0.0\u003c/td\u003e\n      \u003ctd\u003e1.0\u003c/td\u003e\n      \u003ctd\u003e0.0\u003c/td\u003e\n      \u003ctd\u003e0.0\u003c/td\u003e\n      \u003ctd\u003e0.0\u003c/td\u003e\n      \u003ctd\u003e0.0\u003c/td\u003e\n      \u003ctd\u003e0.0\u003c/td\u003e\n      \u003ctd\u003e1.0\u003c/td\u003e\n    \u003c/tr\u003e\n  \u003c/tbody\u003e\n\u003c/table\u003e\n\u003c/div\u003e",
                        "text/plain": "     1  page_views  fpl_points       age  page_views^2  page_views fpl_points  \\\n0  1.0   -0.390235   -0.191718 -0.703371      0.152283               0.074815   \n\n   page_views age  fpl_points^2  fpl_points age     age^2  position_cat_2  \\\n0         0.27448      0.036756        0.134849  0.494731             0.0   \n\n   position_cat_3  position_cat_4  new_signing_1  big_club_1  region_2  \\\n0             1.0             0.0            0.0         0.0       0.0   \n\n   region_3  region_4  \n0       0.0       1.0  "
                    },
                    "execution_count": 58,
                    "metadata": {},
                    "output_type": "execute_result"
                }
            ],
            "source": [
                "# create the design matrix for the jeffrey set \n",
                "# remove\n",
                "design_jeffrey_df = pd.concat([poly_jeffrey_df, ohe_jeffrey_df], axis=1)\n",
                "design_jeffrey_df"
            ]
        },
        {
            "cell_type": "code",
            "execution_count": 59,
            "metadata": {},
            "outputs": [
                {
                    "name": "stdout",
                    "output_type": "stream",
                    "text": "Prediction: 5.97\n"
                }
            ],
            "source": [
                "# Predict using existing linear regression model\n",
                "y_jeffrey_pred = linreg.predict(design_jeffrey_df)\n",
                "print(f'Prediction: {y_jeffrey_pred[0]:.3}')"
            ]
        },
        {
            "attachments": {},
            "cell_type": "markdown",
            "metadata": {},
            "source": [
                "\u003ca id=pipes\u003e\u003c/a\u003e  [Top](#top)\n",
                "## 3 - Using Pipelines of transforms with a final estimator"
            ]
        },
        {
            "attachments": {},
            "cell_type": "markdown",
            "metadata": {},
            "source": [
                "There could be many transformations that need to be executed sequentialy in order to construct the design matrix. As we saw, it is possible to handcraft the design matrix ourselves by transforming individual columns, it is more efficient and error-free to create an sklearn `pipeline` to do this for you. Sklearn can work directly with `numpy` arrays or pandas `DataFrames`. \n",
                "\n",
                "When using the latter, `sklearn.compose.ColumnTransformer` is useful, as it applies transformers to columns of an array or pandas DataFrame. This estimator allows different columns or column subsets of the input to be transformed separately and the features generated by each transformer will be concatenated to form the design matrix.\n",
                "\n",
                "#### Making a pipeline\n",
                "\n",
                "```\n",
                "from sklearn.pipeline import Pipeline\n",
                "from sklearn.preprocessing import StandardScaler\n",
                "\n",
                "my_pipeline = Pipeline([\n",
                "        ('imputer', Imputer(strategy='median')),      # we will be using later\n",
                "        ('std_scaler', StandardScaler()),             # optional\n",
                "        ('selector', ColumnTransformer())             # for one-hot encoding\n",
                "        ('regressor', lr)                             # actual regressor model\n",
                "])\n",
                "```"
            ]
        },
        {
            "attachments": {},
            "cell_type": "markdown",
            "metadata": {},
            "source": [
                "#### Beginning to end machine learning using `pipeline` "
            ]
        },
        {
            "cell_type": "code",
            "execution_count": 60,
            "metadata": {
                "scrolled": true
            },
            "outputs": [
                {
                    "data": {
                        "text/html": "\u003cdiv\u003e\n\u003cstyle scoped\u003e\n    .dataframe tbody tr th:only-of-type {\n        vertical-align: middle;\n    }\n\n    .dataframe tbody tr th {\n        vertical-align: top;\n    }\n\n    .dataframe thead th {\n        text-align: right;\n    }\n\u003c/style\u003e\n\u003ctable border=\"1\" class=\"dataframe\"\u003e\n  \u003cthead\u003e\n    \u003ctr style=\"text-align: right;\"\u003e\n      \u003cth\u003e\u003c/th\u003e\n      \u003cth\u003ename\u003c/th\u003e\n      \u003cth\u003eclub\u003c/th\u003e\n      \u003cth\u003eage\u003c/th\u003e\n      \u003cth\u003eposition\u003c/th\u003e\n      \u003cth\u003eposition_cat\u003c/th\u003e\n      \u003cth\u003emarket_value\u003c/th\u003e\n      \u003cth\u003epage_views\u003c/th\u003e\n      \u003cth\u003efpl_points\u003c/th\u003e\n      \u003cth\u003eregion\u003c/th\u003e\n      \u003cth\u003enationality\u003c/th\u003e\n      \u003cth\u003enew_foreign\u003c/th\u003e\n      \u003cth\u003eclub_id\u003c/th\u003e\n      \u003cth\u003enew_signing\u003c/th\u003e\n    \u003c/tr\u003e\n  \u003c/thead\u003e\n  \u003ctbody\u003e\n    \u003ctr\u003e\n      \u003cth\u003e0\u003c/th\u003e\n      \u003ctd\u003eAlexis Sanchez\u003c/td\u003e\n      \u003ctd\u003eArsenal\u003c/td\u003e\n      \u003ctd\u003e28\u003c/td\u003e\n      \u003ctd\u003eLW\u003c/td\u003e\n      \u003ctd\u003e1\u003c/td\u003e\n      \u003ctd\u003e65.0\u003c/td\u003e\n      \u003ctd\u003e4329\u003c/td\u003e\n      \u003ctd\u003e264\u003c/td\u003e\n      \u003ctd\u003e3\u003c/td\u003e\n      \u003ctd\u003eChile\u003c/td\u003e\n      \u003ctd\u003e0\u003c/td\u003e\n      \u003ctd\u003e1\u003c/td\u003e\n      \u003ctd\u003e0\u003c/td\u003e\n    \u003c/tr\u003e\n    \u003ctr\u003e\n      \u003cth\u003e1\u003c/th\u003e\n      \u003ctd\u003eMesut Ozil\u003c/td\u003e\n      \u003ctd\u003eArsenal\u003c/td\u003e\n      \u003ctd\u003e28\u003c/td\u003e\n      \u003ctd\u003eAM\u003c/td\u003e\n      \u003ctd\u003e1\u003c/td\u003e\n      \u003ctd\u003e50.0\u003c/td\u003e\n      \u003ctd\u003e4395\u003c/td\u003e\n      \u003ctd\u003e167\u003c/td\u003e\n      \u003ctd\u003e2\u003c/td\u003e\n      \u003ctd\u003eGermany\u003c/td\u003e\n      \u003ctd\u003e0\u003c/td\u003e\n      \u003ctd\u003e1\u003c/td\u003e\n      \u003ctd\u003e0\u003c/td\u003e\n    \u003c/tr\u003e\n  \u003c/tbody\u003e\n\u003c/table\u003e\n\u003c/div\u003e",
                        "text/plain": "             name     club  age position  position_cat  market_value  \\\n0  Alexis Sanchez  Arsenal   28       LW             1          65.0   \n1      Mesut Ozil  Arsenal   28       AM             1          50.0   \n\n   page_views  fpl_points  region nationality  new_foreign  club_id  \\\n0        4329         264       3       Chile            0        1   \n1        4395         167       2     Germany            0        1   \n\n   new_signing  \n0            0  \n1            0  "
                    },
                    "execution_count": 60,
                    "metadata": {},
                    "output_type": "execute_result"
                }
            ],
            "source": [
                "league_df = pd.read_csv(\"data/league_data.csv\")\n",
                "league_df.head(2)"
            ]
        },
        {
            "cell_type": "code",
            "execution_count": 61,
            "metadata": {},
            "outputs": [],
            "source": [
                "response = 'market_value'\n",
                "y = league_df[response]"
            ]
        },
        {
            "cell_type": "code",
            "execution_count": 62,
            "metadata": {},
            "outputs": [],
            "source": [
                "train_data, test_data, y_train, y_test = train_test_split(\n",
                "                                            league_df, y, \n",
                "                                            random_state=seed,\n",
                "                                            stratify=league_df['position_cat'],\n",
                "                                            test_size = 0.2)"
            ]
        },
        {
            "cell_type": "code",
            "execution_count": 63,
            "metadata": {
                "scrolled": true
            },
            "outputs": [
                {
                    "name": "stdout",
                    "output_type": "stream",
                    "text": "R^2 on train set: 0.709\nR^2 on test set: 0.732\n"
                },
                {
                    "name": "stderr",
                    "output_type": "stream",
                    "text": "/usr/lib/python3.11/site-packages/sklearn/preprocessing/_encoders.py:972: FutureWarning: `sparse` was renamed to `sparse_output` in version 1.2 and will be removed in 1.4. `sparse_output` is ignored unless you leave `sparse` to its default value.\n  warnings.warn(\n"
                },
                {
                    "data": {
                        "text/html": "\u003cstyle\u003e#sk-container-id-2 {color: black;}#sk-container-id-2 pre{padding: 0;}#sk-container-id-2 div.sk-toggleable {background-color: white;}#sk-container-id-2 label.sk-toggleable__label {cursor: pointer;display: block;width: 100%;margin-bottom: 0;padding: 0.3em;box-sizing: border-box;text-align: center;}#sk-container-id-2 label.sk-toggleable__label-arrow:before {content: \"▸\";float: left;margin-right: 0.25em;color: #696969;}#sk-container-id-2 label.sk-toggleable__label-arrow:hover:before {color: black;}#sk-container-id-2 div.sk-estimator:hover label.sk-toggleable__label-arrow:before {color: black;}#sk-container-id-2 div.sk-toggleable__content {max-height: 0;max-width: 0;overflow: hidden;text-align: left;background-color: #f0f8ff;}#sk-container-id-2 div.sk-toggleable__content pre {margin: 0.2em;color: black;border-radius: 0.25em;background-color: #f0f8ff;}#sk-container-id-2 input.sk-toggleable__control:checked~div.sk-toggleable__content {max-height: 200px;max-width: 100%;overflow: auto;}#sk-container-id-2 input.sk-toggleable__control:checked~label.sk-toggleable__label-arrow:before {content: \"▾\";}#sk-container-id-2 div.sk-estimator input.sk-toggleable__control:checked~label.sk-toggleable__label {background-color: #d4ebff;}#sk-container-id-2 div.sk-label input.sk-toggleable__control:checked~label.sk-toggleable__label {background-color: #d4ebff;}#sk-container-id-2 input.sk-hidden--visually {border: 0;clip: rect(1px 1px 1px 1px);clip: rect(1px, 1px, 1px, 1px);height: 1px;margin: -1px;overflow: hidden;padding: 0;position: absolute;width: 1px;}#sk-container-id-2 div.sk-estimator {font-family: monospace;background-color: #f0f8ff;border: 1px dotted black;border-radius: 0.25em;box-sizing: border-box;margin-bottom: 0.5em;}#sk-container-id-2 div.sk-estimator:hover {background-color: #d4ebff;}#sk-container-id-2 div.sk-parallel-item::after {content: \"\";width: 100%;border-bottom: 1px solid gray;flex-grow: 1;}#sk-container-id-2 div.sk-label:hover label.sk-toggleable__label {background-color: #d4ebff;}#sk-container-id-2 div.sk-serial::before {content: \"\";position: absolute;border-left: 1px solid gray;box-sizing: border-box;top: 0;bottom: 0;left: 50%;z-index: 0;}#sk-container-id-2 div.sk-serial {display: flex;flex-direction: column;align-items: center;background-color: white;padding-right: 0.2em;padding-left: 0.2em;position: relative;}#sk-container-id-2 div.sk-item {position: relative;z-index: 1;}#sk-container-id-2 div.sk-parallel {display: flex;align-items: stretch;justify-content: center;background-color: white;position: relative;}#sk-container-id-2 div.sk-item::before, #sk-container-id-2 div.sk-parallel-item::before {content: \"\";position: absolute;border-left: 1px solid gray;box-sizing: border-box;top: 0;bottom: 0;left: 50%;z-index: -1;}#sk-container-id-2 div.sk-parallel-item {display: flex;flex-direction: column;z-index: 1;position: relative;background-color: white;}#sk-container-id-2 div.sk-parallel-item:first-child::after {align-self: flex-end;width: 50%;}#sk-container-id-2 div.sk-parallel-item:last-child::after {align-self: flex-start;width: 50%;}#sk-container-id-2 div.sk-parallel-item:only-child::after {width: 0;}#sk-container-id-2 div.sk-dashed-wrapped {border: 1px dashed gray;margin: 0 0.4em 0.5em 0.4em;box-sizing: border-box;padding-bottom: 0.4em;background-color: white;}#sk-container-id-2 div.sk-label label {font-family: monospace;font-weight: bold;display: inline-block;line-height: 1.2em;}#sk-container-id-2 div.sk-label-container {text-align: center;}#sk-container-id-2 div.sk-container {/* jupyter's `normalize.less` sets `[hidden] { display: none; }` but bootstrap.min.css set `[hidden] { display: none !important; }` so we also need the `!important` here to be able to override the default hidden behavior on the sphinx rendered scikit-learn.org. See: https://github.com/scikit-learn/scikit-learn/issues/21755 */display: inline-block !important;position: relative;}#sk-container-id-2 div.sk-text-repr-fallback {display: none;}\u003c/style\u003e\u003cdiv id=\"sk-container-id-2\" class=\"sk-top-container\"\u003e\u003cdiv class=\"sk-text-repr-fallback\"\u003e\u003cpre\u003ePipeline(steps=[(\u0026#x27;big_clubs\u0026#x27;,\n                 \u0026lt;__main__.DataframeTransformer object at 0x7f0cf1869f10\u0026gt;),\n                (\u0026#x27;preprocessor\u0026#x27;,\n                 ColumnTransformer(transformers=[(\u0026#x27;cat\u0026#x27;,\n                                                  OneHotEncoder(drop=\u0026#x27;first\u0026#x27;,\n                                                                handle_unknown=\u0026#x27;ignore\u0026#x27;,\n                                                                sparse=False),\n                                                  [\u0026#x27;position_cat\u0026#x27;,\n                                                   \u0026#x27;new_signing\u0026#x27;, \u0026#x27;big_club\u0026#x27;,\n                                                   \u0026#x27;region\u0026#x27;]),\n                                                 (\u0026#x27;num\u0026#x27;,\n                                                  Pipeline(steps=[(\u0026#x27;stdscaler\u0026#x27;,\n                                                                   StandardScaler()),\n                                                                  (\u0026#x27;polynomial\u0026#x27;,\n                                                                   PolynomialFeatures())]),\n                                                  [\u0026#x27;page_views\u0026#x27;,\n                                                   \u0026#x27;fpl_points\u0026#x27;])])),\n                (\u0026#x27;regressor\u0026#x27;, LinearRegression(fit_intercept=False))])\u003c/pre\u003e\u003cb\u003eIn a Jupyter environment, please rerun this cell to show the HTML representation or trust the notebook. \u003cbr /\u003eOn GitHub, the HTML representation is unable to render, please try loading this page with nbviewer.org.\u003c/b\u003e\u003c/div\u003e\u003cdiv class=\"sk-container\" hidden\u003e\u003cdiv class=\"sk-item sk-dashed-wrapped\"\u003e\u003cdiv class=\"sk-label-container\"\u003e\u003cdiv class=\"sk-label sk-toggleable\"\u003e\u003cinput class=\"sk-toggleable__control sk-hidden--visually\" id=\"sk-estimator-id-2\" type=\"checkbox\" \u003e\u003clabel for=\"sk-estimator-id-2\" class=\"sk-toggleable__label sk-toggleable__label-arrow\"\u003ePipeline\u003c/label\u003e\u003cdiv class=\"sk-toggleable__content\"\u003e\u003cpre\u003ePipeline(steps=[(\u0026#x27;big_clubs\u0026#x27;,\n                 \u0026lt;__main__.DataframeTransformer object at 0x7f0cf1869f10\u0026gt;),\n                (\u0026#x27;preprocessor\u0026#x27;,\n                 ColumnTransformer(transformers=[(\u0026#x27;cat\u0026#x27;,\n                                                  OneHotEncoder(drop=\u0026#x27;first\u0026#x27;,\n                                                                handle_unknown=\u0026#x27;ignore\u0026#x27;,\n                                                                sparse=False),\n                                                  [\u0026#x27;position_cat\u0026#x27;,\n                                                   \u0026#x27;new_signing\u0026#x27;, \u0026#x27;big_club\u0026#x27;,\n                                                   \u0026#x27;region\u0026#x27;]),\n                                                 (\u0026#x27;num\u0026#x27;,\n                                                  Pipeline(steps=[(\u0026#x27;stdscaler\u0026#x27;,\n                                                                   StandardScaler()),\n                                                                  (\u0026#x27;polynomial\u0026#x27;,\n                                                                   PolynomialFeatures())]),\n                                                  [\u0026#x27;page_views\u0026#x27;,\n                                                   \u0026#x27;fpl_points\u0026#x27;])])),\n                (\u0026#x27;regressor\u0026#x27;, LinearRegression(fit_intercept=False))])\u003c/pre\u003e\u003c/div\u003e\u003c/div\u003e\u003c/div\u003e\u003cdiv class=\"sk-serial\"\u003e\u003cdiv class=\"sk-item\"\u003e\u003cdiv class=\"sk-estimator sk-toggleable\"\u003e\u003cinput class=\"sk-toggleable__control sk-hidden--visually\" id=\"sk-estimator-id-3\" type=\"checkbox\" \u003e\u003clabel for=\"sk-estimator-id-3\" class=\"sk-toggleable__label sk-toggleable__label-arrow\"\u003eDataframeTransformer\u003c/label\u003e\u003cdiv class=\"sk-toggleable__content\"\u003e\u003cpre\u003e\u0026lt;__main__.DataframeTransformer object at 0x7f0cf1869f10\u0026gt;\u003c/pre\u003e\u003c/div\u003e\u003c/div\u003e\u003c/div\u003e\u003cdiv class=\"sk-item sk-dashed-wrapped\"\u003e\u003cdiv class=\"sk-label-container\"\u003e\u003cdiv class=\"sk-label sk-toggleable\"\u003e\u003cinput class=\"sk-toggleable__control sk-hidden--visually\" id=\"sk-estimator-id-4\" type=\"checkbox\" \u003e\u003clabel for=\"sk-estimator-id-4\" class=\"sk-toggleable__label sk-toggleable__label-arrow\"\u003epreprocessor: ColumnTransformer\u003c/label\u003e\u003cdiv class=\"sk-toggleable__content\"\u003e\u003cpre\u003eColumnTransformer(transformers=[(\u0026#x27;cat\u0026#x27;,\n                                 OneHotEncoder(drop=\u0026#x27;first\u0026#x27;,\n                                               handle_unknown=\u0026#x27;ignore\u0026#x27;,\n                                               sparse=False),\n                                 [\u0026#x27;position_cat\u0026#x27;, \u0026#x27;new_signing\u0026#x27;, \u0026#x27;big_club\u0026#x27;,\n                                  \u0026#x27;region\u0026#x27;]),\n                                (\u0026#x27;num\u0026#x27;,\n                                 Pipeline(steps=[(\u0026#x27;stdscaler\u0026#x27;,\n                                                  StandardScaler()),\n                                                 (\u0026#x27;polynomial\u0026#x27;,\n                                                  PolynomialFeatures())]),\n                                 [\u0026#x27;page_views\u0026#x27;, \u0026#x27;fpl_points\u0026#x27;])])\u003c/pre\u003e\u003c/div\u003e\u003c/div\u003e\u003c/div\u003e\u003cdiv class=\"sk-parallel\"\u003e\u003cdiv class=\"sk-parallel-item\"\u003e\u003cdiv class=\"sk-item\"\u003e\u003cdiv class=\"sk-label-container\"\u003e\u003cdiv class=\"sk-label sk-toggleable\"\u003e\u003cinput class=\"sk-toggleable__control sk-hidden--visually\" id=\"sk-estimator-id-5\" type=\"checkbox\" \u003e\u003clabel for=\"sk-estimator-id-5\" class=\"sk-toggleable__label sk-toggleable__label-arrow\"\u003ecat\u003c/label\u003e\u003cdiv class=\"sk-toggleable__content\"\u003e\u003cpre\u003e[\u0026#x27;position_cat\u0026#x27;, \u0026#x27;new_signing\u0026#x27;, \u0026#x27;big_club\u0026#x27;, \u0026#x27;region\u0026#x27;]\u003c/pre\u003e\u003c/div\u003e\u003c/div\u003e\u003c/div\u003e\u003cdiv class=\"sk-serial\"\u003e\u003cdiv class=\"sk-item\"\u003e\u003cdiv class=\"sk-estimator sk-toggleable\"\u003e\u003cinput class=\"sk-toggleable__control sk-hidden--visually\" id=\"sk-estimator-id-6\" type=\"checkbox\" \u003e\u003clabel for=\"sk-estimator-id-6\" class=\"sk-toggleable__label sk-toggleable__label-arrow\"\u003eOneHotEncoder\u003c/label\u003e\u003cdiv class=\"sk-toggleable__content\"\u003e\u003cpre\u003eOneHotEncoder(drop=\u0026#x27;first\u0026#x27;, handle_unknown=\u0026#x27;ignore\u0026#x27;, sparse=False)\u003c/pre\u003e\u003c/div\u003e\u003c/div\u003e\u003c/div\u003e\u003c/div\u003e\u003c/div\u003e\u003c/div\u003e\u003cdiv class=\"sk-parallel-item\"\u003e\u003cdiv class=\"sk-item\"\u003e\u003cdiv class=\"sk-label-container\"\u003e\u003cdiv class=\"sk-label sk-toggleable\"\u003e\u003cinput class=\"sk-toggleable__control sk-hidden--visually\" id=\"sk-estimator-id-7\" type=\"checkbox\" \u003e\u003clabel for=\"sk-estimator-id-7\" class=\"sk-toggleable__label sk-toggleable__label-arrow\"\u003enum\u003c/label\u003e\u003cdiv class=\"sk-toggleable__content\"\u003e\u003cpre\u003e[\u0026#x27;page_views\u0026#x27;, \u0026#x27;fpl_points\u0026#x27;]\u003c/pre\u003e\u003c/div\u003e\u003c/div\u003e\u003c/div\u003e\u003cdiv class=\"sk-serial\"\u003e\u003cdiv class=\"sk-item\"\u003e\u003cdiv class=\"sk-serial\"\u003e\u003cdiv class=\"sk-item\"\u003e\u003cdiv class=\"sk-estimator sk-toggleable\"\u003e\u003cinput class=\"sk-toggleable__control sk-hidden--visually\" id=\"sk-estimator-id-8\" type=\"checkbox\" \u003e\u003clabel for=\"sk-estimator-id-8\" class=\"sk-toggleable__label sk-toggleable__label-arrow\"\u003eStandardScaler\u003c/label\u003e\u003cdiv class=\"sk-toggleable__content\"\u003e\u003cpre\u003eStandardScaler()\u003c/pre\u003e\u003c/div\u003e\u003c/div\u003e\u003c/div\u003e\u003cdiv class=\"sk-item\"\u003e\u003cdiv class=\"sk-estimator sk-toggleable\"\u003e\u003cinput class=\"sk-toggleable__control sk-hidden--visually\" id=\"sk-estimator-id-9\" type=\"checkbox\" \u003e\u003clabel for=\"sk-estimator-id-9\" class=\"sk-toggleable__label sk-toggleable__label-arrow\"\u003ePolynomialFeatures\u003c/label\u003e\u003cdiv class=\"sk-toggleable__content\"\u003e\u003cpre\u003ePolynomialFeatures()\u003c/pre\u003e\u003c/div\u003e\u003c/div\u003e\u003c/div\u003e\u003c/div\u003e\u003c/div\u003e\u003c/div\u003e\u003c/div\u003e\u003c/div\u003e\u003c/div\u003e\u003c/div\u003e\u003cdiv class=\"sk-item\"\u003e\u003cdiv class=\"sk-estimator sk-toggleable\"\u003e\u003cinput class=\"sk-toggleable__control sk-hidden--visually\" id=\"sk-estimator-id-10\" type=\"checkbox\" \u003e\u003clabel for=\"sk-estimator-id-10\" class=\"sk-toggleable__label sk-toggleable__label-arrow\"\u003eLinearRegression\u003c/label\u003e\u003cdiv class=\"sk-toggleable__content\"\u003e\u003cpre\u003eLinearRegression(fit_intercept=False)\u003c/pre\u003e\u003c/div\u003e\u003c/div\u003e\u003c/div\u003e\u003c/div\u003e\u003c/div\u003e\u003c/div\u003e\u003c/div\u003e",
                        "text/plain": "Pipeline(steps=[('big_clubs',\n                 \u003c__main__.DataframeTransformer object at 0x7f0cf1869f10\u003e),\n                ('preprocessor',\n                 ColumnTransformer(transformers=[('cat',\n                                                  OneHotEncoder(drop='first',\n                                                                handle_unknown='ignore',\n                                                                sparse=False),\n                                                  ['position_cat',\n                                                   'new_signing', 'big_club',\n                                                   'region']),\n                                                 ('num',\n                                                  Pipeline(steps=[('stdscaler',\n                                                                   StandardScaler()),\n                                                                  ('polynomial',\n                                                                   PolynomialFeatures())]),\n                                                  ['page_views',\n                                                   'fpl_points'])])),\n                ('regressor', LinearRegression(fit_intercept=False))])"
                    },
                    "execution_count": 63,
                    "metadata": {},
                    "output_type": "execute_result"
                }
            ],
            "source": [
                "from sklearn.impute import SimpleImputer\n",
                "class DataframeTransformer():\n",
                "    def __init__(self, func):\n",
                "        self.func = func\n",
                "\n",
                "    def transform(self, input_df, **params):\n",
                "        return self.func(input_df)\n",
                "\n",
                "    def fit(self, X, y=None, **fit_params):\n",
                "        return self\n",
                "\n",
                "# modify data frame to create new columns\n",
                "def process_dataframe(df):\n",
                "    big_clubs = ['Arsenal', 'Chelsea', 'Liverpool', 'Manchester+City',\n",
                "     'Manchester+United', 'Tottenham']\n",
                "    \n",
                "    df['big_club'] = df.apply(lambda row: 1 \\\n",
                "                                if row['club'] in big_clubs else 0, axis=1)  \n",
                "    \n",
                "    return df[categorical_cols+numerical_cols]\n",
                "\n",
                "categorical_cols = ['position_cat', 'new_signing', 'big_club', 'region'] \n",
                "numerical_cols = ['page_views', 'fpl_points'] \n",
                "\n",
                "# arguments for one-hot encoder\n",
                "drop_strategy = 'first'\n",
                "unknown_strategy = 'ignore'\n",
                "\n",
                "# transform categoricals, alternatives: drop='if_binary', 'first', handle_unknown='error'\n",
                "categorical_preprocessor = OneHotEncoder(drop=drop_strategy, \n",
                "                                         sparse=False,\n",
                "                                         handle_unknown=unknown_strategy) \n",
                "\n",
                "# arguments for Polynomial features\n",
                "poly_deg = 2\n",
                "include_bias = True\n",
                "fit_intercept = False\n",
                "\n",
                "# transform numericals\n",
                "numeric_preprocessor = Pipeline([\n",
                "                    #('imputer', SimpleImputer(fill_value=0.0)), # for later\n",
                "                    ('stdscaler', StandardScaler()),\n",
                "                    ('polynomial', PolynomialFeatures(degree=poly_deg, \n",
                "                                                      include_bias=include_bias)),                             \n",
                "])\n",
                "\n",
                "# bring all transformations together\n",
                "preprocessor = ColumnTransformer([\n",
                "               ('cat', categorical_preprocessor, categorical_cols),\n",
                "              #('reduce_dim', PCA(n_components=4)) # for later\n",
                "               ('num', numeric_preprocessor, numerical_cols)\n",
                "])\n",
                "\n",
                "model = Pipeline([\n",
                "                 ('big_clubs', DataframeTransformer(process_dataframe)),\n",
                "                 ('preprocessor', preprocessor),\n",
                "                 ('regressor', LinearRegression(fit_intercept=fit_intercept))\n",
                "])\n",
                "\n",
                "model.fit(train_data, y_train)\n",
                "print(f'R^2 on train set: {model.score(train_data, y_train):.3}') # R^2\n",
                "print(f'R^2 on test set: {model.score(test_data, y_test):.3}') # R^2\n",
                "model"
            ]
        },
        {
            "cell_type": "code",
            "execution_count": 64,
            "metadata": {},
            "outputs": [
                {
                    "data": {
                        "text/plain": "(0.0,\n array([ 0.92723291, -0.00882128, -1.59779194,  2.46830241,  8.01389853,\n         1.67872629,  1.91760344,  2.43550242,  5.43626528,  4.12534725,\n         3.02051612, -0.18000918,  1.20007183,  0.81198801]))"
                    },
                    "execution_count": 64,
                    "metadata": {},
                    "output_type": "execute_result"
                }
            ],
            "source": [
                "# grab the linear regressor\n",
                "linear_regressor = model.named_steps['regressor']\n",
                "linear_regressor.intercept_, linear_regressor.coef_"
            ]
        },
        {
            "cell_type": "code",
            "execution_count": 65,
            "metadata": {},
            "outputs": [
                {
                    "data": {
                        "text/plain": "['position_cat_2',\n 'position_cat_3',\n 'position_cat_4',\n 'new_signing_1',\n 'big_club_1',\n 'region_2',\n 'region_3',\n 'region_4',\n '1',\n 'page_views',\n 'fpl_points',\n 'page_views^2',\n 'page_views fpl_points',\n 'fpl_points^2']"
                    },
                    "execution_count": 65,
                    "metadata": {},
                    "output_type": "execute_result"
                }
            ],
            "source": [
                "ohe = (model.named_steps['preprocessor'].named_transformers_['cat'])\n",
                "ohe_names = ohe.get_feature_names_out(input_features=categorical_cols)\n",
                "scaler_names = model.named_steps['preprocessor'].transformers_[1][1]\\\n",
                "                    .named_steps['polynomial'].get_feature_names_out(numerical_cols)\n",
                "feature_names = np.r_[ohe_names, scaler_names]\n",
                "feature_names = list(feature_names)\n",
                "feature_names"
            ]
        },
        {
            "cell_type": "code",
            "execution_count": 66,
            "metadata": {},
            "outputs": [
                {
                    "name": "stdout",
                    "output_type": "stream",
                    "text": "Intercept: 0.0\n"
                },
                {
                    "data": {
                        "text/html": "\u003cdiv\u003e\n\u003cstyle scoped\u003e\n    .dataframe tbody tr th:only-of-type {\n        vertical-align: middle;\n    }\n\n    .dataframe tbody tr th {\n        vertical-align: top;\n    }\n\n    .dataframe thead th {\n        text-align: right;\n    }\n\u003c/style\u003e\n\u003ctable border=\"1\" class=\"dataframe\"\u003e\n  \u003cthead\u003e\n    \u003ctr style=\"text-align: right;\"\u003e\n      \u003cth\u003e\u003c/th\u003e\n      \u003cth\u003efeature\u003c/th\u003e\n      \u003cth\u003ecoeff\u003c/th\u003e\n    \u003c/tr\u003e\n  \u003c/thead\u003e\n  \u003ctbody\u003e\n    \u003ctr\u003e\n      \u003cth\u003e0\u003c/th\u003e\n      \u003ctd\u003eposition_cat_2\u003c/td\u003e\n      \u003ctd\u003e0.927233\u003c/td\u003e\n    \u003c/tr\u003e\n    \u003ctr\u003e\n      \u003cth\u003e1\u003c/th\u003e\n      \u003ctd\u003eposition_cat_3\u003c/td\u003e\n      \u003ctd\u003e-0.008821\u003c/td\u003e\n    \u003c/tr\u003e\n    \u003ctr\u003e\n      \u003cth\u003e2\u003c/th\u003e\n      \u003ctd\u003eposition_cat_4\u003c/td\u003e\n      \u003ctd\u003e-1.597792\u003c/td\u003e\n    \u003c/tr\u003e\n    \u003ctr\u003e\n      \u003cth\u003e3\u003c/th\u003e\n      \u003ctd\u003enew_signing_1\u003c/td\u003e\n      \u003ctd\u003e2.468302\u003c/td\u003e\n    \u003c/tr\u003e\n    \u003ctr\u003e\n      \u003cth\u003e4\u003c/th\u003e\n      \u003ctd\u003ebig_club_1\u003c/td\u003e\n      \u003ctd\u003e8.013899\u003c/td\u003e\n    \u003c/tr\u003e\n    \u003ctr\u003e\n      \u003cth\u003e5\u003c/th\u003e\n      \u003ctd\u003eregion_2\u003c/td\u003e\n      \u003ctd\u003e1.678726\u003c/td\u003e\n    \u003c/tr\u003e\n    \u003ctr\u003e\n      \u003cth\u003e6\u003c/th\u003e\n      \u003ctd\u003eregion_3\u003c/td\u003e\n      \u003ctd\u003e1.917603\u003c/td\u003e\n    \u003c/tr\u003e\n    \u003ctr\u003e\n      \u003cth\u003e7\u003c/th\u003e\n      \u003ctd\u003eregion_4\u003c/td\u003e\n      \u003ctd\u003e2.435502\u003c/td\u003e\n    \u003c/tr\u003e\n    \u003ctr\u003e\n      \u003cth\u003e8\u003c/th\u003e\n      \u003ctd\u003e1\u003c/td\u003e\n      \u003ctd\u003e5.436265\u003c/td\u003e\n    \u003c/tr\u003e\n    \u003ctr\u003e\n      \u003cth\u003e9\u003c/th\u003e\n      \u003ctd\u003epage_views\u003c/td\u003e\n      \u003ctd\u003e4.125347\u003c/td\u003e\n    \u003c/tr\u003e\n    \u003ctr\u003e\n      \u003cth\u003e10\u003c/th\u003e\n      \u003ctd\u003efpl_points\u003c/td\u003e\n      \u003ctd\u003e3.020516\u003c/td\u003e\n    \u003c/tr\u003e\n    \u003ctr\u003e\n      \u003cth\u003e11\u003c/th\u003e\n      \u003ctd\u003epage_views^2\u003c/td\u003e\n      \u003ctd\u003e-0.180009\u003c/td\u003e\n    \u003c/tr\u003e\n    \u003ctr\u003e\n      \u003cth\u003e12\u003c/th\u003e\n      \u003ctd\u003epage_views fpl_points\u003c/td\u003e\n      \u003ctd\u003e1.200072\u003c/td\u003e\n    \u003c/tr\u003e\n    \u003ctr\u003e\n      \u003cth\u003e13\u003c/th\u003e\n      \u003ctd\u003efpl_points^2\u003c/td\u003e\n      \u003ctd\u003e0.811988\u003c/td\u003e\n    \u003c/tr\u003e\n  \u003c/tbody\u003e\n\u003c/table\u003e\n\u003c/div\u003e",
                        "text/plain": "                  feature     coeff\n0          position_cat_2  0.927233\n1          position_cat_3 -0.008821\n2          position_cat_4 -1.597792\n3           new_signing_1  2.468302\n4              big_club_1  8.013899\n5                region_2  1.678726\n6                region_3  1.917603\n7                region_4  2.435502\n8                       1  5.436265\n9              page_views  4.125347\n10             fpl_points  3.020516\n11           page_views^2 -0.180009\n12  page_views fpl_points  1.200072\n13           fpl_points^2  0.811988"
                    },
                    "execution_count": 66,
                    "metadata": {},
                    "output_type": "execute_result"
                }
            ],
            "source": [
                "print(f'Intercept: {linear_regressor.intercept_:.3}')\n",
                "pd.DataFrame(zip(feature_names, linear_regressor.coef_), columns=['feature', 'coeff'])"
            ]
        },
        {
            "attachments": {},
            "cell_type": "markdown",
            "metadata": {},
            "source": [
                "### Can we again predict Jeffrey Schlupp's fantasy market value using pipelines?"
            ]
        },
        {
            "cell_type": "code",
            "execution_count": 67,
            "metadata": {
                "scrolled": true
            },
            "outputs": [
                {
                    "data": {
                        "text/html": "\u003cdiv\u003e\n\u003cstyle scoped\u003e\n    .dataframe tbody tr th:only-of-type {\n        vertical-align: middle;\n    }\n\n    .dataframe tbody tr th {\n        vertical-align: top;\n    }\n\n    .dataframe thead th {\n        text-align: right;\n    }\n\u003c/style\u003e\n\u003ctable border=\"1\" class=\"dataframe\"\u003e\n  \u003cthead\u003e\n    \u003ctr style=\"text-align: right;\"\u003e\n      \u003cth\u003e\u003c/th\u003e\n      \u003cth\u003ename\u003c/th\u003e\n      \u003cth\u003eclub\u003c/th\u003e\n      \u003cth\u003eage\u003c/th\u003e\n      \u003cth\u003eposition\u003c/th\u003e\n      \u003cth\u003eposition_cat\u003c/th\u003e\n      \u003cth\u003epage_views\u003c/th\u003e\n      \u003cth\u003efpl_points\u003c/th\u003e\n      \u003cth\u003eregion\u003c/th\u003e\n      \u003cth\u003enationality\u003c/th\u003e\n      \u003cth\u003enew_foreign\u003c/th\u003e\n      \u003cth\u003eclub_id\u003c/th\u003e\n      \u003cth\u003enew_signing\u003c/th\u003e\n    \u003c/tr\u003e\n  \u003c/thead\u003e\n  \u003ctbody\u003e\n    \u003ctr\u003e\n      \u003cth\u003e0\u003c/th\u003e\n      \u003ctd\u003eJeffrey Schlupp\u003c/td\u003e\n      \u003ctd\u003eCrystal+Palace\u003c/td\u003e\n      \u003ctd\u003e24\u003c/td\u003e\n      \u003ctd\u003eLB\u003c/td\u003e\n      \u003ctd\u003e3\u003c/td\u003e\n      \u003ctd\u003e385\u003c/td\u003e\n      \u003ctd\u003e47\u003c/td\u003e\n      \u003ctd\u003e4\u003c/td\u003e\n      \u003ctd\u003eGhana\u003c/td\u003e\n      \u003ctd\u003e0\u003c/td\u003e\n      \u003ctd\u003e6\u003c/td\u003e\n      \u003ctd\u003e0\u003c/td\u003e\n    \u003c/tr\u003e\n  \u003c/tbody\u003e\n\u003c/table\u003e\n\u003c/div\u003e",
                        "text/plain": "              name            club  age position  position_cat  page_views  \\\n0  Jeffrey Schlupp  Crystal+Palace   24       LB             3         385   \n\n   fpl_points  region nationality  new_foreign  club_id  new_signing  \n0          47       4       Ghana            0        6            0  "
                    },
                    "execution_count": 67,
                    "metadata": {},
                    "output_type": "execute_result"
                }
            ],
            "source": [
                "jeffrey_df = pd.read_csv(\"data/jeffrey.csv\")\n",
                "jeffrey_df"
            ]
        },
        {
            "attachments": {},
            "cell_type": "markdown",
            "metadata": {},
            "source": [
                "### It's a ONE LINER!!"
            ]
        },
        {
            "cell_type": "code",
            "execution_count": 68,
            "metadata": {},
            "outputs": [
                {
                    "name": "stdout",
                    "output_type": "stream",
                    "text": "Prediction: 5.76\n"
                }
            ],
            "source": [
                "single_pred = model.predict(jeffrey_df)\n",
                "print(f'Prediction: {single_pred[0]:.3}')"
            ]
        },
        {
            "attachments": {},
            "cell_type": "markdown",
            "metadata": {},
            "source": [
                "## Appendix "
            ]
        },
        {
            "attachments": {},
            "cell_type": "markdown",
            "metadata": {},
            "source": [
                "### Machine Learning libraries\n",
                "\n",
                "Two of the most popular Python libraries used in data science and machine learning are:\n",
                "\n",
                "1. `Scikit-learn (sklearn)` is an open source machine learning library that supports supervised and unsupervised learning. It also provides various tools for model fitting, data preprocessing, model selection, model evaluation, and many other utilities. `sklearn` is focused on the _prediction_ task: given \\[new\\] data, guess what the response value is.  \n",
                "\n",
                "2. `statsmodels` is focused on the _inference_ task: guess good values for the betas and discuss how certain you are in those answers. \n",
                "\n",
                "For more of their similarities and differences see article in medium.com: [Linear Regression in Scikit-learn vs Statsmodels]( https://medium.com/@hsrinivasan2/linear-regression-in-scikit-learn-vs-statsmodels-568b60792991)"
            ]
        },
        {
            "attachments": {},
            "cell_type": "markdown",
            "metadata": {},
            "source": [
                "### A more generic way of creating a new column is by applying a function (any function) on other columns\n",
                "e.g.\n",
                "```\n",
                "df['new_column'] = df.apply(lambda row: func(row, 'column', args), axis=1)\n",
                "```  "
            ]
        },
        {
            "cell_type": "code",
            "execution_count": 69,
            "metadata": {},
            "outputs": [],
            "source": [
                "big_clubs = ['Arsenal', 'Chelsea', 'Liverpool', 'Manchester+City',\n",
                "     'Manchester+United', 'Tottenham']\n",
                "\n",
                "def is_big_club(dataframe, club, list_of_big_clubs):\n",
                "    \"\"\"\n",
                "    Check if a club belongs to the list of big clubs\n",
                "    \"\"\"    \n",
                "    return 1 if dataframe[club] in list_of_big_clubs else 0\n",
                "\n",
                "\n",
                "# creating a new column by applying a function in other columns\n",
                "league_df['big_club'] = league_df.apply(lambda row: \\\n",
                "                                         is_big_club(row, 'club', big_clubs), \n",
                "                                         axis=1) "
            ]
        },
        {
            "cell_type": "code",
            "execution_count": 70,
            "metadata": {},
            "outputs": [],
            "source": [
                "# pandas magic"
            ]
        },
        {
            "cell_type": "code",
            "execution_count": 71,
            "metadata": {},
            "outputs": [
                {
                    "data": {
                        "text/html": "\u003cdiv\u003e\n\u003cstyle scoped\u003e\n    .dataframe tbody tr th:only-of-type {\n        vertical-align: middle;\n    }\n\n    .dataframe tbody tr th {\n        vertical-align: top;\n    }\n\n    .dataframe thead th {\n        text-align: right;\n    }\n\u003c/style\u003e\n\u003ctable border=\"1\" class=\"dataframe\"\u003e\n  \u003cthead\u003e\n    \u003ctr style=\"text-align: right;\"\u003e\n      \u003cth\u003e\u003c/th\u003e\n      \u003cth\u003emarket_value\u003c/th\u003e\n      \u003cth\u003epage_views\u003c/th\u003e\n      \u003cth\u003efpl_points\u003c/th\u003e\n    \u003c/tr\u003e\n    \u003ctr\u003e\n      \u003cth\u003eposition\u003c/th\u003e\n      \u003cth\u003e\u003c/th\u003e\n      \u003cth\u003e\u003c/th\u003e\n      \u003cth\u003e\u003c/th\u003e\n    \u003c/tr\u003e\n  \u003c/thead\u003e\n  \u003ctbody\u003e\n    \u003ctr\u003e\n      \u003cth\u003eAM\u003c/th\u003e\n      \u003ctd\u003e24.500000\u003c/td\u003e\n      \u003ctd\u003e1001.5\u003c/td\u003e\n      \u003ctd\u003e199\u003c/td\u003e\n    \u003c/tr\u003e\n    \u003ctr\u003e\n      \u003cth\u003eLW\u003c/th\u003e\n      \u003ctd\u003e13.693333\u003c/td\u003e\n      \u003ctd\u003e492.0\u003c/td\u003e\n      \u003ctd\u003e264\u003c/td\u003e\n    \u003c/tr\u003e\n    \u003ctr\u003e\n      \u003cth\u003eCF\u003c/th\u003e\n      \u003ctd\u003e12.688776\u003c/td\u003e\n      \u003ctd\u003e742.0\u003c/td\u003e\n      \u003ctd\u003e196\u003c/td\u003e\n    \u003c/tr\u003e\n    \u003ctr\u003e\n      \u003cth\u003eRW\u003c/th\u003e\n      \u003ctd\u003e11.375000\u003c/td\u003e\n      \u003ctd\u003e508.0\u003c/td\u003e\n      \u003ctd\u003e162\u003c/td\u003e\n    \u003c/tr\u003e\n    \u003ctr\u003e\n      \u003cth\u003eSS\u003c/th\u003e\n      \u003ctd\u003e11.357143\u003c/td\u003e\n      \u003ctd\u003e997.0\u003c/td\u003e\n      \u003ctd\u003e180\u003c/td\u003e\n    \u003c/tr\u003e\n    \u003ctr\u003e\n      \u003cth\u003eCM\u003c/th\u003e\n      \u003ctd\u003e11.348039\u003c/td\u003e\n      \u003ctd\u003e432.0\u003c/td\u003e\n      \u003ctd\u003e149\u003c/td\u003e\n    \u003c/tr\u003e\n    \u003ctr\u003e\n      \u003cth\u003eDM\u003c/th\u003e\n      \u003ctd\u003e10.767857\u003c/td\u003e\n      \u003ctd\u003e513.5\u003c/td\u003e\n      \u003ctd\u003e131\u003c/td\u003e\n    \u003c/tr\u003e\n    \u003ctr\u003e\n      \u003cth\u003eCB\u003c/th\u003e\n      \u003ctd\u003e9.083088\u003c/td\u003e\n      \u003ctd\u003e327.5\u003c/td\u003e\n      \u003ctd\u003e127\u003c/td\u003e\n    \u003c/tr\u003e\n    \u003ctr\u003e\n      \u003cth\u003eRM\u003c/th\u003e\n      \u003ctd\u003e8.666667\u003c/td\u003e\n      \u003ctd\u003e139.0\u003c/td\u003e\n      \u003ctd\u003e83\u003c/td\u003e\n    \u003c/tr\u003e\n    \u003ctr\u003e\n      \u003cth\u003eRB\u003c/th\u003e\n      \u003ctd\u003e8.375000\u003c/td\u003e\n      \u003ctd\u003e281.5\u003c/td\u003e\n      \u003ctd\u003e170\u003c/td\u003e\n    \u003c/tr\u003e\n    \u003ctr\u003e\n      \u003cth\u003eLB\u003c/th\u003e\n      \u003ctd\u003e8.125000\u003c/td\u003e\n      \u003ctd\u003e346.5\u003c/td\u003e\n      \u003ctd\u003e177\u003c/td\u003e\n    \u003c/tr\u003e\n    \u003ctr\u003e\n      \u003cth\u003eGK\u003c/th\u003e\n      \u003ctd\u003e7.775000\u003c/td\u003e\n      \u003ctd\u003e398.5\u003c/td\u003e\n      \u003ctd\u003e143\u003c/td\u003e\n    \u003c/tr\u003e\n    \u003ctr\u003e\n      \u003cth\u003eLM\u003c/th\u003e\n      \u003ctd\u003e4.000000\u003c/td\u003e\n      \u003ctd\u003e325.5\u003c/td\u003e\n      \u003ctd\u003e99\u003c/td\u003e\n    \u003c/tr\u003e\n  \u003c/tbody\u003e\n\u003c/table\u003e\n\u003c/div\u003e",
                        "text/plain": "          market_value  page_views  fpl_points\nposition                                      \nAM           24.500000      1001.5         199\nLW           13.693333       492.0         264\nCF           12.688776       742.0         196\nRW           11.375000       508.0         162\nSS           11.357143       997.0         180\nCM           11.348039       432.0         149\nDM           10.767857       513.5         131\nCB            9.083088       327.5         127\nRM            8.666667       139.0          83\nRB            8.375000       281.5         170\nLB            8.125000       346.5         177\nGK            7.775000       398.5         143\nLM            4.000000       325.5          99"
                    },
                    "execution_count": 71,
                    "metadata": {},
                    "output_type": "execute_result"
                }
            ],
            "source": [
                "position_df = train_data.groupby('position').agg({\n",
                "                                'market_value': np.mean,\n",
                "                                'page_views': np.median,\n",
                "                                'fpl_points': np.max\n",
                "})\n",
                "position_df.sort_values(by='market_value', ascending=False)"
            ]
        },
        {
            "attachments": {},
            "cell_type": "markdown",
            "metadata": {},
            "source": [
                "### Using pandas `get_dummies()`\n",
                "\n",
                "By default keeps all $k$ dummies out of $k$ categorical levels. Can be made to remove the first level, so that we have $k-1$ dummies.\n",
                "```\n",
                "dummies_train = pd.get_dummies(train_data[categorical_cols], drop_first=True)\n",
                "```\n",
                "\n",
                "**Note**: if the test dataset has a category that does not exist in the training set, this will throw an error."
            ]
        },
        {
            "cell_type": "code",
            "execution_count": 72,
            "metadata": {},
            "outputs": [],
            "source": [
                "# age_bins = [16, 21, 24, 27, 31, 33, 38]\n",
                "# age_labels = [1, 2, 3, 4, 5, 6]\n",
                "# league_df['age_cat'] = pd.cut(x=league_df['age'],\\\n",
                "#                                  bins=age_bins, \n",
                "#                                  labels=age_labels) "
            ]
        },
        {
            "cell_type": "code",
            "execution_count": 73,
            "metadata": {},
            "outputs": [],
            "source": [
                "# BINARY - 'new' {0,1}: {0:A1, 1:A2}\n",
                "# df['new'] = np.where(df['old'] == 'A1', 0, 1)\n",
                "\n",
                "# # BINARY - 'new' {0,1}: {0: normal+cr, 1: ch+eh}  \n",
                "# # decision to put missing values = 0, basically ignoring\n",
                "# A_dict = {'A1': 0,'A2': 1, 'A3': 3, 'A4': 4, None:0} \n",
                "# df['new'] = [df[item] for item in df['old']]"
            ]
        },
        {
            "cell_type": "code",
            "execution_count": 74,
            "metadata": {},
            "outputs": [],
            "source": [
                "# (optional) reset indices \n",
                "# train_data.reset_index(inplace=True, drop=True)\n",
                "# test_data.reset_index(inplace=True, drop=True)\n",
                "# y_train.reset_index(inplace=True, drop=True)\n",
                "# y_test.reset_index(inplace=True, drop=True)"
            ]
        },
        {
            "cell_type": "code",
            "execution_count": 75,
            "metadata": {},
            "outputs": [],
            "source": [
                "#plt.scatter(X_train['age'], y_train)"
            ]
        },
        {
            "cell_type": "code",
            "execution_count": 76,
            "metadata": {},
            "outputs": [],
            "source": [
                ""
            ]
        }
    ]
}
