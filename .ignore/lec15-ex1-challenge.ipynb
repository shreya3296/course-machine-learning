{
 "cells": [
  {
   "cell_type": "code",
   "execution_count": 1,
   "metadata": {},
   "outputs": [],
   "source": [
    "# import important libraries\n",
    "\n",
    "%matplotlib inline\n",
    "import numpy as np\n",
    "import pandas as pd\n",
    "from math import exp\n",
    "import matplotlib.pyplot as plt\n",
    "from sklearn.preprocessing import normalize\n",
    "from sklearn.metrics import accuracy_score"
   ]
  },
  {
   "cell_type": "code",
   "execution_count": 2,
   "metadata": {},
   "outputs": [],
   "source": [
    "# Make a dataframe of the file \"insurance_claim.csv\"\n",
    "\n",
    "data_filename = 'insurance_claim.csv'\n",
    "df = pd.read_csv(data_filename)"
   ]
  },
  {
   "cell_type": "code",
   "execution_count": 3,
   "metadata": {},
   "outputs": [
    {
     "data": {
      "text/html": [
       "<div>\n",
       "<style scoped>\n",
       "    .dataframe tbody tr th:only-of-type {\n",
       "        vertical-align: middle;\n",
       "    }\n",
       "\n",
       "    .dataframe tbody tr th {\n",
       "        vertical-align: top;\n",
       "    }\n",
       "\n",
       "    .dataframe thead th {\n",
       "        text-align: right;\n",
       "    }\n",
       "</style>\n",
       "<table border=\"1\" class=\"dataframe\">\n",
       "  <thead>\n",
       "    <tr style=\"text-align: right;\">\n",
       "      <th></th>\n",
       "      <th>age</th>\n",
       "      <th>insuranceclaim</th>\n",
       "    </tr>\n",
       "  </thead>\n",
       "  <tbody>\n",
       "    <tr>\n",
       "      <th>0</th>\n",
       "      <td>18.437371</td>\n",
       "      <td>0</td>\n",
       "    </tr>\n",
       "    <tr>\n",
       "      <th>1</th>\n",
       "      <td>19.539508</td>\n",
       "      <td>0</td>\n",
       "    </tr>\n",
       "    <tr>\n",
       "      <th>2</th>\n",
       "      <td>19.921685</td>\n",
       "      <td>0</td>\n",
       "    </tr>\n",
       "    <tr>\n",
       "      <th>3</th>\n",
       "      <td>20.625442</td>\n",
       "      <td>0</td>\n",
       "    </tr>\n",
       "    <tr>\n",
       "      <th>4</th>\n",
       "      <td>21.139852</td>\n",
       "      <td>0</td>\n",
       "    </tr>\n",
       "  </tbody>\n",
       "</table>\n",
       "</div>"
      ],
      "text/plain": [
       "         age  insuranceclaim\n",
       "0  18.437371               0\n",
       "1  19.539508               0\n",
       "2  19.921685               0\n",
       "3  20.625442               0\n",
       "4  21.139852               0"
      ]
     },
     "execution_count": 3,
     "metadata": {},
     "output_type": "execute_result"
    }
   ],
   "source": [
    "# Take a quick look of the data, notice that the response variable is binary\n",
    "\n",
    "df.head()"
   ]
  },
  {
   "cell_type": "code",
   "execution_count": 4,
   "metadata": {},
   "outputs": [],
   "source": [
    "# Assign age as the predictor variable using double brackets\n",
    "x = df[['age']]\n",
    "\n",
    "# Assign insuranceclaim as the response variable\n",
    "y = df['insuranceclaim']\n"
   ]
  },
  {
   "cell_type": "code",
   "execution_count": 5,
   "metadata": {},
   "outputs": [
    {
     "data": {
      "image/png": "[encoded data removed]",
      "text/plain": [
       "<Figure size 640x480 with 1 Axes>"
      ]
     },
     "metadata": {},
     "output_type": "display_data"
    }
   ],
   "source": [
    "# Make a plot of the response (insuranceclaim) vs the predictor (age)\n",
    "plt.plot(x, y, 'o', markersize=7, color=\"#011DAD\", label=\"Data\")\n",
    "\n",
    "# Add the labels for the axes\n",
    "plt.xlabel(\"Age\")\n",
    "plt.ylabel(\"Insurance claim\")\n",
    "\n",
    "plt.xticks(np.arange(18, 80, 4.0))\n",
    "\n",
    "# Label the value 1 as 'Yes' & 0 as 'No'\n",
    "plt.yticks((0,1), labels=('No', 'Yes'))\n",
    "plt.legend(loc='best')\n",
    "plt.show()"
   ]
  },
  {
   "attachments": {},
   "cell_type": "markdown",
   "metadata": {},
   "source": [
    "Guesstimate the values of $\\beta_0$ & $\\beta_1$\n",
    "\n",
    "Refer to the slides for information of how they affect the shape of the logistic (sigmoid) curve.\n"
   ]
  },
  {
   "cell_type": "code",
   "execution_count": 6,
   "metadata": {},
   "outputs": [],
   "source": [
    "### edTest(test_beta_guesstimate) ###\n",
    "\n",
    "\n",
    "# Initial guesstimate for the coefficients\n",
    "beta_0 = -10\n",
    "beta_1 = 0.2\n"
   ]
  },
  {
   "attachments": {},
   "cell_type": "markdown",
   "metadata": {},
   "source": [
    "Define the logistic function below and use it to predict the probability of a positive response value given each value of `age` in the dataset.\n",
    "\n",
    "Store these predicted probabilities in the variable `probas` which can be a list or array. You can do this through looping or take advantage of vector operations.\n",
    "\n",
    "Note: It is acceptable for this exercise to access the external `beta0` & `beta1` variables in your `logistic` function.\n",
    "\n",
    "Hint: `np.exp()` may be useful here."
   ]
  },
  {
   "cell_type": "code",
   "execution_count": 7,
   "metadata": {},
   "outputs": [
    {
     "data": {
      "text/plain": [
       "array([[0.00181016],\n",
       "       [0.00225556],\n",
       "       [0.00243429],\n",
       "       [0.00280117],\n",
       "       [0.00310377]])"
      ]
     },
     "execution_count": 7,
     "metadata": {},
     "output_type": "execute_result"
    }
   ],
   "source": [
    "\n",
    "def logistic(x):\n",
    "    \"\"\"Compute the logistic function given x.\"\"\"\n",
    "    return 1 / (1 + np.exp(- (beta_0 + beta_1 * x)))\n",
    "\n",
    "# Predicted probabilities for each age value in the dataset\n",
    "probas = logistic(x.values)\n",
    "\n",
    "probas[:5]  # Displaying the first few predicted probabilities for verification\n"
   ]
  },
  {
   "attachments": {},
   "cell_type": "markdown",
   "metadata": {},
   "source": [
    "**Convert the probabilities to classifications**\n",
    "\n",
    "If the predictions are above a threshold of 0.5, predict 1, otherwise predict 0. Store the predicted class labels in `y_pred`\n"
   ]
  },
  {
   "cell_type": "code",
   "execution_count": 8,
   "metadata": {},
   "outputs": [
    {
     "data": {
      "text/plain": [
       "array([[0],\n",
       "       [0],\n",
       "       [0],\n",
       "       [0],\n",
       "       [0]])"
      ]
     },
     "execution_count": 8,
     "metadata": {},
     "output_type": "execute_result"
    }
   ],
   "source": [
    "\n",
    "# Convert predicted probabilities to binary outcomes (0 or 1) based on a threshold of 0.5\n",
    "y_pred = (probas > 0.5).astype(int)\n",
    "\n",
    "y_pred[:5]  # Displaying the first few predicted class labels for verification\n"
   ]
  },
  {
   "attachments": {},
   "cell_type": "markdown",
   "metadata": {},
   "source": [
    "**Calculate Accuracy**\n",
    "\n",
    "See if you can get an accuracy above 90%"
   ]
  },
  {
   "cell_type": "code",
   "execution_count": 9,
   "metadata": {},
   "outputs": [
    {
     "data": {
      "text/plain": [
       "0.89"
      ]
     },
     "execution_count": 9,
     "metadata": {},
     "output_type": "execute_result"
    }
   ],
   "source": [
    "### edTest(test_acc) ###\n",
    "\n",
    "# Calculate accuracy using the accuracy_score function\n",
    "accuracy = accuracy_score(y, y_pred)\n",
    "\n",
    "# Print the accuracy\n",
    "accuracy"
   ]
  },
  {
   "attachments": {},
   "cell_type": "markdown",
   "metadata": {},
   "source": [
    "Complete the plot by providing the correct data (see label arguments for guidance).\n",
    "\n",
    "This plot will help you adjust your betas for better accuracy."
   ]
  },
  {
   "cell_type": "code",
   "execution_count": 10,
   "metadata": {},
   "outputs": [
    {
     "data": {
      "image/png": "[encoded data removed]",
      "text/plain": [
       "<Figure size 640x480 with 1 Axes>"
      ]
     },
     "metadata": {},
     "output_type": "display_data"
    }
   ],
   "source": [
    "# Make a plot similar to the one above along with the fit curve\n",
    "\n",
    "plt.plot(x, y, 'o', markersize=7, color=\"#011DAD\", label=\"Data\")\n",
    "plt.plot(x, y_pred, linewidth=2, color='black', label=\"Classifications\")\n",
    "plt.plot(x, probas, linewidth=2, color='red', label=\"Probabilities\")\n",
    "\n",
    "\n",
    "plt.xticks(np.arange(18, 80, 4.0))\n",
    "plt.xlabel(\"Age\")\n",
    "plt.ylabel(\"Insurance claim\")\n",
    "plt.yticks((0,1), labels=('No', 'Yes'))\n",
    "plt.legend()\n",
    "plt.show()"
   ]
  },
  {
   "attachments": {},
   "cell_type": "markdown",
   "metadata": {},
   "source": [
    "## Post exercise question:\n",
    "\n",
    "In this exercise, you may have had to stumble around to find the right values of $\\beta_0$ and $\\beta_1$ to get accurate results.\n",
    "\n",
    "Although you may have used visual inspection to find a good fit, in most problems you would need a quantative method to measure the performance of your model. (*Loss function*)\n",
    "\n",
    "Which of the following below are **NOT** possible ways of quantifying the performance of the model.\n",
    "\n",
    "- A. Compute the mean squared error loss of the predicted labels.\n",
    "- B. Evaluate the log-likelihood for this Bernoulli response variable.\n",
    "- C. Go the the temple of Apollo at Delphi, and ask the high priestess Pythia\n",
    "- D. Compute the total number of misclassified labels."
   ]
  },
  {
   "cell_type": "code",
   "execution_count": 12,
   "metadata": {},
   "outputs": [],
   "source": [
    "### edTest(test_quiz) ###\n",
    "\n",
    "# Put down your answers in a string format below (using quotes)\n",
    "\n",
    "# for. eg, if you think the options are 'A' & 'B', input below as \"A,B\"\n",
    "\n",
    "answer = \"C\""
   ]
  },
  {
   "cell_type": "code",
   "execution_count": null,
   "metadata": {},
   "outputs": [],
   "source": []
  }
 ],
 "metadata": {
  "kernelspec": {
   "display_name": "Python 3 (ipykernel)",
   "language": "python",
   "name": "python3"
  },
  "language_info": {
   "codemirror_mode": {
    "name": "ipython",
    "version": 3
   },
   "file_extension": ".py",
   "mimetype": "text/x-python",
   "name": "python",
   "nbconvert_exporter": "python",
   "pygments_lexer": "ipython3",
   "version": "3.11.5"
  }
 },
 "nbformat": 4,
 "nbformat_minor": 4
}
